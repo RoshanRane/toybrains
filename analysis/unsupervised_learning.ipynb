{
 "cells": [
  {
   "cell_type": "markdown",
   "id": "b17d7b90-7b47-4918-9a9d-9bc8d065ab70",
   "metadata": {},
   "source": [
    "# Unupervised Learning with toybrains dataset using Scikit-learn\n",
    "\n",
    "> Dev log (format < Date > | <Author(s)> )  \n",
    "> - Created: 07 June 2023 | JiHoon Kim <br>"
   ]
  },
  {
   "cell_type": "markdown",
   "id": "6060dbc8-b199-427e-89b9-18883287f4ba",
   "metadata": {},
   "source": [
    "## Installing Libraries"
   ]
  },
  {
   "cell_type": "code",
   "execution_count": 1,
   "id": "c8c56f51-f4b8-4791-88e8-e5d214c127c8",
   "metadata": {},
   "outputs": [],
   "source": [
    "%matplotlib inline\n",
    "%load_ext autoreload\n",
    "%autoreload 2"
   ]
  },
  {
   "cell_type": "code",
   "execution_count": 2,
   "id": "77361243-5698-404d-8f99-42951469e395",
   "metadata": {},
   "outputs": [],
   "source": [
    "# standard python packages\n",
    "\n",
    "import matplotlib.pyplot as plt"
   ]
  },
  {
   "cell_type": "code",
   "execution_count": 3,
   "id": "132f15cf-c80f-437c-b1c4-8846db9544fc",
   "metadata": {},
   "outputs": [],
   "source": [
    "# add custom imports\n",
    "# (TODO) refactoring needed\n",
    "\n",
    "from utils.dataset import generate_dataset\n",
    "from utils.sklearn import get_reduc_loader, run_logistic_regression"
   ]
  },
  {
   "cell_type": "markdown",
   "id": "d087d7d5-6620-4176-89b8-a09c7f6c129c",
   "metadata": {},
   "source": [
    "## Generating the synthetic dataset"
   ]
  },
  {
   "cell_type": "code",
   "execution_count": null,
   "id": "c4d7e5be-b3c4-4705-9f99-00722639a850",
   "metadata": {
    "tags": []
   },
   "outputs": [],
   "source": [
    "# ! python create_toybrains.py -d -n 10000"
   ]
  },
  {
   "cell_type": "markdown",
   "id": "99759e21-5442-44da-81dd-23a5dff890c3",
   "metadata": {},
   "source": [
    "## Loading the Dataset"
   ]
  },
  {
   "cell_type": "markdown",
   "id": "eca7db10-e110-49b9-9fdd-37d7d21fc26a",
   "metadata": {},
   "source": [
    "Set dataset Config"
   ]
  },
  {
   "cell_type": "code",
   "execution_count": 4,
   "id": "ff8921a0-5c65-4091-aba5-f2c1bd5b138e",
   "metadata": {},
   "outputs": [],
   "source": [
    "# set random seed\n",
    "\n",
    "seed = 42\n",
    "\n",
    "# set raw csv path\n",
    "\n",
    "raw_csv_path = '/ritter/share/projects/JiHoon/toybrains/dataset/toybrains1k/toybrains_n1000.csv'\n",
    "\n",
    "# set target label\n",
    "\n",
    "label = 'lblbin_shp' #, 'lblbin_shp-vol', 'lblbin_shp-vent'"
   ]
  },
  {
   "cell_type": "markdown",
   "id": "5aa27565-3163-4146-bc5f-3da8d674caf7",
   "metadata": {},
   "source": [
    "Load dataset (same generator from lightning)"
   ]
  },
  {
   "cell_type": "code",
   "execution_count": 5,
   "id": "3d7185ab-5746-48af-b5a8-e9cfb3adda19",
   "metadata": {},
   "outputs": [],
   "source": [
    "# split the dataset for training, validation, and test from raw dataset\n",
    "\n",
    "dataset = generate_dataset(raw_csv_path, label, seed)"
   ]
  },
  {
   "cell_type": "markdown",
   "id": "23218269-91fe-484f-a1af-73a2dd3eea94",
   "metadata": {},
   "source": [
    "Set model config"
   ]
  },
  {
   "cell_type": "code",
   "execution_count": 6,
   "id": "0ef31570-8058-4ea3-a258-63ece8991c23",
   "metadata": {},
   "outputs": [],
   "source": [
    "# set dimensionality reduction method\n",
    "\n",
    "method = 'PCA' # PCA, MDS, ICA # (TODO) ICA, tSNE, LDA\n",
    "\n",
    "# set n_components\n",
    "\n",
    "n_components = 100"
   ]
  },
  {
   "cell_type": "markdown",
   "id": "8bce4f72-23a4-42b2-9c8c-08c363e94580",
   "metadata": {},
   "source": [
    "Run dimensionality reduction"
   ]
  },
  {
   "cell_type": "code",
   "execution_count": 7,
   "id": "89d84034-5667-469d-9df3-86d31352a06f",
   "metadata": {},
   "outputs": [
    {
     "name": "stdout",
     "output_type": "stream",
     "text": [
      "I am here\n",
      "dataset/toybrains1k/images/00029.jpg\n",
      "dataset/toybrains1k/images/00411.jpg\n",
      "dataset/toybrains1k/images/00436.jpg\n",
      "gone\n"
     ]
    }
   ],
   "source": [
    "# conduct dimensionality reduction\n",
    "\n",
    "data = get_reduc_loader(dataset = dataset, data_dir = 'toybrains1k', method = method, n_components=n_components, seed = seed)"
   ]
  },
  {
   "cell_type": "markdown",
   "id": "319e6ea7-0f6d-471a-88b6-33f1cd0032f3",
   "metadata": {},
   "source": [
    "Run logistic regression"
   ]
  },
  {
   "cell_type": "code",
   "execution_count": null,
   "id": "6ea535ff-d410-49ef-835a-694359928f8e",
   "metadata": {},
   "outputs": [],
   "source": [
    "# run logistic regression\n",
    "\n",
    "run_logistic_regression(data)"
   ]
  },
  {
   "cell_type": "markdown",
   "id": "1ff66996-76a7-4d80-b5c8-537b29c4f5e4",
   "metadata": {},
   "source": [
    "Example"
   ]
  },
  {
   "cell_type": "markdown",
   "id": "e0416746-5205-488a-b684-0abff727bffb",
   "metadata": {},
   "source": [
    "`Labels : 'lblbin_shp', 'lblbin_shp-vol', 'lblbin_shp-vent'`"
   ]
  },
  {
   "cell_type": "code",
   "execution_count": null,
   "id": "f635d9b0-1e94-408e-bd0d-11001c7d0476",
   "metadata": {},
   "outputs": [],
   "source": [
    "raw_csv_path = '/ritter/share/projects/JiHoon/toybrains/toybrains/toybrains_n10000.csv'\n",
    "method = 'PCA'\n",
    "labels = ['lblbin_shp', 'lblbin_shp-vol', 'lblbin_shp-vent']\n",
    "n_component_list = [3, 10, 25, 50, 250, 500, 1000]\n",
    "seed = 42\n",
    "\n",
    "for label in labels:\n",
    "    print(f\"\\n{'#'*20} {label} in {method} {'#'*20}\")\n",
    "    \n",
    "    dataset = generate_dataset(raw_csv_path, label, seed)\n",
    "    \n",
    "    n_list, tr_acc, vl_acc, te_acc = [], [], [], []\n",
    "\n",
    "    for n_components in n_component_list:\n",
    "        data = get_reduc_loader(dataset = dataset, method = method, n_components=n_components, seed = seed)\n",
    "        \n",
    "        # run logistic regression\n",
    "    \n",
    "        print(f\"N = {n_components}\")\n",
    "        acc, _ = run_logistic_regression(data)\n",
    "        n_list.append(n_components)\n",
    "        tr_acc.append(acc[0])\n",
    "        vl_acc.append(acc[1])\n",
    "        te_acc.append(acc[2])\n",
    "        \n",
    "    plt.plot(n_list, tr_acc)\n",
    "    plt.plot(n_list, vl_acc)\n",
    "    plt.plot(n_list, te_acc)\n",
    "    \n",
    "    plt.title(f\"Accuracy with n on {label}\")\n",
    "    plt.xlabel('N component')\n",
    "    plt.ylabel('Accuracy')\n",
    "    \n",
    "    plt.show()"
   ]
  },
  {
   "cell_type": "code",
   "execution_count": null,
   "id": "111f5c90-3e5f-48a6-aeb8-ff11ed71e208",
   "metadata": {},
   "outputs": [],
   "source": []
  }
 ],
 "metadata": {
  "kernelspec": {
   "display_name": "Python 3 (ipykernel)",
   "language": "python",
   "name": "python3"
  },
  "language_info": {
   "codemirror_mode": {
    "name": "ipython",
    "version": 3
   },
   "file_extension": ".py",
   "mimetype": "text/x-python",
   "name": "python",
   "nbconvert_exporter": "python",
   "pygments_lexer": "ipython3",
   "version": "3.9.12"
  }
 },
 "nbformat": 4,
 "nbformat_minor": 5
}
