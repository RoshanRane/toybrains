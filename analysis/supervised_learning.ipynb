{
 "cells": [
  {
   "cell_type": "markdown",
   "id": "587a33d0-de42-48a1-86b9-cdb161273cde",
   "metadata": {
    "tags": []
   },
   "source": [
    "# Supervised Learning with toybrains dataset using Lightning\n",
    "> Dev log (format < Date > | <Author(s)> )  \n",
    "> - Developed: 30 May 2023 | JiHoon Kim <br>\n",
    "> - Tested and improved: 17 July 2023 | Roshan Rane <br>\n",
    "> - Tested: 28 July 2023 | JiHoon Kim"
   ]
  },
  {
   "cell_type": "markdown",
   "id": "ce508a7d-0d00-4b3a-8ef2-ec7108345b7e",
   "metadata": {},
   "source": [
    "NOTE : \n",
    "- shuffle recommended `False` on both val, and test in dataloader\n",
    "- used as a testbed notebook (outdated)"
   ]
  },
  {
   "cell_type": "markdown",
   "id": "48e7013d-a866-4869-9c66-1ab46709994e",
   "metadata": {},
   "source": [
    "## Installing Libraries"
   ]
  },
  {
   "cell_type": "code",
   "execution_count": 1,
   "id": "346fc89f-5220-4606-be5d-d4f71c968e2a",
   "metadata": {},
   "outputs": [],
   "source": [
    "%matplotlib inline\n",
    "%load_ext autoreload\n",
    "%autoreload 2"
   ]
  },
  {
   "cell_type": "code",
   "execution_count": 2,
   "id": "3ffef70c-7bef-483c-8ffb-d488bf59a5de",
   "metadata": {},
   "outputs": [
    {
     "name": "stdout",
     "output_type": "stream",
     "text": [
      "\u001b[1m\u001b[37mcuda02                    \u001b[m  Fri Jul 28 18:43:59 2023  \u001b[1m\u001b[30m470.199.02\u001b[m\n",
      "\u001b[36m[0]\u001b[m \u001b[34mNVIDIA GeForce RTX 3090\u001b[m |\u001b[31m 45'C\u001b[m, \u001b[32m  0 %\u001b[m | \u001b[36m\u001b[1m\u001b[33m16214\u001b[m / \u001b[33m24268\u001b[m MB | \u001b[1m\u001b[30mtomasz\u001b[m(\u001b[33m813M\u001b[m) \u001b[1m\u001b[30mtomasz\u001b[m(\u001b[33m2133M\u001b[m) \u001b[1m\u001b[30mtomasz\u001b[m(\u001b[33m3569M\u001b[m) \u001b[1m\u001b[30mtomasz\u001b[m(\u001b[33m895M\u001b[m) \u001b[1m\u001b[30mtomasz\u001b[m(\u001b[33m2249M\u001b[m) \u001b[1m\u001b[30mtomasz\u001b[m(\u001b[33m1219M\u001b[m) \u001b[1m\u001b[30mtomasz\u001b[m(\u001b[33m1057M\u001b[m) \u001b[1m\u001b[30mtomasz\u001b[m(\u001b[33m1869M\u001b[m) \u001b[1m\u001b[30mtomasz\u001b[m(\u001b[33m1057M\u001b[m) \u001b[1m\u001b[30mmanuel\u001b[m(\u001b[33m1343M\u001b[m) \u001b[1m\u001b[30mgdm\u001b[m(\u001b[33m4M\u001b[m)\n",
      "\u001b[36m[1]\u001b[m \u001b[34mNVIDIA GeForce RTX 3090\u001b[m |\u001b[1m\u001b[31m 51'C\u001b[m, \u001b[32m 15 %\u001b[m | \u001b[36m\u001b[1m\u001b[33m19837\u001b[m / \u001b[33m24268\u001b[m MB | \u001b[1m\u001b[30mjihoon\u001b[m(\u001b[33m2249M\u001b[m) \u001b[1m\u001b[30mjihoon\u001b[m(\u001b[33m2443M\u001b[m) \u001b[1m\u001b[30mjihoon\u001b[m(\u001b[33m2445M\u001b[m) \u001b[1m\u001b[30mjihoon\u001b[m(\u001b[33m2443M\u001b[m) \u001b[1m\u001b[30mjihoon\u001b[m(\u001b[33m2443M\u001b[m) \u001b[1m\u001b[30mjihoon\u001b[m(\u001b[33m2445M\u001b[m) \u001b[1m\u001b[30mjihoon\u001b[m(\u001b[33m2445M\u001b[m) \u001b[1m\u001b[30mmanuel\u001b[m(\u001b[33m1343M\u001b[m) \u001b[1m\u001b[30mjihoon\u001b[m(\u001b[33m1569M\u001b[m) \u001b[1m\u001b[30mgdm\u001b[m(\u001b[33m4M\u001b[m)\n",
      "\u001b[36m[2]\u001b[m \u001b[34mNVIDIA GeForce RTX 3090\u001b[m |\u001b[1m\u001b[31m 64'C\u001b[m, \u001b[1m\u001b[32m 30 %\u001b[m | \u001b[36m\u001b[1m\u001b[33m14166\u001b[m / \u001b[33m24268\u001b[m MB | \u001b[1m\u001b[30msam\u001b[m(\u001b[33m13509M\u001b[m) \u001b[1m\u001b[30msam\u001b[m(\u001b[33m649M\u001b[m) \u001b[1m\u001b[30mgdm\u001b[m(\u001b[33m4M\u001b[m)\n",
      "\u001b[36m[3]\u001b[m \u001b[34mNVIDIA GeForce RTX 3090\u001b[m |\u001b[1m\u001b[31m 70'C\u001b[m, \u001b[32m 22 %\u001b[m | \u001b[36m\u001b[1m\u001b[33m13517\u001b[m / \u001b[33m24268\u001b[m MB | \u001b[1m\u001b[30msam\u001b[m(\u001b[33m13509M\u001b[m) \u001b[1m\u001b[30mgdm\u001b[m(\u001b[33m4M\u001b[m)\n"
     ]
    }
   ],
   "source": [
    "# check GPUs available and memory\n",
    "! gpustat"
   ]
  },
  {
   "cell_type": "code",
   "execution_count": 3,
   "id": "2aa3843f-51d3-4ecc-bfeb-497e3ddfd7f2",
   "metadata": {},
   "outputs": [],
   "source": [
    "# standard python packages\n",
    "import pandas as pd\n",
    "import numpy as np\n",
    "import random\n",
    "import matplotlib.pyplot as plt\n",
    "\n",
    "import torch\n",
    "# import monai\n",
    "import lightning as L\n",
    "from lightning.pytorch.loggers import CSVLogger"
   ]
  },
  {
   "cell_type": "code",
   "execution_count": 4,
   "id": "6d6f4ed1-bed9-4c6b-8b26-e49bdd129a0d",
   "metadata": {},
   "outputs": [],
   "source": [
    "# add custom imports\n",
    "# (TODO) refactoring needed\n",
    "from utils.dataset import generate_dataset\n",
    "from utils.DLutils import (\n",
    "    get_dataset_loaders,\n",
    "    ToyBrainsDataset, LightningModel,\n",
    "    PyTorchMLP, LogisticRegression, viz_batch\n",
    ")"
   ]
  },
  {
   "cell_type": "markdown",
   "id": "b23ea166-f53d-4e1c-9e05-56078f4b407c",
   "metadata": {},
   "source": [
    "## Generating the synthetic dataset"
   ]
  },
  {
   "cell_type": "code",
   "execution_count": null,
   "id": "babe760e-2fe8-4e18-ab40-4e3ca66eb52a",
   "metadata": {},
   "outputs": [],
   "source": [
    "# ! python create_toybrains.py --dir toybrains30k -d -n 30000"
   ]
  },
  {
   "cell_type": "markdown",
   "id": "22214965-c4f4-4afd-915b-72bd878dd000",
   "metadata": {},
   "source": [
    "## Loading the DataLoader"
   ]
  },
  {
   "cell_type": "code",
   "execution_count": 5,
   "id": "7d336f9f-65e8-411d-9300-85d296dda30e",
   "metadata": {},
   "outputs": [
    {
     "name": "stderr",
     "output_type": "stream",
     "text": [
      "Global seed set to 42\n"
     ]
    },
    {
     "data": {
      "text/plain": [
       "42"
      ]
     },
     "execution_count": 5,
     "metadata": {},
     "output_type": "execute_result"
    }
   ],
   "source": [
    "# set random seed\n",
    "seed = 42\n",
    "torch.manual_seed(seed) \n",
    "np.random.seed(seed)\n",
    "random.seed(seed)\n",
    "# set the seed for Lightning\n",
    "L.seed_everything(seed)"
   ]
  },
  {
   "cell_type": "code",
   "execution_count": 6,
   "id": "4a5e552d-ab64-4827-b632-81add5f77a91",
   "metadata": {},
   "outputs": [
    {
     "name": "stdout",
     "output_type": "stream",
     "text": [
      "<class 'pandas.core.frame.DataFrame'>\n",
      "RangeIndex: 30000 entries, 0 to 29999\n",
      "Data columns (total 34 columns):\n",
      " #   Column                   Non-Null Count  Dtype  \n",
      "---  ------                   --------------  -----  \n",
      " 0   subjectID                30000 non-null  int64  \n",
      " 1   _gen_brain_vol-radminor  30000 non-null  float64\n",
      " 2   _gen_brain_vol-radmajor  30000 non-null  float64\n",
      " 3   gen_brain_thick          30000 non-null  float64\n",
      " 4   gen_brain_int            30000 non-null  float64\n",
      " 5   gen_border_int           30000 non-null  object \n",
      " 6   gen_vent_thick           30000 non-null  float64\n",
      " 7   gen_shape-top_curv       30000 non-null  float64\n",
      " 8   gen_shape-top_int        30000 non-null  object \n",
      " 9   _gen_shape-top_vol-rad   30000 non-null  float64\n",
      " 10  gen_shape-midr_curv      30000 non-null  float64\n",
      " 11  gen_shape-midr_int       30000 non-null  object \n",
      " 12  _gen_shape-midr_vol-rad  30000 non-null  float64\n",
      " 13  gen_shape-midl_curv      30000 non-null  float64\n",
      " 14  gen_shape-midl_int       30000 non-null  object \n",
      " 15  _gen_shape-midl_vol-rad  30000 non-null  float64\n",
      " 16  gen_shape-botr_curv      30000 non-null  float64\n",
      " 17  gen_shape-botr_int       30000 non-null  object \n",
      " 18  _gen_shape-botr_vol-rad  30000 non-null  float64\n",
      " 19  gen_shape-botl_curv      30000 non-null  float64\n",
      " 20  gen_shape-botl_int       30000 non-null  object \n",
      " 21  _gen_shape-botl_vol-rad  30000 non-null  float64\n",
      " 22  cov_sex                  30000 non-null  object \n",
      " 23  cov_site                 30000 non-null  object \n",
      " 24  cov_age                  30000 non-null  float64\n",
      " 25  lblbin_shp               30000 non-null  bool   \n",
      " 26  lblbin_shp-vol           30000 non-null  bool   \n",
      " 27  lblbin_shp-vent          30000 non-null  bool   \n",
      " 28  gen_brain_vol            30000 non-null  float64\n",
      " 29  gen_shape-top_vol        30000 non-null  float64\n",
      " 30  gen_shape-midr_vol       30000 non-null  float64\n",
      " 31  gen_shape-midl_vol       30000 non-null  float64\n",
      " 32  gen_shape-botr_vol       30000 non-null  float64\n",
      " 33  gen_shape-botl_vol       30000 non-null  float64\n",
      "dtypes: bool(3), float64(22), int64(1), object(8)\n",
      "memory usage: 7.2+ MB\n"
     ]
    }
   ],
   "source": [
    "# dataset\n",
    "DATA_DIR = 'toybrains30k/'\n",
    "raw_csv_path = DATA_DIR+'toybrains_n30000.csv'\n",
    "data_df = pd.read_csv(raw_csv_path).info()"
   ]
  },
  {
   "cell_type": "code",
   "execution_count": 7,
   "id": "825313ec-2fd2-45fd-9878-62acf7e157bc",
   "metadata": {},
   "outputs": [],
   "source": [
    "# choose a target label among the available columns in the table\n",
    "label = 'lblbin_shp-vol'"
   ]
  },
  {
   "cell_type": "code",
   "execution_count": 8,
   "id": "59e8990e-a973-404b-8ba5-b88ceed1718c",
   "metadata": {
    "scrolled": true
   },
   "outputs": [
    {
     "name": "stdout",
     "output_type": "stream",
     "text": [
      " Training data split = 24000 \n",
      " Validation data split = 3000 \n",
      " Test data split = 3000\n"
     ]
    }
   ],
   "source": [
    "# split the dataset for training, validation, and test from raw dataset\n",
    "df_train, df_val, df_test = generate_dataset(raw_csv_path, label, seed)\n",
    "print(f\" Training data split = {len(df_train)} \\n Validation data split = {len(df_val)} \\n Test data split = {len(df_test)}\")"
   ]
  },
  {
   "cell_type": "markdown",
   "id": "f86138d4-cfaf-479a-85d7-9783d192655e",
   "metadata": {},
   "source": [
    "### Estimate the baselines\n",
    "1. [TODO] Accuracy when predicting the most frequent class label:\n",
    "   ```python\n",
    "   from collections import Counter\n",
    "   \n",
    "   ounter = Counter()\n",
    "   for images, labels in loader:\n",
    "       counter.update(labels.tolist())\n",
    "   print(f\"\\nLabel distribution: {sorted(counter.items())}\")\n",
    "   \n",
    "   majority_class = counter.most_common(1)[0]\n",
    "   print(f\"Majority class: {majority_class[0]}\")\n",
    "   \n",
    "   baseline_acc = majority_class[1] / sum(counter.values())\n",
    "   print(f\"Accuracy when always predicting the majority class: {baseline_acc:.2f} {baseline_acc*100:.2f}%)\")\n",
    "   ```\n",
    "\n",
    "3. [TODO] best expected accuracy from predicting directly from the image attributes:\n",
    "4. [TODO] best expected accuracy after deconfounding"
   ]
  },
  {
   "cell_type": "code",
   "execution_count": 9,
   "id": "92fb649c-7498-43e3-a316-35160eb0a765",
   "metadata": {},
   "outputs": [],
   "source": [
    "# prepare the dataLaoder\n",
    "train_loader, val_loader, test_loader = get_dataset_loaders(\n",
    "                    data_split_dfs=[df_train, df_val, df_test],\n",
    "                    data_dir=DATA_DIR,\n",
    "                    batch_size=16, shuffle=True, \n",
    "                    num_workers=0, transform=[])"
   ]
  },
  {
   "cell_type": "markdown",
   "id": "c15e37ac-030b-4421-b328-62850f417038",
   "metadata": {},
   "source": [
    "### Vizualize the Batch on DataLoader"
   ]
  },
  {
   "cell_type": "code",
   "execution_count": null,
   "id": "a3e2ee8d-4bfb-4c32-a01e-9169718f02ec",
   "metadata": {},
   "outputs": [],
   "source": [
    "viz_batch(train_loader, title=\"Training images\", debug=True)\n",
    "viz_batch(val_loader, title=\"Validation images\", debug=True)\n",
    "viz_batch(test_loader, title=\"Test images\", debug=True)"
   ]
  },
  {
   "cell_type": "markdown",
   "id": "4f82b40a-e469-46bb-9d0e-f864d3a87dc9",
   "metadata": {},
   "source": [
    "## Predictive Modeling"
   ]
  },
  {
   "cell_type": "markdown",
   "id": "4a6f4e4b-72d7-47c0-87ac-efe9b204c4c7",
   "metadata": {},
   "source": [
    "Tasks : [baseline model](https://github.com/RoshanRane/toybrains/issues/1)"
   ]
  },
  {
   "cell_type": "code",
   "execution_count": null,
   "id": "779aaf74-53f2-4151-ae19-701beae39607",
   "metadata": {},
   "outputs": [],
   "source": [
    "# multi layer perceprton implementation\n",
    "pytorch_model = PyTorchMLP(num_features=12288, num_classes=2)"
   ]
  },
  {
   "cell_type": "code",
   "execution_count": null,
   "id": "db885875-9bc6-455a-ab82-0f78bdb0c315",
   "metadata": {},
   "outputs": [],
   "source": [
    "# set denseNet model as default\n",
    "\n",
    "# pytorch_model = monai.networks.nets.DenseNet121(spatial_dims=2, in_channels=3, out_channels=2)"
   ]
  },
  {
   "cell_type": "code",
   "execution_count": null,
   "id": "981e9fe7-4643-4942-aaf1-3aa16e98af77",
   "metadata": {},
   "outputs": [],
   "source": [
    "# logistic regression implmententation\n",
    "\n",
    "# pytorch_model = LogisticRegression(num_features=12288)"
   ]
  },
  {
   "cell_type": "code",
   "execution_count": null,
   "id": "485b54e4-8b03-4c10-aebb-31305f42458b",
   "metadata": {},
   "outputs": [],
   "source": [
    "# set lightning model\n",
    "lightning_model = LightningModel(model=pytorch_model, learning_rate=0.05)"
   ]
  },
  {
   "cell_type": "code",
   "execution_count": null,
   "id": "725b4dc5-5207-48ea-bc55-4d3a8c0a64d3",
   "metadata": {},
   "outputs": [],
   "source": [
    "trainer = L.Trainer(\n",
    "    max_epochs=10,\n",
    "    accelerator=\"gpu\",\n",
    "    devices=[1],\n",
    "    logger=CSVLogger(save_dir=\"logs/\", name=\"new_model\"),\n",
    "    deterministic=True\n",
    ")"
   ]
  },
  {
   "cell_type": "code",
   "execution_count": null,
   "id": "4e0ad820-895f-4e01-b22d-d4b2fd1b45ef",
   "metadata": {},
   "outputs": [],
   "source": [
    "trainer.fit(\n",
    "    model=lightning_model,\n",
    "    train_dataloaders=train_loader,\n",
    "    val_dataloaders=val_loader,\n",
    ")"
   ]
  },
  {
   "cell_type": "code",
   "execution_count": null,
   "id": "a8ab2710-6320-4a1f-9905-320b66891d73",
   "metadata": {},
   "outputs": [],
   "source": [
    "train_acc = trainer.test(dataloaders=train_loader)[0][\"accuracy\"]\n",
    "val_acc = trainer.test(dataloaders=val_loader)[0][\"accuracy\"]\n",
    "test_acc = trainer.test(dataloaders=test_loader)[0][\"accuracy\"]\n",
    "\n",
    "print(\n",
    "    f\"Train Acc {train_acc*100:.2f}%\"\n",
    "    f\" | Val Acc {val_acc*100:.2f}%\"\n",
    "    f\" | Test Acc {test_acc*100:.2f}%\"\n",
    ")"
   ]
  },
  {
   "cell_type": "code",
   "execution_count": null,
   "id": "e178fb12-8700-4298-9098-ae15bf8d661a",
   "metadata": {},
   "outputs": [],
   "source": [
    "train_result = trainer.test(dataloaders=train_loader)"
   ]
  },
  {
   "cell_type": "markdown",
   "id": "cd7eb64d-cb4c-43c0-9ba1-bc2c9f342fff",
   "metadata": {},
   "source": [
    "`Bug on below code: if you use mlti gpu then you may found the several version_X generated on one run.` <br>\n",
    "Please specify correct metrics.csv which contain all. <br>\n",
    "(TODO) Refactoring the code on result plot"
   ]
  },
  {
   "cell_type": "code",
   "execution_count": null,
   "id": "dd167fff-c731-44bf-b307-224c624e31a5",
   "metadata": {},
   "outputs": [],
   "source": [
    "metrics = pd.read_csv(f\"logs/my_model/version_5/metrics.csv\")\n",
    "\n",
    "aggreg_metrics = []\n",
    "agg_col = \"epoch\"\n",
    "for i, dfg in metrics.groupby(agg_col):\n",
    "    agg = dict(dfg.mean())\n",
    "    agg[agg_col] = i\n",
    "    aggreg_metrics.append(agg)\n",
    "\n",
    "df_metrics = pd.DataFrame(aggreg_metrics)\n",
    "df_metrics[[\"train_loss\", \"val_loss\"]].plot(\n",
    "    grid=True, legend=True, xlabel=\"Epoch\", ylabel=\"Loss\"\n",
    ")\n",
    "df_metrics[[\"train_acc\", \"val_acc\"]].plot(\n",
    "    grid=True, legend=True, xlabel=\"Epoch\", ylabel=\"ACC\"\n",
    ")\n",
    "\n",
    "plt.show()"
   ]
  },
  {
   "cell_type": "code",
   "execution_count": null,
   "id": "a11cee1d-8d2a-4df4-9e9e-149043d0c37d",
   "metadata": {},
   "outputs": [],
   "source": [
    "PATH = \"lightning.pt\"\n",
    "torch.save(pytorch_model.state_dict(), PATH)"
   ]
  },
  {
   "cell_type": "code",
   "execution_count": null,
   "id": "a0beb615-afe4-4844-8b92-2ef9d2504210",
   "metadata": {},
   "outputs": [],
   "source": []
  }
 ],
 "metadata": {
  "kernelspec": {
   "display_name": "Python 3 (ipykernel)",
   "language": "python",
   "name": "python3"
  },
  "language_info": {
   "codemirror_mode": {
    "name": "ipython",
    "version": 3
   },
   "file_extension": ".py",
   "mimetype": "text/x-python",
   "name": "python",
   "nbconvert_exporter": "python",
   "pygments_lexer": "ipython3",
   "version": "3.8.16"
  }
 },
 "nbformat": 4,
 "nbformat_minor": 5
}
