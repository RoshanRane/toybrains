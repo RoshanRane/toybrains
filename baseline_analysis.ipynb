{
 "cells": [
  {
   "cell_type": "markdown",
   "id": "f3ad2532-8ee9-4d61-9de5-f2fbebeea051",
   "metadata": {},
   "source": [
    "# Main Task"
   ]
  },
  {
   "cell_type": "markdown",
   "id": "f1994880-c35a-40dd-8523-be920e256716",
   "metadata": {},
   "source": [
    "TODO : cov_age loop kernel restarting error"
   ]
  },
  {
   "cell_type": "code",
   "execution_count": 1,
   "id": "6149b35a-2653-4171-904b-b9496e5c6d7e",
   "metadata": {},
   "outputs": [],
   "source": [
    "%matplotlib inline\n",
    "%load_ext autoreload\n",
    "%autoreload 2"
   ]
  },
  {
   "cell_type": "code",
   "execution_count": 2,
   "id": "07612b72-42b9-495e-9677-3cacd22ab1e4",
   "metadata": {},
   "outputs": [],
   "source": [
    "from utils.dataset import generate_dataset\n",
    "from utils.tabular import get_table_loader, run_lreg"
   ]
  },
  {
   "cell_type": "markdown",
   "id": "ab53f447-c5cf-440d-85ff-9340b0a0798b",
   "metadata": {},
   "source": [
    "1. Allow multiple config files that can be passed as arg to `create_toybrains.py`"
   ]
  },
  {
   "cell_type": "code",
   "execution_count": null,
   "id": "2940cc96-3622-4f69-8f75-b45188fbf531",
   "metadata": {
    "tags": []
   },
   "outputs": [],
   "source": [
    "from create_toybrains import ToyBrainsData\n",
    "\n",
    "ToyBrainsData().show_current_config()"
   ]
  },
  {
   "cell_type": "code",
   "execution_count": null,
   "id": "75848610-2a47-4a1c-acc7-bfcde6ef873f",
   "metadata": {
    "tags": []
   },
   "outputs": [],
   "source": [
    "# turn on the debug switch\n",
    "# ! python create_toybrains.py -d --dir 'baseline' -n 10000 -c 'demo'"
   ]
  },
  {
   "cell_type": "markdown",
   "id": "093e460a-31fc-49bc-9bb6-ecc6f37aeccc",
   "metadata": {},
   "source": [
    "2. Design baseline model on logistic regression on x -> y, c -> y, and x + c -> y"
   ]
  },
  {
   "cell_type": "code",
   "execution_count": 25,
   "id": "dbe711ad-7c69-481a-95b0-48856f016746",
   "metadata": {},
   "outputs": [],
   "source": [
    "# set random seed\n",
    "\n",
    "seed = 42\n",
    "\n",
    "# set raw csv path\n",
    "\n",
    "raw_csv_path = '/ritter/share/projects/JiHoon/toybrains/dataset/toybrains1k/toybrains_n1000.csv'\n",
    "\n",
    "# data type\n",
    "\n",
    "data_type = 'x+c-y' # either 'x', 'xc'\n",
    "\n",
    "# set target label\n",
    "\n",
    "label = 'cov_age' # either 'lblbin_shp', 'lblbin_shp-vol', 'lblbin_shp-vent', 'cov_sex', # todo: 'cov_age', 'cov_site'"
   ]
  },
  {
   "cell_type": "code",
   "execution_count": 26,
   "id": "f5f6f063-04c0-4d98-be52-b9419c1f441e",
   "metadata": {},
   "outputs": [],
   "source": [
    "# split the dataset for training, validation, and test from raw dataset\n",
    "\n",
    "dataset = generate_dataset(raw_csv_path, label, seed)\n",
    "\n",
    "# load the dataset\n",
    "\n",
    "data = get_table_loader(dataset=dataset, label=label, data_type=data_type, seed=seed)"
   ]
  },
  {
   "cell_type": "code",
   "execution_count": 27,
   "id": "6b8e8ffc-60e3-4485-961e-e322de073e33",
   "metadata": {},
   "outputs": [
    {
     "data": {
      "text/plain": [
       "Index(['gen_brain_thick', 'gen_brain_int', 'gen_border_int', 'gen_vent_thick',\n",
       "       'gen_shape-top_curv', 'gen_shape-top_int', 'gen_shape-midr_curv',\n",
       "       'gen_shape-midr_int', 'gen_shape-midl_curv', 'gen_shape-midl_int',\n",
       "       'gen_shape-botr_curv', 'gen_shape-botr_int', 'gen_shape-botl_curv',\n",
       "       'gen_shape-botl_int', 'gen_brain_vol', 'gen_shape-top_vol',\n",
       "       'gen_shape-midr_vol', 'gen_shape-midl_vol', 'gen_shape-botr_vol',\n",
       "       'gen_shape-botl_vol', 'cov_sex', 'cov_site'],\n",
       "      dtype='object')"
      ]
     },
     "execution_count": 27,
     "metadata": {},
     "output_type": "execute_result"
    }
   ],
   "source": [
    "data[0].columns"
   ]
  },
  {
   "cell_type": "code",
   "execution_count": 28,
   "id": "f8f8cf53-573f-4772-b8a0-bcbac80e5940",
   "metadata": {},
   "outputs": [],
   "source": [
    "# run logistic regression for c->y, x->y, x+c->y, x+c-y->y"
   ]
  },
  {
   "cell_type": "code",
   "execution_count": 30,
   "id": "eee41eda-e286-49f6-a768-84f59a55e1a7",
   "metadata": {},
   "outputs": [
    {
     "name": "stdout",
     "output_type": "stream",
     "text": [
      "Train Accuracy:   0.1665 Validation Accuracy:  -0.0662 Test Accuracy:   0.0398\n",
      "(0.1664777976450207, -0.06616186026219117, 0.03984725931436017)\n"
     ]
    }
   ],
   "source": [
    "# run logistic regression for tabular dataset\n",
    "\n",
    "acc, pipe = run_lreg(data)\n",
    "print(acc)"
   ]
  },
  {
   "cell_type": "code",
   "execution_count": 31,
   "id": "ba7f6afb-912f-47df-a399-3b24ad74a7bf",
   "metadata": {},
   "outputs": [
    {
     "data": {
      "text/plain": [
       "(31,\n",
       " Pipeline(steps=[('columntransformer',\n",
       "                  ColumnTransformer(transformers=[('one-hot-encoder',\n",
       "                                                   OneHotEncoder(handle_unknown='ignore'),\n",
       "                                                   ['gen_border_int',\n",
       "                                                    'gen_shape-top_int',\n",
       "                                                    'gen_shape-midr_int',\n",
       "                                                    'gen_shape-midl_int',\n",
       "                                                    'gen_shape-botr_int',\n",
       "                                                    'gen_shape-botl_int',\n",
       "                                                    'cov_sex', 'cov_site']),\n",
       "                                                  ('standard_scaler',\n",
       "                                                   StandardScaler(),\n",
       "                                                   ['gen_brain_thick',\n",
       "                                                    'gen_brain_int',\n",
       "                                                    'gen_vent_thick',\n",
       "                                                    'gen_shape-top_curv',\n",
       "                                                    'gen_shape-midr_curv',\n",
       "                                                    'gen_shape-midl_curv',\n",
       "                                                    'gen_shape-botr_curv',\n",
       "                                                    'gen_shape-botl_curv',\n",
       "                                                    'gen_brain_vol',\n",
       "                                                    'gen_shape-top_vol',\n",
       "                                                    'gen_shape-midr_vol',\n",
       "                                                    'gen_shape-midl_vol',\n",
       "                                                    'gen_shape-botr_vol',\n",
       "                                                    'gen_shape-botl_vol'])])),\n",
       "                 ('linearregression', LinearRegression())]))"
      ]
     },
     "execution_count": 31,
     "metadata": {},
     "output_type": "execute_result"
    }
   ],
   "source": [
    "pipe"
   ]
  },
  {
   "cell_type": "markdown",
   "id": "2e4a6085-b8c7-43cf-b25e-611499163c90",
   "metadata": {},
   "source": [
    "3. Baseline evaluation on logistic regression: fit baseline model on these labels and tweak the labels until they are not very easily predictable"
   ]
  },
  {
   "cell_type": "code",
   "execution_count": null,
   "id": "eaeb090b-5965-4bc9-a9c7-d249eacd719f",
   "metadata": {},
   "outputs": [],
   "source": [
    "# decounding methods\n",
    "# benchmark: evaluate their models"
   ]
  },
  {
   "cell_type": "code",
   "execution_count": null,
   "id": "2d8d4060-0712-4b12-8fd4-77c1552274ce",
   "metadata": {},
   "outputs": [],
   "source": [
    "features = ['x', 'xc']\n",
    "labels = ['lblbin_shp', 'lblbin_shp-vol', 'lblbin_shp-vent', 'cov_sex']\n",
    "for feature in features:\n",
    "    for label in labels:\n",
    "        print(f'{feature} -> {label}')\n",
    "        \n",
    "        # split the dataset for training, validation, and test from raw dataset\n",
    "        \n",
    "        dataset = generate_dataset(raw_csv_path, label, seed)\n",
    "        \n",
    "        # load the dataset\n",
    "        \n",
    "        data = get_table_loader(dataset = dataset, data_type = feature, seed = seed)\n",
    "        \n",
    "        # run logistic regression for tabula dataset\n",
    "        \n",
    "        run_lreg(data)\n",
    "        print('')"
   ]
  }
 ],
 "metadata": {
  "kernelspec": {
   "display_name": "Python 3 (ipykernel)",
   "language": "python",
   "name": "python3"
  },
  "language_info": {
   "codemirror_mode": {
    "name": "ipython",
    "version": 3
   },
   "file_extension": ".py",
   "mimetype": "text/x-python",
   "name": "python",
   "nbconvert_exporter": "python",
   "pygments_lexer": "ipython3",
   "version": "3.9.12"
  }
 },
 "nbformat": 4,
 "nbformat_minor": 5
}
