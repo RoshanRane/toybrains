{
 "cells": [
  {
   "cell_type": "code",
   "execution_count": null,
   "id": "3218bc65-ad02-4931-b699-f4d6f951ac44",
   "metadata": {},
   "outputs": [],
   "source": [
    "%matplotlib inline\n",
    "%load_ext autoreload\n",
    "%autoreload 2"
   ]
  },
  {
   "cell_type": "code",
   "execution_count": null,
   "id": "a9be9b93-57c4-4f60-89c2-adba99399e69",
   "metadata": {},
   "outputs": [],
   "source": [
    "# standard python packages\n",
    "import os, sys\n",
    "from glob import glob\n",
    "import numpy as np\n",
    "import pandas as pd\n",
    "import matplotlib.pyplot as plt \n",
    "import seaborn as sns\n",
    "import matplotlib.image as mpimg\n",
    "from sklearn import datasets, linear_model\n",
    "from tqdm.notebook import tqdm\n",
    "import random\n",
    "import math\n",
    "import json\n",
    "\n",
    "from create_toybrains import ToyBrainsData\n",
    "from utils.vizutils import *"
   ]
  },
  {
   "cell_type": "markdown",
   "id": "fbe320ba-8fc8-4a72-92ec-730cd90b4cc3",
   "metadata": {
    "tags": []
   },
   "source": [
    "## Misl / ReadMe figures"
   ]
  },
  {
   "cell_type": "markdown",
   "id": "df7283f9-bd81-4ddb-a390-e6a7948ea133",
   "metadata": {},
   "source": [
    "##### Image attributes plot for the ReadMe"
   ]
  },
  {
   "cell_type": "code",
   "execution_count": null,
   "id": "0cf9af58-a83d-4dcf-a238-d038728b4da1",
   "metadata": {
    "scrolled": true,
    "tags": []
   },
   "outputs": [],
   "source": [
    "plt.rcParams['axes.facecolor']='black'\n",
    "plt.rcParams['savefig.facecolor']='black'\n",
    "fs = 12\n",
    "atrs = sorted([col for col in df.filter(regex='^gen_').columns if 'shape' not in col])\n",
    "# drop all shapes except one to show\n",
    "atrs_shape = [col for col in df.filter(regex='^gen_').columns if ('botr' in col)]\n",
    "atrs = atrs + atrs_shape\n",
    "# f, axes = plt.subplots(len(atrs), 1, figsize=(7,1.3*len(atrs)), constrained_layout=True)\n",
    "f = plt.figure(constrained_layout=True, figsize=(7,1.3*len(atrs)))\n",
    "f.suptitle(f\"Modifying different image attributes:\", \n",
    "           fontsize=fs+2, ha='right', x=0.1, fontweight='heavy')\n",
    "# define each subplots row as a subfigure and set separate subtitles\n",
    "subfigs = f.subfigures(len(atrs), 1)\n",
    "\n",
    "for i, subfig in enumerate(subfigs):\n",
    "    \n",
    "    atr = atrs[i]\n",
    "    atr_vals = df[atr].sort_values().unique()\n",
    "    if len(atr_vals)>7: # if more than 7 then sample the least best and some values in between\n",
    "        atr_vals = [atr_vals[0]] + np.sort(np.random.choice(atr_vals[1:-2], 7-2)).tolist() + [atr_vals[-1]]\n",
    "    # print(atr)\n",
    "    # color = 'darkred' if 'brain' in atr else ('darkgreen' if 'shape' in atr else 'darkblue')\n",
    "    subfig.suptitle(atr.replace('gen_',''), \n",
    "                    fontsize=fs, color='r', ha='right', x=0.12, fontweight='heavy')\n",
    "    axes_row = subfig.subplots(nrows=1, ncols=7)\n",
    "    \n",
    "    # organize the attribute sorting order so that  the images are similar to each other within each row\n",
    "    col_order = atrs[:]\n",
    "    related_atrs = [col for col in col_order if (atr.split('_')[1] in col) and (col!=atr)]\n",
    "    col_order = [atr] + related_atrs + [c for c in col_order if c not in (related_atrs + [atrs])]\n",
    "    df_sorted = df.sort_values(by=col_order, axis=0)\n",
    "    \n",
    "    for j, ax in enumerate(axes_row):\n",
    "        if j<len(atr_vals):\n",
    "            atr_val = atr_vals[j]\n",
    "            sample = df_sorted.loc[df_sorted[atr]==atr_val].iloc[0]\n",
    "            subID = f\"{sample.name:05}\"\n",
    "            # print(subID) \n",
    "            img = mpimg.imread(f\"toybrains/images/{subID}.jpg\")\n",
    "            ax.imshow(img)\n",
    "            if isinstance(atr_val, float): atr_val = int(atr_val)\n",
    "            if isinstance(atr_val, str): atr_val = atr_val.split('-')[1]\n",
    "            ax.set_title(f\"= {atr_val}\", fontsize=fs-4, ha='center')\n",
    "        \n",
    "        ax.axis(\"off\")\n",
    "\n",
    "# plt.savefig(\"image_attrs.png\", bbox_inches='tight')\n",
    "plt.show()"
   ]
  },
  {
   "cell_type": "code",
   "execution_count": null,
   "id": "c3cc0d85-810c-4286-9c4d-d44dcfedc099",
   "metadata": {
    "tags": []
   },
   "outputs": [],
   "source": [
    "plt.rcParams['axes.facecolor']='black'\n",
    "plt.rcParams['savefig.facecolor']='black'\n",
    "fs = 12\n",
    "\n",
    "atrs = sorted([col for col in df.filter(regex='^cov_').columns])\n",
    "# f, axes = plt.subplots(len(atrs), 1, figsize=(7,1.3*len(atrs)), constrained_layout=True)\n",
    "f = plt.figure(constrained_layout=True, figsize=(7,1.3*len(atrs)))\n",
    "# f.suptitle(f\"Modifying different image attributes:\", \n",
    "#            fontsize=fs+2, ha='right', x=0.1, fontweight='heavy')\n",
    "# define each subplots row as a subfigure and set separate subtitles\n",
    "subfigs = f.subfigures(len(atrs), 1)\n",
    "\n",
    "for i, subfig in enumerate(subfigs):\n",
    "    \n",
    "    atr = atrs[i]\n",
    "    atr_vals = df[atr].sort_values().unique()\n",
    "    if len(atr_vals)>7: # if more than 7 then sample the least best and some values in between\n",
    "        atr_vals = [atr_vals[0]] + np.sort(np.random.choice(atr_vals[1:-2], 7-2)).tolist() + [atr_vals[-1]]\n",
    "    # print(atr)\n",
    "    # color = 'darkred' if 'brain' in atr else ('darkgreen' if 'shape' in atr else 'darkblue')\n",
    "    subfig.suptitle(atr.replace('gen_',''), \n",
    "                    fontsize=fs, color='blue', ha='right', x=0.12, fontweight='heavy')\n",
    "    axes_row = subfig.subplots(nrows=1, ncols=7)\n",
    "    \n",
    "    # organize the attribute sorting order so that  the images are similar to each other within each row\n",
    "    col_order = atrs[:]\n",
    "    related_atrs = [col for col in col_order if (atr.split('_')[1] in col) and (col!=atr)]\n",
    "    col_order = [atr] + related_atrs + [c for c in col_order if c not in (related_atrs + [atrs])]\n",
    "    df_sorted = df.sort_values(by=col_order, axis=0)\n",
    "    \n",
    "    for j, ax in enumerate(axes_row):\n",
    "        if j<len(atr_vals):\n",
    "            atr_val = atr_vals[j]\n",
    "            sample = df_sorted.loc[df_sorted[atr]==atr_val].iloc[0]\n",
    "            subID = f\"{sample.name:05}\"\n",
    "            # print(subID) \n",
    "            img = mpimg.imread(f\"toybrains/images/{subID}.jpg\")\n",
    "            ax.imshow(img)\n",
    "            if isinstance(atr_val, float): atr_val = int(atr_val)\n",
    "            if isinstance(atr_val, str): atr_val = atr_val.split('-')[1]\n",
    "            ax.set_title(f\"= {atr_val}\", fontsize=fs-4, ha='center')\n",
    "        \n",
    "        ax.axis(\"off\")\n",
    "\n",
    "# plt.savefig(\"docs/image_attrs.png\", bbox_inches='tight')\n",
    "plt.show()"
   ]
  }
 ],
 "metadata": {
  "kernelspec": {
   "display_name": "Python 3 (ipykernel)",
   "language": "python",
   "name": "python3"
  },
  "language_info": {
   "codemirror_mode": {
    "name": "ipython",
    "version": 3
   },
   "file_extension": ".py",
   "mimetype": "text/x-python",
   "name": "python",
   "nbconvert_exporter": "python",
   "pygments_lexer": "ipython3",
   "version": "3.8.16"
  }
 },
 "nbformat": 4,
 "nbformat_minor": 5
}
