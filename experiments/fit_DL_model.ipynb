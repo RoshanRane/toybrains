{
 "cells": [
  {
   "cell_type": "markdown",
   "id": "48e7013d-a866-4869-9c66-1ab46709994e",
   "metadata": {},
   "source": [
    "## load libraries"
   ]
  },
  {
   "cell_type": "code",
   "execution_count": 1,
   "id": "346fc89f-5220-4606-be5d-d4f71c968e2a",
   "metadata": {
    "tags": []
   },
   "outputs": [],
   "source": [
    "%matplotlib inline\n",
    "%load_ext autoreload\n",
    "%autoreload 2"
   ]
  },
  {
   "cell_type": "code",
   "execution_count": 2,
   "id": "2aa3843f-51d3-4ecc-bfeb-497e3ddfd7f2",
   "metadata": {
    "tags": []
   },
   "outputs": [],
   "source": [
    "# standard python packages\n",
    "import os, sys, shutil\n",
    "from glob import glob\n",
    "import numpy as np\n",
    "import pandas as pd\n",
    "import matplotlib.pyplot as plt \n",
    "import random"
   ]
  },
  {
   "cell_type": "code",
   "execution_count": 3,
   "id": "6d6f4ed1-bed9-4c6b-8b26-e49bdd129a0d",
   "metadata": {
    "tags": []
   },
   "outputs": [],
   "source": [
    "sys.path.insert(0, \"../\")\n",
    "from utils.DLutils import *\n",
    "from utils.vizutils import plot_col_dists\n",
    "from create_toybrains import ToyBrainsData\n",
    "from experiments.fit_DL_model import *"
   ]
  },
  {
   "cell_type": "code",
   "execution_count": 4,
   "id": "2bc13833-e4b9-4c1a-b9a0-2c4927fe1988",
   "metadata": {
    "tags": []
   },
   "outputs": [],
   "source": [
    "DEEPREPVIZ_REPO = \"../../Deep-confound-control-v2/\"\n",
    "sys.path.append(DEEPREPVIZ_REPO)\n",
    "from DeepRepViz import *"
   ]
  },
  {
   "cell_type": "code",
   "execution_count": 5,
   "id": "e608e99b-b432-47c0-8560-a4d0095b674d",
   "metadata": {
    "tags": []
   },
   "outputs": [],
   "source": [
    "from lightning.pytorch.loggers import TensorBoardLogger, CSVLogger, WandbLogger"
   ]
  },
  {
   "cell_type": "code",
   "execution_count": 6,
   "id": "b0e8bfc7-8f59-476a-8c14-1fea33666bb5",
   "metadata": {
    "tags": []
   },
   "outputs": [],
   "source": [
    "import logging\n",
    "# disable some unneccesary lightning warnings\n",
    "logging.getLogger(\"lightning.pytorch.utilities.rank_zero\").setLevel(logging.WARNING)\n",
    "logging.getLogger(\"lightning.pytorch.accelerators.cuda\").setLevel(logging.WARNING)"
   ]
  },
  {
   "cell_type": "markdown",
   "id": "b23ea166-f53d-4e1c-9e05-56078f4b407c",
   "metadata": {},
   "source": [
    "## Generate toybrain datasets \n",
    "```bash\n",
    "$ nohup python3 create_toybrains.py -c configs.lbl1cov1 -n 10000 &> nohup1.out &\n",
    "$ nohup python3 create_toybrains.py -c configs.lbl1cov1_midsignal -n 10000 --suffix n_midsignal &>  nohup2.out &\n",
    "$ nohup python3 create_toybrains.py -c configs.lbl1cov1_lowsignal -n 10000 --suffix n_lowsignal &> nohup3.out &\n",
    "```"
   ]
  },
  {
   "cell_type": "markdown",
   "id": "a16a340d-5bf9-4e78-b616-116f2e91443c",
   "metadata": {
    "tags": []
   },
   "source": [
    "## Fit DL models"
   ]
  },
  {
   "cell_type": "code",
   "execution_count": 7,
   "id": "8e9a4db4-75c4-4c44-9145-bee03dd39b7f",
   "metadata": {
    "tags": []
   },
   "outputs": [],
   "source": [
    "DATASETS = [\"../dataset/toybrains_n10000\",\n",
    "            \"../dataset/toybrains_n10000_midsignal\",\n",
    "            \"../dataset/toybrains_n10000_lowsignal\"]"
   ]
  },
  {
   "cell_type": "markdown",
   "id": "8074f39e-5935-485b-8f8a-ea6dc337bd45",
   "metadata": {},
   "source": [
    "### Generative attr. dist."
   ]
  },
  {
   "cell_type": "code",
   "execution_count": 8,
   "id": "e952826d-09ce-4c19-b069-5227f8fa151f",
   "metadata": {
    "tags": []
   },
   "outputs": [],
   "source": [
    "# for data_dir in DATASETS:\n",
    "#     data_name = data_dir.split('/')[-1]\n",
    "#     df = pd.read_csv(f'{data_dir}/{data_name}.csv')\n",
    "#     cov_cols = df.filter(regex='^(cov_|lbl_)').columns\n",
    "#     attr_cols = df.filter(regex='^(?!(cov_|lbl_)).+').columns\n",
    "#     plot_col_dists(df, \n",
    "#                    attr_cols=attr_cols, cov_cols=cov_cols, \n",
    "#                    title=f\"{data_name}: Dist. of generative data attributes vs the labels\")\n",
    "#     plt.show()"
   ]
  },
  {
   "cell_type": "markdown",
   "id": "9edf239b-554c-44be-83c9-9f1e039183a8",
   "metadata": {},
   "source": [
    "### Baseline attr. accuracies"
   ]
  },
  {
   "cell_type": "code",
   "execution_count": 9,
   "id": "e024823f-c2d3-43be-aa2c-ffcb0e2f6467",
   "metadata": {
    "tags": []
   },
   "outputs": [],
   "source": [
    "# results = []\n",
    "# for data_dir in DATASETS:\n",
    "#     toy = ToyBrainsData(\"configs.lbl1cov1\")\n",
    "#     # load the already generated dataset\n",
    "#     toy.load_generated_dataset(data_dir)\n",
    "#     result = toy.fit_baseline_models(CV=10) \n",
    "#     results.append(result)"
   ]
  },
  {
   "cell_type": "code",
   "execution_count": 10,
   "id": "05d017b5-f64d-4f7f-bf88-071afe02f40d",
   "metadata": {
    "tags": []
   },
   "outputs": [],
   "source": [
    "# toy.viz_baseline_results(results)"
   ]
  },
  {
   "cell_type": "markdown",
   "id": "45eed1a4-08f8-4dd9-a896-7c81f3c2a174",
   "metadata": {
    "tags": []
   },
   "source": [
    "##### Set the GPU"
   ]
  },
  {
   "cell_type": "code",
   "execution_count": 11,
   "id": "3ffef70c-7bef-483c-8ffb-d488bf59a5de",
   "metadata": {
    "tags": []
   },
   "outputs": [],
   "source": [
    "# check GPUs available and memory\n",
    "# ! gpustat"
   ]
  },
  {
   "cell_type": "code",
   "execution_count": 12,
   "id": "2942cfef-fce1-4b8c-9fd5-7834e0ce8af5",
   "metadata": {
    "tags": []
   },
   "outputs": [],
   "source": [
    "GPUs = [1]"
   ]
  },
  {
   "cell_type": "code",
   "execution_count": 13,
   "id": "4731c25c-40ae-4994-96e0-25abfce5a09b",
   "metadata": {},
   "outputs": [],
   "source": [
    "torch.set_float32_matmul_precision('medium')\n",
    "os.environ[\"CUDA_LAUNCH_BLOCKING\"]=\"1\""
   ]
  },
  {
   "cell_type": "markdown",
   "id": "4e62c776-1356-4f35-ae31-0153c3f8d234",
   "metadata": {},
   "source": [
    "### fit_DL_model"
   ]
  },
  {
   "cell_type": "code",
   "execution_count": 14,
   "id": "fbc7a2c3-1665-4555-aec5-3a6afd18e571",
   "metadata": {
    "tags": []
   },
   "outputs": [],
   "source": [
    "label = \"lbl_lesion\"\n",
    "model_class = SimpleCNN\n",
    "num_classes = 1\n",
    "logger_args = dict(save_dir='log')\n",
    "batch_size=128\n",
    "random_seed=42\n",
    "debug = True"
   ]
  },
  {
   "cell_type": "markdown",
   "id": "95014053-b502-42be-a257-3679e825ff2d",
   "metadata": {},
   "source": [
    "see the layer names in the model "
   ]
  },
  {
   "cell_type": "code",
   "execution_count": 15,
   "id": "282445e8-ff0a-4350-bba7-62683c74bf67",
   "metadata": {},
   "outputs": [],
   "source": [
    "model = model_class(num_classes=num_classes)"
   ]
  },
  {
   "cell_type": "code",
   "execution_count": 16,
   "id": "f94dccfc-5ea4-44d6-8045-c42f84c7218e",
   "metadata": {
    "tags": []
   },
   "outputs": [
    {
     "data": {
      "text/plain": [
       "[('0', Conv2d(3, 16, kernel_size=(3, 3), stride=(1, 1), padding=(1, 1))),\n",
       " ('0', Conv2d(16, 32, kernel_size=(3, 3), stride=(1, 1), padding=(1, 1))),\n",
       " ('0', Conv2d(32, 64, kernel_size=(3, 3), stride=(1, 1), padding=(1, 1))),\n",
       " ('1', Linear(in_features=4096, out_features=3, bias=True)),\n",
       " ('2', Linear(in_features=3, out_features=1, bias=False))]"
      ]
     },
     "execution_count": 16,
     "metadata": {},
     "output_type": "execute_result"
    }
   ],
   "source": [
    "get_all_model_layers(model)"
   ]
  },
  {
   "cell_type": "markdown",
   "id": "753ad99e-c4c1-4bbc-bbc1-48fcc219494e",
   "metadata": {
    "tags": []
   },
   "source": [
    "### setup DeepRepViz"
   ]
  },
  {
   "cell_type": "code",
   "execution_count": 17,
   "id": "7753e556-1905-4b7f-88a3-440ed88b3ac6",
   "metadata": {
    "tags": []
   },
   "outputs": [],
   "source": [
    "dataset_path = DATASETS[0]\n",
    "unique_name = dataset_path.split('/')[-1].split('_')[-1]\n",
    "raw_csv_path = glob(f'{dataset_path}/*{unique_name}.csv')[0]\n",
    "df_data = pd.read_csv(raw_csv_path)"
   ]
  },
  {
   "cell_type": "code",
   "execution_count": 18,
   "id": "2378bc2d-15df-4e0e-bf3d-bceca6aada18",
   "metadata": {
    "tags": []
   },
   "outputs": [
    {
     "name": "stdout",
     "output_type": "stream",
     "text": [
      "Dataset: ../dataset/toybrains_n10000 (n10000)\n",
      "  Training data split = 7809 \n",
      "  Validation data split = 191 \n",
      "  Test data split = 2000\n"
     ]
    }
   ],
   "source": [
    "# split the dataset\n",
    "df_train, df_val, df_test = split_dataset(df_data, label, random_seed)\n",
    "\n",
    "print(f\"Dataset: {dataset_path} ({unique_name})\\n  Training data split = {len(df_train)} \\n \\\n",
    " Validation data split = {len(df_val)} \\n  Test data split = {len(df_test)}\")\n",
    "\n",
    "# generate data loaders\n",
    "common_settings = dict(images_dir=dataset_path+'/images',\n",
    "                       batch_size=batch_size)\n",
    "\n",
    "train_loader = get_toybrain_dataloader(\n",
    "                df_train,\n",
    "                **common_settings)\n",
    "val_loader = get_toybrain_dataloader(\n",
    "                df_val, shuffle=False,\n",
    "                **common_settings)\n",
    "test_loader = get_toybrain_dataloader(\n",
    "                df_test, shuffle=False,\n",
    "                **common_settings)"
   ]
  },
  {
   "cell_type": "code",
   "execution_count": 19,
   "id": "7ba138e5-787c-400c-98d6-413f66d7a624",
   "metadata": {
    "tags": []
   },
   "outputs": [],
   "source": [
    "# create one more datalonum_workers with the whole data and shuffle off\n",
    "# add the split info in the main df\n",
    "split_colname = 'datasplit'\n",
    "ID_col = 'subjectID'\n",
    "df_train[split_colname] = 'train'\n",
    "df_val[split_colname]   = 'val'\n",
    "df_test[split_colname]  = 'test'\n",
    "df_data = pd.concat([df_train, df_val, df_test])\n",
    "\n",
    "drv_loader_kwargs = dict(\n",
    "                img_dir=dataset_path+'/images',\n",
    "                img_names=df_data[ID_col].values,\n",
    "                labels=df_data[label].values,\n",
    "                transform=transforms.ToTensor())"
   ]
  },
  {
   "cell_type": "code",
   "execution_count": 20,
   "id": "4192f77b-c918-4f8a-aad3-64813f68c75b",
   "metadata": {},
   "outputs": [],
   "source": [
    "trainer_args = {\"max_epochs\":50, \n",
    "                \"accelerator\":'gpu',\n",
    "                \"devices\":[1]}\n",
    "early_stop_patience  = 6\n",
    "show_training_curves = not(debug)"
   ]
  },
  {
   "cell_type": "code",
   "execution_count": 21,
   "id": "44ffd0ec-2e05-4d80-9e0a-ce606d1e7def",
   "metadata": {
    "tags": []
   },
   "outputs": [
    {
     "name": "stderr",
     "output_type": "stream",
     "text": [
      "LOCAL_RANK: 0 - CUDA_VISIBLE_DEVICES: [0,1,2,3]\n",
      "\n",
      "  | Name           | Type              | Params\n",
      "-----------------------------------------------------\n",
      "0 | model          | SimpleCNN         | 36.1 K\n",
      "1 | _metric_spec   | BinarySpecificity | 0     \n",
      "2 | _metric_recall | BinaryRecall      | 0     \n",
      "3 | metric_D2      | D2metric          | 0     \n",
      "-----------------------------------------------------\n",
      "36.1 K    Trainable params\n",
      "0         Non-trainable params\n",
      "36.1 K    Total params\n",
      "0.144     Total estimated model params size (MB)\n",
      "2023-10-27 17:17:34.838073: I tensorflow/core/platform/cpu_feature_guard.cc:193] This TensorFlow binary is optimized with oneAPI Deep Neural Network Library (oneDNN) to use the following CPU instructions in performance-critical operations:  SSE4.1 SSE4.2 AVX AVX2 AVX512F AVX512_VNNI FMA\n",
      "To enable them in other operations, rebuild TensorFlow with the appropriate compiler flags.\n",
      "2023-10-27 17:17:34.977775: I tensorflow/core/util/port.cc:104] oneDNN custom operations are on. You may see slightly different numerical results due to floating-point round-off errors from different computation orders. To turn them off, set the environment variable `TF_ENABLE_ONEDNN_OPTS=0`.\n"
     ]
    },
    {
     "data": {
      "application/vnd.jupyter.widget-view+json": {
       "model_id": "",
       "version_major": 2,
       "version_minor": 0
      },
      "text/plain": [
       "Sanity Checking: 0it [00:00, ?it/s]"
      ]
     },
     "metadata": {},
     "output_type": "display_data"
    },
    {
     "name": "stderr",
     "output_type": "stream",
     "text": [
      "/ritter/roshan/installations/anaconda3/lib/python3.8/site-packages/lightning/pytorch/trainer/connectors/data_connector.py:259: UserWarning: You requested to overfit but enabled train dataloader shuffling. We are turning off the train dataloader shuffling for you.\n",
      "  rank_zero_warn(\n"
     ]
    },
    {
     "data": {
      "application/vnd.jupyter.widget-view+json": {
       "model_id": "6d2a699dc3ac4ca5a2901d734d20346d",
       "version_major": 2,
       "version_minor": 0
      },
      "text/plain": [
       "Training: 0it [00:00, ?it/s]"
      ]
     },
     "metadata": {},
     "output_type": "display_data"
    },
    {
     "data": {
      "application/vnd.jupyter.widget-view+json": {
       "model_id": "",
       "version_major": 2,
       "version_minor": 0
      },
      "text/plain": [
       "Validation: 0it [00:00, ?it/s]"
      ]
     },
     "metadata": {},
     "output_type": "display_data"
    },
    {
     "name": "stderr",
     "output_type": "stream",
     "text": [
      "LOCAL_RANK: 0 - CUDA_VISIBLE_DEVICES: [0,1,2,3]\n"
     ]
    },
    {
     "data": {
      "application/vnd.jupyter.widget-view+json": {
       "model_id": "",
       "version_major": 2,
       "version_minor": 0
      },
      "text/plain": [
       "Validation: 0it [00:00, ?it/s]"
      ]
     },
     "metadata": {},
     "output_type": "display_data"
    },
    {
     "name": "stderr",
     "output_type": "stream",
     "text": [
      "LOCAL_RANK: 0 - CUDA_VISIBLE_DEVICES: [0,1,2,3]\n"
     ]
    },
    {
     "data": {
      "application/vnd.jupyter.widget-view+json": {
       "model_id": "",
       "version_major": 2,
       "version_minor": 0
      },
      "text/plain": [
       "Validation: 0it [00:00, ?it/s]"
      ]
     },
     "metadata": {},
     "output_type": "display_data"
    },
    {
     "name": "stderr",
     "output_type": "stream",
     "text": [
      "LOCAL_RANK: 0 - CUDA_VISIBLE_DEVICES: [0,1,2,3]\n"
     ]
    },
    {
     "data": {
      "application/vnd.jupyter.widget-view+json": {
       "model_id": "",
       "version_major": 2,
       "version_minor": 0
      },
      "text/plain": [
       "Validation: 0it [00:00, ?it/s]"
      ]
     },
     "metadata": {},
     "output_type": "display_data"
    },
    {
     "name": "stderr",
     "output_type": "stream",
     "text": [
      "LOCAL_RANK: 0 - CUDA_VISIBLE_DEVICES: [0,1,2,3]\n"
     ]
    },
    {
     "data": {
      "application/vnd.jupyter.widget-view+json": {
       "model_id": "",
       "version_major": 2,
       "version_minor": 0
      },
      "text/plain": [
       "Validation: 0it [00:00, ?it/s]"
      ]
     },
     "metadata": {},
     "output_type": "display_data"
    },
    {
     "name": "stderr",
     "output_type": "stream",
     "text": [
      "LOCAL_RANK: 0 - CUDA_VISIBLE_DEVICES: [0,1,2,3]\n"
     ]
    },
    {
     "data": {
      "application/vnd.jupyter.widget-view+json": {
       "model_id": "",
       "version_major": 2,
       "version_minor": 0
      },
      "text/plain": [
       "Validation: 0it [00:00, ?it/s]"
      ]
     },
     "metadata": {},
     "output_type": "display_data"
    },
    {
     "name": "stderr",
     "output_type": "stream",
     "text": [
      "LOCAL_RANK: 0 - CUDA_VISIBLE_DEVICES: [0,1,2,3]\n"
     ]
    },
    {
     "data": {
      "application/vnd.jupyter.widget-view+json": {
       "model_id": "",
       "version_major": 2,
       "version_minor": 0
      },
      "text/plain": [
       "Validation: 0it [00:00, ?it/s]"
      ]
     },
     "metadata": {},
     "output_type": "display_data"
    },
    {
     "name": "stderr",
     "output_type": "stream",
     "text": [
      "LOCAL_RANK: 0 - CUDA_VISIBLE_DEVICES: [0,1,2,3]\n"
     ]
    },
    {
     "data": {
      "application/vnd.jupyter.widget-view+json": {
       "model_id": "",
       "version_major": 2,
       "version_minor": 0
      },
      "text/plain": [
       "Validation: 0it [00:00, ?it/s]"
      ]
     },
     "metadata": {},
     "output_type": "display_data"
    },
    {
     "name": "stderr",
     "output_type": "stream",
     "text": [
      "LOCAL_RANK: 0 - CUDA_VISIBLE_DEVICES: [0,1,2,3]\n"
     ]
    },
    {
     "data": {
      "application/vnd.jupyter.widget-view+json": {
       "model_id": "",
       "version_major": 2,
       "version_minor": 0
      },
      "text/plain": [
       "Validation: 0it [00:00, ?it/s]"
      ]
     },
     "metadata": {},
     "output_type": "display_data"
    },
    {
     "name": "stderr",
     "output_type": "stream",
     "text": [
      "LOCAL_RANK: 0 - CUDA_VISIBLE_DEVICES: [0,1,2,3]\n"
     ]
    },
    {
     "data": {
      "application/vnd.jupyter.widget-view+json": {
       "model_id": "",
       "version_major": 2,
       "version_minor": 0
      },
      "text/plain": [
       "Validation: 0it [00:00, ?it/s]"
      ]
     },
     "metadata": {},
     "output_type": "display_data"
    },
    {
     "name": "stderr",
     "output_type": "stream",
     "text": [
      "LOCAL_RANK: 0 - CUDA_VISIBLE_DEVICES: [0,1,2,3]\n"
     ]
    },
    {
     "data": {
      "application/vnd.jupyter.widget-view+json": {
       "model_id": "",
       "version_major": 2,
       "version_minor": 0
      },
      "text/plain": [
       "Validation: 0it [00:00, ?it/s]"
      ]
     },
     "metadata": {},
     "output_type": "display_data"
    },
    {
     "name": "stderr",
     "output_type": "stream",
     "text": [
      "LOCAL_RANK: 0 - CUDA_VISIBLE_DEVICES: [0,1,2,3]\n"
     ]
    },
    {
     "data": {
      "application/vnd.jupyter.widget-view+json": {
       "model_id": "",
       "version_major": 2,
       "version_minor": 0
      },
      "text/plain": [
       "Validation: 0it [00:00, ?it/s]"
      ]
     },
     "metadata": {},
     "output_type": "display_data"
    },
    {
     "name": "stderr",
     "output_type": "stream",
     "text": [
      "LOCAL_RANK: 0 - CUDA_VISIBLE_DEVICES: [0,1,2,3]\n"
     ]
    },
    {
     "data": {
      "application/vnd.jupyter.widget-view+json": {
       "model_id": "",
       "version_major": 2,
       "version_minor": 0
      },
      "text/plain": [
       "Validation: 0it [00:00, ?it/s]"
      ]
     },
     "metadata": {},
     "output_type": "display_data"
    },
    {
     "name": "stderr",
     "output_type": "stream",
     "text": [
      "LOCAL_RANK: 0 - CUDA_VISIBLE_DEVICES: [0,1,2,3]\n"
     ]
    },
    {
     "data": {
      "application/vnd.jupyter.widget-view+json": {
       "model_id": "",
       "version_major": 2,
       "version_minor": 0
      },
      "text/plain": [
       "Validation: 0it [00:00, ?it/s]"
      ]
     },
     "metadata": {},
     "output_type": "display_data"
    },
    {
     "name": "stderr",
     "output_type": "stream",
     "text": [
      "LOCAL_RANK: 0 - CUDA_VISIBLE_DEVICES: [0,1,2,3]\n"
     ]
    },
    {
     "data": {
      "application/vnd.jupyter.widget-view+json": {
       "model_id": "",
       "version_major": 2,
       "version_minor": 0
      },
      "text/plain": [
       "Validation: 0it [00:00, ?it/s]"
      ]
     },
     "metadata": {},
     "output_type": "display_data"
    },
    {
     "name": "stderr",
     "output_type": "stream",
     "text": [
      "LOCAL_RANK: 0 - CUDA_VISIBLE_DEVICES: [0,1,2,3]\n"
     ]
    },
    {
     "data": {
      "application/vnd.jupyter.widget-view+json": {
       "model_id": "",
       "version_major": 2,
       "version_minor": 0
      },
      "text/plain": [
       "Validation: 0it [00:00, ?it/s]"
      ]
     },
     "metadata": {},
     "output_type": "display_data"
    },
    {
     "name": "stderr",
     "output_type": "stream",
     "text": [
      "LOCAL_RANK: 0 - CUDA_VISIBLE_DEVICES: [0,1,2,3]\n"
     ]
    },
    {
     "data": {
      "application/vnd.jupyter.widget-view+json": {
       "model_id": "",
       "version_major": 2,
       "version_minor": 0
      },
      "text/plain": [
       "Validation: 0it [00:00, ?it/s]"
      ]
     },
     "metadata": {},
     "output_type": "display_data"
    },
    {
     "name": "stderr",
     "output_type": "stream",
     "text": [
      "LOCAL_RANK: 0 - CUDA_VISIBLE_DEVICES: [0,1,2,3]\n"
     ]
    },
    {
     "data": {
      "application/vnd.jupyter.widget-view+json": {
       "model_id": "",
       "version_major": 2,
       "version_minor": 0
      },
      "text/plain": [
       "Validation: 0it [00:00, ?it/s]"
      ]
     },
     "metadata": {},
     "output_type": "display_data"
    },
    {
     "name": "stderr",
     "output_type": "stream",
     "text": [
      "LOCAL_RANK: 0 - CUDA_VISIBLE_DEVICES: [0,1,2,3]\n"
     ]
    },
    {
     "data": {
      "application/vnd.jupyter.widget-view+json": {
       "model_id": "",
       "version_major": 2,
       "version_minor": 0
      },
      "text/plain": [
       "Validation: 0it [00:00, ?it/s]"
      ]
     },
     "metadata": {},
     "output_type": "display_data"
    },
    {
     "name": "stderr",
     "output_type": "stream",
     "text": [
      "LOCAL_RANK: 0 - CUDA_VISIBLE_DEVICES: [0,1,2,3]\n"
     ]
    },
    {
     "data": {
      "application/vnd.jupyter.widget-view+json": {
       "model_id": "",
       "version_major": 2,
       "version_minor": 0
      },
      "text/plain": [
       "Validation: 0it [00:00, ?it/s]"
      ]
     },
     "metadata": {},
     "output_type": "display_data"
    },
    {
     "name": "stderr",
     "output_type": "stream",
     "text": [
      "LOCAL_RANK: 0 - CUDA_VISIBLE_DEVICES: [0,1,2,3]\n"
     ]
    },
    {
     "data": {
      "application/vnd.jupyter.widget-view+json": {
       "model_id": "",
       "version_major": 2,
       "version_minor": 0
      },
      "text/plain": [
       "Validation: 0it [00:00, ?it/s]"
      ]
     },
     "metadata": {},
     "output_type": "display_data"
    },
    {
     "name": "stderr",
     "output_type": "stream",
     "text": [
      "LOCAL_RANK: 0 - CUDA_VISIBLE_DEVICES: [0,1,2,3]\n"
     ]
    },
    {
     "data": {
      "application/vnd.jupyter.widget-view+json": {
       "model_id": "",
       "version_major": 2,
       "version_minor": 0
      },
      "text/plain": [
       "Validation: 0it [00:00, ?it/s]"
      ]
     },
     "metadata": {},
     "output_type": "display_data"
    },
    {
     "name": "stderr",
     "output_type": "stream",
     "text": [
      "LOCAL_RANK: 0 - CUDA_VISIBLE_DEVICES: [0,1,2,3]\n"
     ]
    },
    {
     "data": {
      "application/vnd.jupyter.widget-view+json": {
       "model_id": "",
       "version_major": 2,
       "version_minor": 0
      },
      "text/plain": [
       "Validation: 0it [00:00, ?it/s]"
      ]
     },
     "metadata": {},
     "output_type": "display_data"
    },
    {
     "name": "stderr",
     "output_type": "stream",
     "text": [
      "LOCAL_RANK: 0 - CUDA_VISIBLE_DEVICES: [0,1,2,3]\n"
     ]
    },
    {
     "data": {
      "application/vnd.jupyter.widget-view+json": {
       "model_id": "",
       "version_major": 2,
       "version_minor": 0
      },
      "text/plain": [
       "Validation: 0it [00:00, ?it/s]"
      ]
     },
     "metadata": {},
     "output_type": "display_data"
    },
    {
     "name": "stderr",
     "output_type": "stream",
     "text": [
      "LOCAL_RANK: 0 - CUDA_VISIBLE_DEVICES: [0,1,2,3]\n"
     ]
    },
    {
     "data": {
      "application/vnd.jupyter.widget-view+json": {
       "model_id": "",
       "version_major": 2,
       "version_minor": 0
      },
      "text/plain": [
       "Validation: 0it [00:00, ?it/s]"
      ]
     },
     "metadata": {},
     "output_type": "display_data"
    },
    {
     "name": "stderr",
     "output_type": "stream",
     "text": [
      "LOCAL_RANK: 0 - CUDA_VISIBLE_DEVICES: [0,1,2,3]\n"
     ]
    },
    {
     "data": {
      "application/vnd.jupyter.widget-view+json": {
       "model_id": "",
       "version_major": 2,
       "version_minor": 0
      },
      "text/plain": [
       "Validation: 0it [00:00, ?it/s]"
      ]
     },
     "metadata": {},
     "output_type": "display_data"
    },
    {
     "name": "stderr",
     "output_type": "stream",
     "text": [
      "LOCAL_RANK: 0 - CUDA_VISIBLE_DEVICES: [0,1,2,3]\n"
     ]
    },
    {
     "data": {
      "application/vnd.jupyter.widget-view+json": {
       "model_id": "",
       "version_major": 2,
       "version_minor": 0
      },
      "text/plain": [
       "Validation: 0it [00:00, ?it/s]"
      ]
     },
     "metadata": {},
     "output_type": "display_data"
    },
    {
     "name": "stderr",
     "output_type": "stream",
     "text": [
      "LOCAL_RANK: 0 - CUDA_VISIBLE_DEVICES: [0,1,2,3]\n"
     ]
    },
    {
     "data": {
      "application/vnd.jupyter.widget-view+json": {
       "model_id": "",
       "version_major": 2,
       "version_minor": 0
      },
      "text/plain": [
       "Validation: 0it [00:00, ?it/s]"
      ]
     },
     "metadata": {},
     "output_type": "display_data"
    },
    {
     "name": "stderr",
     "output_type": "stream",
     "text": [
      "LOCAL_RANK: 0 - CUDA_VISIBLE_DEVICES: [0,1,2,3]\n"
     ]
    },
    {
     "data": {
      "application/vnd.jupyter.widget-view+json": {
       "model_id": "",
       "version_major": 2,
       "version_minor": 0
      },
      "text/plain": [
       "Validation: 0it [00:00, ?it/s]"
      ]
     },
     "metadata": {},
     "output_type": "display_data"
    },
    {
     "name": "stderr",
     "output_type": "stream",
     "text": [
      "LOCAL_RANK: 0 - CUDA_VISIBLE_DEVICES: [0,1,2,3]\n"
     ]
    },
    {
     "data": {
      "application/vnd.jupyter.widget-view+json": {
       "model_id": "",
       "version_major": 2,
       "version_minor": 0
      },
      "text/plain": [
       "Validation: 0it [00:00, ?it/s]"
      ]
     },
     "metadata": {},
     "output_type": "display_data"
    },
    {
     "name": "stderr",
     "output_type": "stream",
     "text": [
      "LOCAL_RANK: 0 - CUDA_VISIBLE_DEVICES: [0,1,2,3]\n"
     ]
    },
    {
     "data": {
      "application/vnd.jupyter.widget-view+json": {
       "model_id": "",
       "version_major": 2,
       "version_minor": 0
      },
      "text/plain": [
       "Validation: 0it [00:00, ?it/s]"
      ]
     },
     "metadata": {},
     "output_type": "display_data"
    },
    {
     "name": "stderr",
     "output_type": "stream",
     "text": [
      "LOCAL_RANK: 0 - CUDA_VISIBLE_DEVICES: [0,1,2,3]\n"
     ]
    },
    {
     "data": {
      "application/vnd.jupyter.widget-view+json": {
       "model_id": "",
       "version_major": 2,
       "version_minor": 0
      },
      "text/plain": [
       "Validation: 0it [00:00, ?it/s]"
      ]
     },
     "metadata": {},
     "output_type": "display_data"
    },
    {
     "name": "stderr",
     "output_type": "stream",
     "text": [
      "LOCAL_RANK: 0 - CUDA_VISIBLE_DEVICES: [0,1,2,3]\n"
     ]
    },
    {
     "data": {
      "application/vnd.jupyter.widget-view+json": {
       "model_id": "",
       "version_major": 2,
       "version_minor": 0
      },
      "text/plain": [
       "Validation: 0it [00:00, ?it/s]"
      ]
     },
     "metadata": {},
     "output_type": "display_data"
    },
    {
     "name": "stderr",
     "output_type": "stream",
     "text": [
      "LOCAL_RANK: 0 - CUDA_VISIBLE_DEVICES: [0,1,2,3]\n"
     ]
    },
    {
     "data": {
      "application/vnd.jupyter.widget-view+json": {
       "model_id": "",
       "version_major": 2,
       "version_minor": 0
      },
      "text/plain": [
       "Validation: 0it [00:00, ?it/s]"
      ]
     },
     "metadata": {},
     "output_type": "display_data"
    },
    {
     "name": "stderr",
     "output_type": "stream",
     "text": [
      "LOCAL_RANK: 0 - CUDA_VISIBLE_DEVICES: [0,1,2,3]\n"
     ]
    },
    {
     "data": {
      "application/vnd.jupyter.widget-view+json": {
       "model_id": "",
       "version_major": 2,
       "version_minor": 0
      },
      "text/plain": [
       "Validation: 0it [00:00, ?it/s]"
      ]
     },
     "metadata": {},
     "output_type": "display_data"
    },
    {
     "name": "stderr",
     "output_type": "stream",
     "text": [
      "LOCAL_RANK: 0 - CUDA_VISIBLE_DEVICES: [0,1,2,3]\n"
     ]
    },
    {
     "data": {
      "application/vnd.jupyter.widget-view+json": {
       "model_id": "",
       "version_major": 2,
       "version_minor": 0
      },
      "text/plain": [
       "Validation: 0it [00:00, ?it/s]"
      ]
     },
     "metadata": {},
     "output_type": "display_data"
    },
    {
     "name": "stderr",
     "output_type": "stream",
     "text": [
      "LOCAL_RANK: 0 - CUDA_VISIBLE_DEVICES: [0,1,2,3]\n"
     ]
    },
    {
     "data": {
      "application/vnd.jupyter.widget-view+json": {
       "model_id": "",
       "version_major": 2,
       "version_minor": 0
      },
      "text/plain": [
       "Validation: 0it [00:00, ?it/s]"
      ]
     },
     "metadata": {},
     "output_type": "display_data"
    },
    {
     "name": "stderr",
     "output_type": "stream",
     "text": [
      "LOCAL_RANK: 0 - CUDA_VISIBLE_DEVICES: [0,1,2,3]\n"
     ]
    },
    {
     "data": {
      "application/vnd.jupyter.widget-view+json": {
       "model_id": "",
       "version_major": 2,
       "version_minor": 0
      },
      "text/plain": [
       "Validation: 0it [00:00, ?it/s]"
      ]
     },
     "metadata": {},
     "output_type": "display_data"
    },
    {
     "name": "stderr",
     "output_type": "stream",
     "text": [
      "LOCAL_RANK: 0 - CUDA_VISIBLE_DEVICES: [0,1,2,3]\n"
     ]
    },
    {
     "data": {
      "application/vnd.jupyter.widget-view+json": {
       "model_id": "",
       "version_major": 2,
       "version_minor": 0
      },
      "text/plain": [
       "Validation: 0it [00:00, ?it/s]"
      ]
     },
     "metadata": {},
     "output_type": "display_data"
    },
    {
     "name": "stderr",
     "output_type": "stream",
     "text": [
      "LOCAL_RANK: 0 - CUDA_VISIBLE_DEVICES: [0,1,2,3]\n"
     ]
    },
    {
     "data": {
      "application/vnd.jupyter.widget-view+json": {
       "model_id": "",
       "version_major": 2,
       "version_minor": 0
      },
      "text/plain": [
       "Validation: 0it [00:00, ?it/s]"
      ]
     },
     "metadata": {},
     "output_type": "display_data"
    },
    {
     "name": "stderr",
     "output_type": "stream",
     "text": [
      "LOCAL_RANK: 0 - CUDA_VISIBLE_DEVICES: [0,1,2,3]\n"
     ]
    },
    {
     "data": {
      "application/vnd.jupyter.widget-view+json": {
       "model_id": "",
       "version_major": 2,
       "version_minor": 0
      },
      "text/plain": [
       "Validation: 0it [00:00, ?it/s]"
      ]
     },
     "metadata": {},
     "output_type": "display_data"
    },
    {
     "name": "stderr",
     "output_type": "stream",
     "text": [
      "LOCAL_RANK: 0 - CUDA_VISIBLE_DEVICES: [0,1,2,3]\n"
     ]
    },
    {
     "data": {
      "application/vnd.jupyter.widget-view+json": {
       "model_id": "",
       "version_major": 2,
       "version_minor": 0
      },
      "text/plain": [
       "Validation: 0it [00:00, ?it/s]"
      ]
     },
     "metadata": {},
     "output_type": "display_data"
    },
    {
     "name": "stderr",
     "output_type": "stream",
     "text": [
      "LOCAL_RANK: 0 - CUDA_VISIBLE_DEVICES: [0,1,2,3]\n"
     ]
    },
    {
     "data": {
      "application/vnd.jupyter.widget-view+json": {
       "model_id": "",
       "version_major": 2,
       "version_minor": 0
      },
      "text/plain": [
       "Validation: 0it [00:00, ?it/s]"
      ]
     },
     "metadata": {},
     "output_type": "display_data"
    },
    {
     "name": "stderr",
     "output_type": "stream",
     "text": [
      "LOCAL_RANK: 0 - CUDA_VISIBLE_DEVICES: [0,1,2,3]\n"
     ]
    },
    {
     "data": {
      "application/vnd.jupyter.widget-view+json": {
       "model_id": "",
       "version_major": 2,
       "version_minor": 0
      },
      "text/plain": [
       "Validation: 0it [00:00, ?it/s]"
      ]
     },
     "metadata": {},
     "output_type": "display_data"
    },
    {
     "name": "stderr",
     "output_type": "stream",
     "text": [
      "LOCAL_RANK: 0 - CUDA_VISIBLE_DEVICES: [0,1,2,3]\n"
     ]
    },
    {
     "data": {
      "application/vnd.jupyter.widget-view+json": {
       "model_id": "",
       "version_major": 2,
       "version_minor": 0
      },
      "text/plain": [
       "Validation: 0it [00:00, ?it/s]"
      ]
     },
     "metadata": {},
     "output_type": "display_data"
    },
    {
     "name": "stderr",
     "output_type": "stream",
     "text": [
      "LOCAL_RANK: 0 - CUDA_VISIBLE_DEVICES: [0,1,2,3]\n"
     ]
    },
    {
     "data": {
      "application/vnd.jupyter.widget-view+json": {
       "model_id": "",
       "version_major": 2,
       "version_minor": 0
      },
      "text/plain": [
       "Validation: 0it [00:00, ?it/s]"
      ]
     },
     "metadata": {},
     "output_type": "display_data"
    },
    {
     "name": "stderr",
     "output_type": "stream",
     "text": [
      "LOCAL_RANK: 0 - CUDA_VISIBLE_DEVICES: [0,1,2,3]\n"
     ]
    },
    {
     "data": {
      "application/vnd.jupyter.widget-view+json": {
       "model_id": "",
       "version_major": 2,
       "version_minor": 0
      },
      "text/plain": [
       "Validation: 0it [00:00, ?it/s]"
      ]
     },
     "metadata": {},
     "output_type": "display_data"
    },
    {
     "name": "stderr",
     "output_type": "stream",
     "text": [
      "LOCAL_RANK: 0 - CUDA_VISIBLE_DEVICES: [0,1,2,3]\n"
     ]
    },
    {
     "data": {
      "application/vnd.jupyter.widget-view+json": {
       "model_id": "",
       "version_major": 2,
       "version_minor": 0
      },
      "text/plain": [
       "Validation: 0it [00:00, ?it/s]"
      ]
     },
     "metadata": {},
     "output_type": "display_data"
    },
    {
     "name": "stderr",
     "output_type": "stream",
     "text": [
      "LOCAL_RANK: 0 - CUDA_VISIBLE_DEVICES: [0,1,2,3]\n"
     ]
    },
    {
     "data": {
      "application/vnd.jupyter.widget-view+json": {
       "model_id": "",
       "version_major": 2,
       "version_minor": 0
      },
      "text/plain": [
       "Validation: 0it [00:00, ?it/s]"
      ]
     },
     "metadata": {},
     "output_type": "display_data"
    },
    {
     "name": "stderr",
     "output_type": "stream",
     "text": [
      "LOCAL_RANK: 0 - CUDA_VISIBLE_DEVICES: [0,1,2,3]\n"
     ]
    },
    {
     "data": {
      "application/vnd.jupyter.widget-view+json": {
       "model_id": "",
       "version_major": 2,
       "version_minor": 0
      },
      "text/plain": [
       "Validation: 0it [00:00, ?it/s]"
      ]
     },
     "metadata": {},
     "output_type": "display_data"
    },
    {
     "name": "stderr",
     "output_type": "stream",
     "text": [
      "LOCAL_RANK: 0 - CUDA_VISIBLE_DEVICES: [0,1,2,3]\n",
      "LOCAL_RANK: 0 - CUDA_VISIBLE_DEVICES: [0,1,2,3]\n"
     ]
    },
    {
     "data": {
      "application/vnd.jupyter.widget-view+json": {
       "model_id": "72432ecbdd7441b1a01c7462e5d5be94",
       "version_major": 2,
       "version_minor": 0
      },
      "text/plain": [
       "Testing: 0it [00:00, ?it/s]"
      ]
     },
     "metadata": {},
     "output_type": "display_data"
    },
    {
     "name": "stdout",
     "output_type": "stream",
     "text": [
      "Test data performance with the best model:\n",
      "-------------------------------------------------------\n",
      "Dataset      = ../dataset/toybrains_n10000 (n10000)\n",
      "Balanced Acc = 87.52% \t D2 = 48.21%\n"
     ]
    }
   ],
   "source": [
    "drv = DeepRepViz(conf_table=df_data,\n",
    "                 ID_col=ID_col, label_col=label, split_col=split_colname,\n",
    "                 dataloader_class=ToyBrainsDataloader, \n",
    "                 dataloader_kwargs=drv_loader_kwargs,\n",
    "                 hook_layer=-1,\n",
    "                 debug=False)\n",
    "\n",
    "model = model_class(num_classes=num_classes)\n",
    "\n",
    "\n",
    "callbacks=[drv]\n",
    "if early_stop_patience and not debug:\n",
    "    callbacks.append(EarlyStopping(monitor=\"val_loss\", mode=\"min\", \n",
    "                                   patience=early_stop_patience))\n",
    "    \n",
    "lightning_model = LightningModel(model, learning_rate=0.05, \n",
    "                                 num_classes=num_classes)\n",
    "# configure trainer settings\n",
    "logger = TensorBoardLogger(version=unique_name, **logger_args)\n",
    "# callbacks.append(ModelCheckpoint(dirpath=logger.log_dir,\n",
    "#                          monitor=\"val_loss\", mode=\"min\",  \n",
    "#                          save_top_k=1, save_last=True))\n",
    "# delete previous logs\n",
    "try:\n",
    "    if os.path.isdir(logger.log_dir): \n",
    "        shutil.rmtree(logger.log_dir+'/')\n",
    "except:\n",
    "    pass\n",
    "# train model\n",
    "trainer = L.Trainer(callbacks=callbacks,\n",
    "                    logger=logger,\n",
    "                    # fast_dev_run= 50 if debug else False,\n",
    "                    overfit_batches= 5 if debug else 0,\n",
    "                    log_every_n_steps=2 if debug else 50,\n",
    "                    **trainer_args) # deterministic=True\n",
    "trainer.fit(\n",
    "    model=lightning_model,\n",
    "    train_dataloaders=train_loader,\n",
    "    val_dataloaders=val_loader)\n",
    "\n",
    "\n",
    "# show training curves\n",
    "if show_training_curves and (logger) and not isinstance(logger, WandbLogger):\n",
    "    metrics = pd.read_csv(f\"{logger.log_dir}/metrics.csv\")\n",
    "    aggreg_metrics = []\n",
    "    agg_col = \"epoch\"\n",
    "    for i, dfg in metrics.groupby(agg_col):\n",
    "        agg = dict(dfg.mean())\n",
    "        agg[agg_col] = int(i)\n",
    "        aggreg_metrics.append(agg)\n",
    "\n",
    "    f, axes = plt.subplots(1,2, sharex=True, \n",
    "                           constrained_layout=True, \n",
    "                           figsize=(7,3))\n",
    "    df_metrics = pd.DataFrame(aggreg_metrics)\n",
    "    df_metrics[[\"train_loss\", \"val_loss\"]].plot(\n",
    "        ylabel=\"Loss\", ax=axes[0],\n",
    "        grid=True, legend=True, xlabel=\"Epoch\", \n",
    "    )\n",
    "    df_metrics[[\"train_D2\", \"val_D2\"]].plot(\n",
    "        ylabel=r\"$D^2$\", ax=axes[1],\n",
    "        grid=True, legend=True, xlabel=\"Epoch\", ylim=(0,1)\n",
    "    )\n",
    "    plt.show()\n",
    "\n",
    "# test model\n",
    "test_scores = trainer.test(lightning_model, verbose=False,\n",
    "                           dataloaders=test_loader,\n",
    "                          )[0]\n",
    "\n",
    "print(\"Test data performance with the best model:\\n\\\n",
    "-------------------------------------------------------\\n\\\n",
    "Dataset      = {} ({})\\n\\\n",
    "Balanced Acc = {:.2f}% \\t D2 = {:.2f}%\".format(\n",
    "    dataset_path, unique_name, \n",
    "     test_scores['test_BAC']*100,  test_scores['test_D2']*100))"
   ]
  },
  {
   "cell_type": "code",
   "execution_count": 22,
   "id": "0d015ae3-8bc1-46f8-a703-8c4613efcbae",
   "metadata": {
    "tags": []
   },
   "outputs": [],
   "source": [
    "# drv.checkpoints"
   ]
  },
  {
   "cell_type": "code",
   "execution_count": 32,
   "id": "da511bb0-c430-43a6-a9f0-8a235a894559",
   "metadata": {
    "tags": []
   },
   "outputs": [
    {
     "name": "stdout",
     "output_type": "stream",
     "text": [
      "key IDs:\t <HDF5 dataset \"IDs\": shape (10000,), type \"<i8\">\n",
      "key acts:\t <HDF5 dataset \"acts\": shape (10000, 3), type \"<f4\">\n",
      "key labels:\t <HDF5 dataset \"labels\": shape (10000,), type \"<f4\">\n",
      "key preds:\t <HDF5 dataset \"preds\": shape (10000,), type \"<f4\">\n",
      "{'BAC': 0.8780689, 'D2': 0.4782772401988667, 'loss': 0.35959324}\n"
     ]
    }
   ],
   "source": [
    "import pandas as pd\n",
    "import h5py as h5\n",
    "\n",
    "print(\"Showing the contents of the last generated h5file log:\")\n",
    "h5files = sorted(\n",
    "    glob(logger.log_dir+'/deeprepvizlog/*.h5'))\n",
    "with h5.File(h5files[-1], 'r') as h5:\n",
    "    for k in h5.keys():\n",
    "        print(f'key {k}:\\t { h5[k]}')\n",
    "    print(dict(h5.attrs))"
   ]
  },
  {
   "cell_type": "code",
   "execution_count": 24,
   "id": "8a8507ce-5887-4895-a92c-393896e9f188",
   "metadata": {},
   "outputs": [],
   "source": [
    "# 'epoch', 'global_step', 'pytorch-lightning_version', 'state_dict', \n",
    "# 'loops', 'callbacks', 'optimizer_states', 'lr_schedulers'"
   ]
  },
  {
   "cell_type": "code",
   "execution_count": 25,
   "id": "590d20aa-cf93-453c-9919-618138309f49",
   "metadata": {
    "tags": []
   },
   "outputs": [],
   "source": [
    "# from pytorch_lightning.callbacks import Callback\n",
    " \n",
    "# class LogFinalLayerWeights(Callback):\n",
    "    \n",
    "#     def on_validation_batch_end(\n",
    "#         self, trainer, pl_module, outputs, batch, batch_idx, dataloader_idx):\n",
    "#         if batch_idx == 0:\n",
    "#             print(\"dataloader_idx\", dataloader_idx)\n",
    "#             wandb_logger = trainer.logger\n",
    "#             # log gradients, parameter histogram and model topology\n",
    "#             x, y = batch\n",
    "#             # log predictions as a Table\n",
    "#             columns = ['representations', 'label_true', 'label_predicted']\n",
    "#             #`outputs` comes from `LightningModule.validation_step` which corresponds to our model predictions in this case\n",
    "#             data = [[wandb.Image(x_i), y_i, y_pred] for x_i, y_i, y_pred in list(zip(x, y, outputs))]\n",
    "#             wandb_logger.log_table(key='sample_table', columns=columns, data=data)\n",
    "\n",
    "# callbacks.append(LogFinalLayerWeights())"
   ]
  },
  {
   "cell_type": "code",
   "execution_count": 26,
   "id": "5ec5432e-a66f-4626-94d0-eda66f9d08d8",
   "metadata": {
    "tags": []
   },
   "outputs": [],
   "source": [
    "# %reload_ext tensorboard\n",
    "# %tensorboard --logdir=./log_tensorboard"
   ]
  },
  {
   "cell_type": "code",
   "execution_count": 27,
   "id": "914e3099-fdf3-4223-bf2e-f9d6c53c41ad",
   "metadata": {
    "tags": []
   },
   "outputs": [],
   "source": [
    "# ! kill -9 $(lsof -t -i:6006)"
   ]
  },
  {
   "cell_type": "code",
   "execution_count": 28,
   "id": "f301e487-0e0e-4979-b227-8ff949fc501b",
   "metadata": {
    "tags": []
   },
   "outputs": [],
   "source": [
    "# trainer, logger = fit_DL_model(\n",
    "#                             DATASETS[1],\n",
    "#                             label,\n",
    "#                             model=model,\n",
    "#                             debug=debug,\n",
    "#                             logger=WandbLogger,\n",
    "#                             logger_args=logger_args,\n",
    "#                             batch_size=batch_size,\n",
    "#                             trainer_args=dict(devices=GPUs, \n",
    "#                                               max_epochs=max_epochs))"
   ]
  },
  {
   "cell_type": "code",
   "execution_count": 29,
   "id": "af45cb67-95be-4923-a9e2-89d54ad60af5",
   "metadata": {
    "tags": []
   },
   "outputs": [],
   "source": [
    "# trainer, logger = fit_DL_model(\n",
    "#                             DATASETS[2],\n",
    "#                             label,\n",
    "#                             model=model,\n",
    "#                             debug=debug,\n",
    "#                             logger=WandbLogger,\n",
    "#                             logger_args=logger_args,\n",
    "#                             batch_size=batch_size,\n",
    "#                             trainer_args=dict(devices=GPUs, \n",
    "#                                               max_epochs=max_epochs))"
   ]
  },
  {
   "cell_type": "code",
   "execution_count": 30,
   "id": "2c3bf23b-724c-46f5-8b6b-f3b0a88e2a74",
   "metadata": {},
   "outputs": [],
   "source": [
    "## dir(Trainer)\n",
    "# ['_Trainer__setup_profiler', '__class__', '__delattr__', \n",
    "# '__dict__', '__dir__', '__doc__', '__eq__', '__format__', \n",
    "# '__ge__', '__getattribute__', '__gt__', '__hash__', \n",
    "# '__init__', '__init_subclass__', '__le__', '__lt__', \n",
    "# '__module__', '__ne__', '__new__', '__reduce__', \n",
    "# '__reduce_ex__', '__repr__', '__setattr__', '__sizeof__', \n",
    "# '__str__', '__subclasshook__', '__weakref__', \n",
    "# '_accelerator_connector', '_active_loop', \n",
    "# '_callback_connector', '_checkpoint_connector', \n",
    "# '_data_connector', '_default_root_dir', '_detect_anomaly', \n",
    "# '_evaluation_loop', '_fit_impl', '_logger_connector', \n",
    "# '_loggers', '_predict_impl', '_results', '_run', \n",
    "# '_run_sanity_check', '_run_stage', '_signal_connector', \n",
    "# '_teardown', '_test_impl', '_validate_impl', \n",
    "# 'accelerator', \n",
    "# 'accumulate_grad_batches', 'barebones', 'callback_metrics', \n",
    "# 'callbacks', 'check_val_every_n_epoch', 'checkpoint_callback',\n",
    "# 'checkpoint_callbacks', 'ckpt_path', 'current_epoch', \n",
    "# 'datamodule', 'default_root_dir', 'device_ids', \n",
    "# 'distributed_sampler_kwargs', 'early_stopping_callback', \n",
    "# 'early_stopping_callbacks', 'enable_validation', \n",
    "# 'estimated_stepping_batches', 'evaluating', 'fast_dev_run', \n",
    "# 'fit', 'fit_loop', 'global_rank', 'global_step', \n",
    "# 'gradient_clip_algorithm', 'gradient_clip_val',\n",
    "# 'interrupted', 'is_global_zero', 'is_last_batch', \n",
    "# 'lightning_module', 'limit_predict_batches', \n",
    "# 'limit_test_batches', 'limit_train_batches', \n",
    "# 'limit_val_batches', 'local_rank', 'log_dir', \n",
    "# 'log_every_n_steps', 'logged_metrics', 'logger', 'loggers', \n",
    "# 'lr_scheduler_configs', 'max_epochs', 'max_steps', 'min_epochs', \n",
    "# 'min_steps', 'model', 'node_rank', 'num_devices', 'num_nodes',\n",
    "# 'num_predict_batches', 'num_sanity_val_batches', \n",
    "# 'num_sanity_val_steps', 'num_test_batches', \n",
    "# 'num_training_batches', 'num_val_batches', 'optimizers', \n",
    "# 'overfit_batches', 'precision', 'precision_plugin', \n",
    "# 'predict', 'predict_dataloaders', 'predict_loop', \n",
    "# 'predicting', 'profiler', 'progress_bar_callback', \n",
    "# 'progress_bar_metrics', 'received_sigterm', \n",
    "# 'reload_dataloaders_every_n_epochs', 'sanity_checking', \n",
    "# 'save_checkpoint', 'scaler', 'should_stop', 'state', \n",
    "# 'strategy', 'test', 'test_dataloaders', 'test_loop', \n",
    "# 'testing', 'train_dataloader', 'training', 'val_check_batch',\n",
    "# 'val_check_interval', 'val_dataloaders', \n",
    "# 'validate', 'validate_loop', 'validating', 'world_size']"
   ]
  },
  {
   "cell_type": "code",
   "execution_count": null,
   "id": "76af82a8-bc1b-4312-9908-5db2364db727",
   "metadata": {},
   "outputs": [],
   "source": []
  }
 ],
 "metadata": {
  "kernelspec": {
   "display_name": "Python 3 (ipykernel)",
   "language": "python",
   "name": "python3"
  },
  "language_info": {
   "codemirror_mode": {
    "name": "ipython",
    "version": 3
   },
   "file_extension": ".py",
   "mimetype": "text/x-python",
   "name": "python",
   "nbconvert_exporter": "python",
   "pygments_lexer": "ipython3",
   "version": "3.8.16"
  }
 },
 "nbformat": 4,
 "nbformat_minor": 5
}
