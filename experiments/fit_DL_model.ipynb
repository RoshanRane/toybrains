{
 "cells": [
  {
   "cell_type": "markdown",
   "id": "48e7013d-a866-4869-9c66-1ab46709994e",
   "metadata": {},
   "source": [
    "## load libraries"
   ]
  },
  {
   "cell_type": "code",
   "execution_count": 1,
   "id": "346fc89f-5220-4606-be5d-d4f71c968e2a",
   "metadata": {
    "tags": []
   },
   "outputs": [],
   "source": [
    "%matplotlib inline\n",
    "%load_ext autoreload\n",
    "%autoreload 2"
   ]
  },
  {
   "cell_type": "code",
   "execution_count": 2,
   "id": "2aa3843f-51d3-4ecc-bfeb-497e3ddfd7f2",
   "metadata": {
    "tags": []
   },
   "outputs": [],
   "source": [
    "# standard python packages\n",
    "import os, sys, shutil\n",
    "from glob import glob\n",
    "import numpy as np\n",
    "import pandas as pd\n",
    "import matplotlib.pyplot as plt \n",
    "import random"
   ]
  },
  {
   "cell_type": "code",
   "execution_count": 3,
   "id": "6d6f4ed1-bed9-4c6b-8b26-e49bdd129a0d",
   "metadata": {
    "tags": []
   },
   "outputs": [
    {
     "name": "stderr",
     "output_type": "stream",
     "text": [
      "/ritter/roshan/installation/miniforge3/envs/drv2/lib/python3.10/site-packages/tqdm/auto.py:21: TqdmWarning: IProgress not found. Please update jupyter and ipywidgets. See https://ipywidgets.readthedocs.io/en/stable/user_install.html\n",
      "  from .autonotebook import tqdm as notebook_tqdm\n",
      "OMP: Info #277: omp_set_nested routine deprecated, please use omp_set_max_active_levels instead.\n"
     ]
    }
   ],
   "source": [
    "sys.path.insert(0, \"../\")\n",
    "from utils.DLutils import *\n",
    "from utils.vizutils import plot_col_dists\n",
    "from create_toybrains import ToyBrainsData\n",
    "from experiments.fit_DL_model import *"
   ]
  },
  {
   "cell_type": "code",
   "execution_count": 4,
   "id": "2bc13833-e4b9-4c1a-b9a0-2c4927fe1988",
   "metadata": {
    "tags": []
   },
   "outputs": [],
   "source": [
    "DEEPREPVIZ_REPO = \"../../Deep-confound-control-v2/\"\n",
    "sys.path.append(DEEPREPVIZ_REPO)\n",
    "from DeepRepViz import *"
   ]
  },
  {
   "cell_type": "code",
   "execution_count": 5,
   "id": "e608e99b-b432-47c0-8560-a4d0095b674d",
   "metadata": {
    "tags": []
   },
   "outputs": [],
   "source": [
    "from lightning.pytorch.loggers import TensorBoardLogger, CSVLogger, WandbLogger"
   ]
  },
  {
   "cell_type": "code",
   "execution_count": 6,
   "id": "b0e8bfc7-8f59-476a-8c14-1fea33666bb5",
   "metadata": {
    "tags": []
   },
   "outputs": [],
   "source": [
    "import logging\n",
    "# disable some unneccesary lightning warnings\n",
    "logging.getLogger(\"lightning.pytorch.utilities.rank_zero\").setLevel(logging.WARNING)\n",
    "logging.getLogger(\"lightning.pytorch.accelerators.cuda\").setLevel(logging.WARNING)"
   ]
  },
  {
   "cell_type": "code",
   "execution_count": 7,
   "id": "8e9a4db4-75c4-4c44-9145-bee03dd39b7f",
   "metadata": {
    "tags": []
   },
   "outputs": [],
   "source": [
    "DATASETS = [\"../dataset/toybrains_n10000_highsignal\",\n",
    "            \"../dataset/toybrains_n10000_midsignal\",\n",
    "            \"../dataset/toybrains_n10000_lowsignal\"]"
   ]
  },
  {
   "cell_type": "code",
   "execution_count": 8,
   "id": "4c05b23b-dd86-49d6-bceb-d10dcc00ff30",
   "metadata": {},
   "outputs": [],
   "source": [
    "dataset_path = DATASETS[0]\n",
    "unique_name = dataset_path.split('/')[-1].split('_')[-1]\n",
    "raw_csv_path = glob(f'{dataset_path}/*{unique_name}.csv')[0]"
   ]
  },
  {
   "cell_type": "markdown",
   "id": "b23ea166-f53d-4e1c-9e05-56078f4b407c",
   "metadata": {},
   "source": [
    "## Generate toybrain datasets \n",
    "```bash\n",
    "$ nohup python3 create_toybrains.py -c configs.lbl1cov1 -n 10000 --suffix n_highsignal &> nohup1.out &\n",
    "$ nohup python3 create_toybrains.py -c configs.lbl1cov1_midsignal -n 10000 --suffix n_midsignal &>  nohup2.out &\n",
    "$ nohup python3 create_toybrains.py -c configs.lbl1cov1_lowsignal -n 10000 --suffix n_lowsignal &> nohup3.out &\n",
    "```"
   ]
  },
  {
   "cell_type": "markdown",
   "id": "8074f39e-5935-485b-8f8a-ea6dc337bd45",
   "metadata": {
    "jp-MarkdownHeadingCollapsed": true
   },
   "source": [
    "### Generative attr. dist."
   ]
  },
  {
   "cell_type": "code",
   "execution_count": 9,
   "id": "e952826d-09ce-4c19-b069-5227f8fa151f",
   "metadata": {
    "tags": []
   },
   "outputs": [],
   "source": [
    "# for data_dir in DATASETS:\n",
    "#     data_name = data_dir.split('/')[-1]\n",
    "#     df = pd.read_csv(f'{data_dir}/{data_name}.csv')\n",
    "#     cov_cols = df.filter(regex='^(cov_|lbl_)').columns\n",
    "#     attr_cols = df.filter(regex='^(?!(cov_|lbl_)).+').columns\n",
    "#     plot_col_dists(df, \n",
    "#                    attr_cols=attr_cols, cov_cols=cov_cols, \n",
    "#                    title=f\"{data_name}: Dist. of generative data attributes vs the labels\")\n",
    "#     plt.show()"
   ]
  },
  {
   "cell_type": "markdown",
   "id": "9edf239b-554c-44be-83c9-9f1e039183a8",
   "metadata": {},
   "source": [
    "### Baseline attr. accuracies"
   ]
  },
  {
   "cell_type": "code",
   "execution_count": 10,
   "id": "e024823f-c2d3-43be-aa2c-ffcb0e2f6467",
   "metadata": {
    "tags": []
   },
   "outputs": [
    {
     "name": "stdout",
     "output_type": "stream",
     "text": [
      "running a total of 70 different settings of [input] x [output] x [CV] and saving result in ../dataset/toybrains_n10000_highsignal\n"
     ]
    },
    {
     "name": "stderr",
     "output_type": "stream",
     "text": [
      "100%|██████████| 70/70 [00:07<00:00,  9.97it/s]\n"
     ]
    },
    {
     "name": "stdout",
     "output_type": "stream",
     "text": [
      "TOTAL RUNTIME: 0:00:08\n",
      "running a total of 70 different settings of [input] x [output] x [CV] and saving result in ../dataset/toybrains_n10000_midsignal\n"
     ]
    },
    {
     "name": "stderr",
     "output_type": "stream",
     "text": [
      "100%|██████████| 70/70 [00:04<00:00, 16.35it/s]\n"
     ]
    },
    {
     "name": "stdout",
     "output_type": "stream",
     "text": [
      "TOTAL RUNTIME: 0:00:05\n",
      "running a total of 70 different settings of [input] x [output] x [CV] and saving result in ../dataset/toybrains_n10000_lowsignal\n"
     ]
    },
    {
     "name": "stderr",
     "output_type": "stream",
     "text": [
      "100%|██████████| 70/70 [00:04<00:00, 16.50it/s]\n"
     ]
    },
    {
     "name": "stdout",
     "output_type": "stream",
     "text": [
      "TOTAL RUNTIME: 0:00:05\n"
     ]
    }
   ],
   "source": [
    "results = []\n",
    "for data_dir in DATASETS:\n",
    "    toy = ToyBrainsData(\"configs.lbl1cov1\")\n",
    "    # load the already generated dataset\n",
    "    toy.load_generated_dataset(data_dir)\n",
    "    result = toy.fit_baseline_models(CV=10) \n",
    "    results.append(result)"
   ]
  },
  {
   "cell_type": "code",
   "execution_count": 11,
   "id": "05d017b5-f64d-4f7f-bf88-071afe02f40d",
   "metadata": {
    "scrolled": true,
    "tags": []
   },
   "outputs": [
    {
     "data": {
      "image/png": "[encoded data removed]",
      "text/plain": [
       "<Figure size 1204.75x400 with 6 Axes>"
      ]
     },
     "metadata": {},
     "output_type": "display_data"
    }
   ],
   "source": [
    "toy.viz_baseline_results(results)"
   ]
  },
  {
   "cell_type": "markdown",
   "id": "dfffbcfb-1fd8-4a86-a2c7-b5eb7e019c6c",
   "metadata": {
    "jp-MarkdownHeadingCollapsed": true
   },
   "source": [
    "#### collect the results in a df"
   ]
  },
  {
   "cell_type": "code",
   "execution_count": 12,
   "id": "61bdd172-0ef5-4fa6-b020-5e8cce86cee3",
   "metadata": {},
   "outputs": [],
   "source": [
    "df_baseline = pd.concat(results)"
   ]
  },
  {
   "cell_type": "code",
   "execution_count": 13,
   "id": "32cf4e8b-3f13-4008-8899-4adcaa6a14ab",
   "metadata": {},
   "outputs": [],
   "source": [
    "grp_by_cols = ['dataset', 'inp']\n",
    "signal_col = 'test_metric'\n",
    "df_baseline_temp = df_baseline.loc[df_baseline.out.apply(lambda x: 'lbl_' in x).values, grp_by_cols+[signal_col]]"
   ]
  },
  {
   "cell_type": "code",
   "execution_count": 14,
   "id": "5b88f8a6-12f2-43ef-858e-052e4512db98",
   "metadata": {},
   "outputs": [],
   "source": [
    "df_baseline_temp = df_baseline_temp.groupby(grp_by_cols).mean().reset_index()\n",
    "df_baseline_temp.inp = df_baseline_temp.inp.map({'attr_all':r'$BL_{total}$', \n",
    "                                                 'attr_shape-midr_curv, shape-midr_vol-rad':r'$BL_{signal}$',\n",
    "                                                 'attr_brain-int_fill':r'$BL_{conf}$'})"
   ]
  },
  {
   "cell_type": "code",
   "execution_count": 15,
   "id": "60885627-e4a3-4b3e-a75d-d1744649d231",
   "metadata": {},
   "outputs": [
    {
     "data": {
      "text/html": [
       "<style type=\"text/css\">\n",
       "#T_fc146_row0_col0 {\n",
       "  width: 10em;\n",
       "  background: linear-gradient(90deg, #d65f5f 89.9%, transparent 89.9%);\n",
       "}\n",
       "#T_fc146_row0_col1 {\n",
       "  width: 10em;\n",
       "  background: linear-gradient(90deg, #d65f5f 44.2%, transparent 44.2%);\n",
       "}\n",
       "#T_fc146_row0_col2 {\n",
       "  width: 10em;\n",
       "  background: linear-gradient(90deg, #d65f5f 85.4%, transparent 85.4%);\n",
       "}\n",
       "#T_fc146_row1_col0 {\n",
       "  width: 10em;\n",
       "  background: linear-gradient(90deg, #d65f5f 49.1%, transparent 49.1%);\n",
       "}\n",
       "#T_fc146_row1_col1 {\n",
       "  width: 10em;\n",
       "  background: linear-gradient(90deg, #d65f5f 43.9%, transparent 43.9%);\n",
       "}\n",
       "#T_fc146_row1_col2 {\n",
       "  width: 10em;\n",
       "  background: linear-gradient(90deg, #d65f5f 8.6%, transparent 8.6%);\n",
       "}\n",
       "#T_fc146_row2_col0 {\n",
       "  width: 10em;\n",
       "  background: linear-gradient(90deg, #d65f5f 56.9%, transparent 56.9%);\n",
       "}\n",
       "#T_fc146_row2_col1 {\n",
       "  width: 10em;\n",
       "  background: linear-gradient(90deg, #d65f5f 44.1%, transparent 44.1%);\n",
       "}\n",
       "#T_fc146_row2_col2 {\n",
       "  width: 10em;\n",
       "  background: linear-gradient(90deg, #d65f5f 27.4%, transparent 27.4%);\n",
       "}\n",
       "</style>\n",
       "<table id=\"T_fc146\">\n",
       "  <thead>\n",
       "    <tr>\n",
       "      <th class=\"blank level0\" >&nbsp;</th>\n",
       "      <th id=\"T_fc146_level0_col0\" class=\"col_heading level0 col0\" >$BL_{total}$</th>\n",
       "      <th id=\"T_fc146_level0_col1\" class=\"col_heading level0 col1\" >$BL_{conf}$</th>\n",
       "      <th id=\"T_fc146_level0_col2\" class=\"col_heading level0 col2\" >$BL_{signal}$</th>\n",
       "    </tr>\n",
       "    <tr>\n",
       "      <th class=\"index_name level0\" >Dataset</th>\n",
       "      <th class=\"blank col0\" >&nbsp;</th>\n",
       "      <th class=\"blank col1\" >&nbsp;</th>\n",
       "      <th class=\"blank col2\" >&nbsp;</th>\n",
       "    </tr>\n",
       "  </thead>\n",
       "  <tbody>\n",
       "    <tr>\n",
       "      <th id=\"T_fc146_level0_row0\" class=\"row_heading level0 row0\" >highsignal</th>\n",
       "      <td id=\"T_fc146_row0_col0\" class=\"data row0 col0\" >0.898751</td>\n",
       "      <td id=\"T_fc146_row0_col1\" class=\"data row0 col1\" >0.442290</td>\n",
       "      <td id=\"T_fc146_row0_col2\" class=\"data row0 col2\" >0.853524</td>\n",
       "    </tr>\n",
       "    <tr>\n",
       "      <th id=\"T_fc146_level0_row1\" class=\"row_heading level0 row1\" >lowsignal</th>\n",
       "      <td id=\"T_fc146_row1_col0\" class=\"data row1 col0\" >0.491023</td>\n",
       "      <td id=\"T_fc146_row1_col1\" class=\"data row1 col1\" >0.439231</td>\n",
       "      <td id=\"T_fc146_row1_col2\" class=\"data row1 col2\" >0.086265</td>\n",
       "    </tr>\n",
       "    <tr>\n",
       "      <th id=\"T_fc146_level0_row2\" class=\"row_heading level0 row2\" >midsignal</th>\n",
       "      <td id=\"T_fc146_row2_col0\" class=\"data row2 col0\" >0.569293</td>\n",
       "      <td id=\"T_fc146_row2_col1\" class=\"data row2 col1\" >0.441084</td>\n",
       "      <td id=\"T_fc146_row2_col2\" class=\"data row2 col2\" >0.273715</td>\n",
       "    </tr>\n",
       "  </tbody>\n",
       "</table>\n"
      ],
      "text/plain": [
       "<pandas.io.formats.style.Styler at 0x7f265a30fd90>"
      ]
     },
     "execution_count": 15,
     "metadata": {},
     "output_type": "execute_result"
    }
   ],
   "source": [
    "df_final = {}\n",
    "cols = []\n",
    "for dataset, dfi in df_baseline_temp.groupby(\"dataset\"):\n",
    "    dfi = dfi[['inp','test_metric']].T\n",
    "    dfi.columns = dfi.loc['inp'].values\n",
    "    dfi = dfi.drop(index='inp')\n",
    "    if not len(cols): \n",
    "        cols = dfi.columns\n",
    "    vals = [dfi[c].values[0] for c in cols]\n",
    "    df_final.update({dataset: vals})\n",
    "    \n",
    "df_final = pd.DataFrame.from_dict(df_final, orient='index', columns=cols)\n",
    "df_final.index.name = 'Dataset'\n",
    "df_final.index = df_final.index.str.replace('../dataset/toybrains_n10000_', '')\n",
    "df_final.style.bar(vmin=0, vmax=1)"
   ]
  },
  {
   "cell_type": "markdown",
   "id": "a16a340d-5bf9-4e78-b616-116f2e91443c",
   "metadata": {
    "tags": []
   },
   "source": [
    "## Fit DL models"
   ]
  },
  {
   "cell_type": "code",
   "execution_count": 41,
   "id": "d131d425-fb90-439a-b2d1-e7aa05847ffb",
   "metadata": {},
   "outputs": [],
   "source": [
    "debug = True\n",
    "label = \"lbl_lesion\"\n",
    "random_seed=42 if debug else None\n",
    "batch_size=64"
   ]
  },
  {
   "cell_type": "markdown",
   "id": "45eed1a4-08f8-4dd9-a896-7c81f3c2a174",
   "metadata": {
    "jp-MarkdownHeadingCollapsed": true,
    "tags": []
   },
   "source": [
    "#### select the GPU"
   ]
  },
  {
   "cell_type": "code",
   "execution_count": 42,
   "id": "3ffef70c-7bef-483c-8ffb-d488bf59a5de",
   "metadata": {
    "tags": []
   },
   "outputs": [
    {
     "name": "stdout",
     "output_type": "stream",
     "text": [
      "\u001b[1m\u001b[37mcuda01                       \u001b[m  Fri Nov 10 10:51:18 2023  \u001b[1m\u001b[30m545.23.06\u001b[m\n",
      "\u001b[36m[0]\u001b[m \u001b[34mNVIDIA GeForce GTX 1080 Ti\u001b[m |\u001b[31m 26'C\u001b[m, \u001b[32m  0 %\u001b[m | \u001b[36m\u001b[1m\u001b[33m   98\u001b[m / \u001b[33m11264\u001b[m MB | \u001b[1m\u001b[30mgdm\u001b[m(\u001b[33m4M\u001b[m)\n",
      "\u001b[36m[1]\u001b[m \u001b[34mNVIDIA GeForce GTX 1080 Ti\u001b[m |\u001b[31m 28'C\u001b[m, \u001b[32m  0 %\u001b[m | \u001b[36m\u001b[1m\u001b[33m   98\u001b[m / \u001b[33m11264\u001b[m MB | \u001b[1m\u001b[30mgdm\u001b[m(\u001b[33m4M\u001b[m)\n",
      "\u001b[36m[2]\u001b[m \u001b[34mNVIDIA GeForce GTX 1080 Ti\u001b[m |\u001b[31m 28'C\u001b[m, \u001b[32m  0 %\u001b[m | \u001b[36m\u001b[1m\u001b[33m   98\u001b[m / \u001b[33m11264\u001b[m MB | \u001b[1m\u001b[30mgdm\u001b[m(\u001b[33m4M\u001b[m)\n",
      "\u001b[36m[3]\u001b[m \u001b[34mNVIDIA GeForce GTX 1080 Ti\u001b[m |\u001b[31m 28'C\u001b[m, \u001b[32m  0 %\u001b[m | \u001b[36m\u001b[1m\u001b[33m   98\u001b[m / \u001b[33m11264\u001b[m MB | \u001b[1m\u001b[30mgdm\u001b[m(\u001b[33m4M\u001b[m)\n",
      "\u001b[36m[4]\u001b[m \u001b[34mNVIDIA GeForce GTX 1080 Ti\u001b[m |\u001b[31m 26'C\u001b[m, \u001b[32m  0 %\u001b[m | \u001b[36m\u001b[1m\u001b[33m   98\u001b[m / \u001b[33m11264\u001b[m MB | \u001b[1m\u001b[30mgdm\u001b[m(\u001b[33m4M\u001b[m)\n",
      "\u001b[36m[5]\u001b[m \u001b[34mNVIDIA GeForce GTX 1080 Ti\u001b[m |\u001b[31m 26'C\u001b[m, \u001b[32m  0 %\u001b[m | \u001b[36m\u001b[1m\u001b[33m   98\u001b[m / \u001b[33m11264\u001b[m MB | \u001b[1m\u001b[30mgdm\u001b[m(\u001b[33m4M\u001b[m)\n",
      "\u001b[36m[6]\u001b[m \u001b[34mNVIDIA GeForce GTX 1080 Ti\u001b[m |\u001b[31m 28'C\u001b[m, \u001b[32m  0 %\u001b[m | \u001b[36m\u001b[1m\u001b[33m   98\u001b[m / \u001b[33m11264\u001b[m MB | \u001b[1m\u001b[30mgdm\u001b[m(\u001b[33m4M\u001b[m)\n",
      "\u001b[36m[7]\u001b[m \u001b[34mNVIDIA GeForce GTX 1080 Ti\u001b[m |\u001b[31m 26'C\u001b[m, \u001b[32m  0 %\u001b[m | \u001b[36m\u001b[1m\u001b[33m   98\u001b[m / \u001b[33m11264\u001b[m MB | \u001b[1m\u001b[30mgdm\u001b[m(\u001b[33m4M\u001b[m)\n"
     ]
    }
   ],
   "source": [
    "# check GPUs available and memory\n",
    "! gpustat"
   ]
  },
  {
   "cell_type": "code",
   "execution_count": 43,
   "id": "2942cfef-fce1-4b8c-9fd5-7834e0ce8af5",
   "metadata": {
    "tags": []
   },
   "outputs": [],
   "source": [
    "GPUs = [1]"
   ]
  },
  {
   "cell_type": "code",
   "execution_count": 44,
   "id": "4731c25c-40ae-4994-96e0-25abfce5a09b",
   "metadata": {},
   "outputs": [],
   "source": [
    "torch.set_float32_matmul_precision('medium')\n",
    "os.environ[\"CUDA_LAUNCH_BLOCKING\"]=\"1\"\n",
    "os.environ[\"TF_ENABLE_ONEDNN_OPTS\"]=\"0\""
   ]
  },
  {
   "cell_type": "markdown",
   "id": "4e62c776-1356-4f35-ae31-0153c3f8d234",
   "metadata": {
    "jp-MarkdownHeadingCollapsed": true
   },
   "source": [
    "#### Model config"
   ]
  },
  {
   "cell_type": "code",
   "execution_count": 47,
   "id": "fbc7a2c3-1665-4555-aec5-3a6afd18e571",
   "metadata": {
    "tags": []
   },
   "outputs": [],
   "source": [
    "model_class = SimpleCNN\n",
    "model_kwargs=dict(num_classes=1, final_act_size=3)\n"
   ]
  },
  {
   "cell_type": "markdown",
   "id": "95014053-b502-42be-a257-3679e825ff2d",
   "metadata": {},
   "source": [
    "test model init and see model layer names for hook"
   ]
  },
  {
   "cell_type": "code",
   "execution_count": 48,
   "id": "282445e8-ff0a-4350-bba7-62683c74bf67",
   "metadata": {},
   "outputs": [
    {
     "name": "stdout",
     "output_type": "stream",
     "text": [
      "pytorch_total_params = 36103)\n"
     ]
    }
   ],
   "source": [
    "model = model_class(**model_kwargs)\n",
    "print(f\"pytorch_total_params = {sum(p.numel() for p in model.parameters() if p.requires_grad)})\")"
   ]
  },
  {
   "cell_type": "code",
   "execution_count": 21,
   "id": "f94dccfc-5ea4-44d6-8045-c42f84c7218e",
   "metadata": {
    "tags": []
   },
   "outputs": [
    {
     "data": {
      "text/plain": [
       "[('0', Conv2d(3, 16, kernel_size=(3, 3), stride=(1, 1), padding=(1, 1))),\n",
       " ('0', Conv2d(16, 32, kernel_size=(3, 3), stride=(1, 1), padding=(1, 1))),\n",
       " ('0', Conv2d(32, 64, kernel_size=(3, 3), stride=(1, 1), padding=(1, 1))),\n",
       " ('1', Linear(in_features=4096, out_features=32, bias=True)),\n",
       " ('2', Linear(in_features=32, out_features=1, bias=True))]"
      ]
     },
     "execution_count": 21,
     "metadata": {},
     "output_type": "execute_result"
    }
   ],
   "source": [
    "get_all_model_layers(model)"
   ]
  },
  {
   "cell_type": "markdown",
   "id": "753ad99e-c4c1-4bbc-bbc1-48fcc219494e",
   "metadata": {
    "tags": []
   },
   "source": [
    "#### Load data"
   ]
  },
  {
   "cell_type": "code",
   "execution_count": 22,
   "id": "7753e556-1905-4b7f-88a3-440ed88b3ac6",
   "metadata": {
    "tags": []
   },
   "outputs": [],
   "source": [
    "df_data = pd.read_csv(raw_csv_path)"
   ]
  },
  {
   "cell_type": "code",
   "execution_count": 23,
   "id": "2378bc2d-15df-4e0e-bf3d-bceca6aada18",
   "metadata": {
    "tags": []
   },
   "outputs": [
    {
     "name": "stdout",
     "output_type": "stream",
     "text": [
      "Dataset: ../dataset/toybrains_n10000_highsignal (highsignal)\n",
      "  Training data split = 7809 \n",
      "  Validation data split = 191 \n",
      "  Test data split = 2000\n"
     ]
    }
   ],
   "source": [
    "# split the dataset\n",
    "df_train, df_val, df_test = split_dataset(df_data, label, random_seed)\n",
    "\n",
    "print(f\"Dataset: {dataset_path} ({unique_name})\\n  Training data split = {len(df_train)} \\n \\\n",
    " Validation data split = {len(df_val)} \\n  Test data split = {len(df_test)}\")\n",
    "\n",
    "# generate data loaders\n",
    "common_settings = dict(images_dir=dataset_path+'/images',\n",
    "                       batch_size=batch_size,\n",
    "                       num_workers=16)\n",
    "\n",
    "train_loader = get_toybrain_dataloader(\n",
    "                df_train,\n",
    "                **common_settings)\n",
    "val_loader = get_toybrain_dataloader(\n",
    "                df_val, shuffle=False,\n",
    "                **common_settings)\n",
    "test_loader = get_toybrain_dataloader(\n",
    "                df_test, shuffle=False,\n",
    "                **common_settings)"
   ]
  },
  {
   "cell_type": "markdown",
   "id": "d535f968-1d5c-45a5-a813-37159a8a7ae3",
   "metadata": {
    "jp-MarkdownHeadingCollapsed": true
   },
   "source": [
    "#### DeepRepViz Init"
   ]
  },
  {
   "cell_type": "code",
   "execution_count": 24,
   "id": "7ba138e5-787c-400c-98d6-413f66d7a624",
   "metadata": {
    "tags": []
   },
   "outputs": [],
   "source": [
    "# create one full dataloader with the whole data and no shuffle enabled\n",
    "split_colname = 'datasplit'\n",
    "ID_col = 'subjectID'\n",
    "# add the split info too\n",
    "df_train[split_colname] = 'train'\n",
    "df_val[split_colname]   = 'val'\n",
    "df_test[split_colname]  = 'test'\n",
    "df_data = pd.concat([df_train, df_val, df_test])\n",
    "IDs = df_data[ID_col].values\n",
    "expected_labels = df_data[label].values\n",
    "datasplits = df_data[split_colname].values\n",
    "\n",
    "drv_loader_kwargs = dict(\n",
    "                img_dir=dataset_path+'/images',\n",
    "                img_names=df_data[ID_col].values,\n",
    "                labels=df_data[label].values,\n",
    "                transform=transforms.ToTensor())\n",
    "\n",
    "deeprepviz_kwargs = dict(\n",
    "                 dataloader_class=ToyBrainsDataloader, \n",
    "                 dataloader_kwargs=drv_loader_kwargs,\n",
    "                 expected_IDs=IDs, expected_labels=expected_labels, datasplits=datasplits,\n",
    "                 hook_layer=-1,\n",
    "                 debug=False)"
   ]
  },
  {
   "cell_type": "code",
   "execution_count": 25,
   "id": "75ceb783-2dcd-4fe6-99a0-746ea5d56dd7",
   "metadata": {},
   "outputs": [
    {
     "data": {
      "text/plain": [
       "<DeepRepViz.DeepRepViz at 0x7ff651a0aa70>"
      ]
     },
     "execution_count": 25,
     "metadata": {},
     "output_type": "execute_result"
    }
   ],
   "source": [
    "# test DeepRepViz config\n",
    "DeepRepViz(**deeprepviz_kwargs)"
   ]
  },
  {
   "cell_type": "markdown",
   "id": "b09fdb70-f6c8-48f0-a205-f8dee6184abe",
   "metadata": {},
   "source": [
    "#### run training "
   ]
  },
  {
   "cell_type": "code",
   "execution_count": null,
   "id": "44ffd0ec-2e05-4d80-9e0a-ce606d1e7def",
   "metadata": {
    "tags": []
   },
   "outputs": [],
   "source": [
    "\n",
    "# setup training args\n",
    "logger_args = dict(save_dir='log', \n",
    "                   name=f'toybrains-{unique_name}')\n",
    "trainer_args = {\"max_epochs\":5 if debug else 50, \n",
    "                \"accelerator\":'gpu',\n",
    "                \"devices\":[1]}\n",
    "early_stop_patience  = 6\n",
    "\n",
    "# reinit model\n",
    "model = model_class(**model_kwargs)\n",
    "\n",
    "# reinit deeprepviz\n",
    "drv = DeepRepViz(**deeprepviz_kwargs)\n",
    "\n",
    "callbacks=[drv]\n",
    "if early_stop_patience:\n",
    "    callbacks.append(EarlyStopping(monitor=\"val_loss\", mode=\"min\", \n",
    "                                   patience=early_stop_patience))\n",
    "    \n",
    "lightning_model = LightningModel(model, learning_rate=0.05, \n",
    "                                 num_classes=model_kwargs['num_classes'])\n",
    "# configure trainer settings\n",
    "logger = TensorBoardLogger( **logger_args)\n",
    "logger.log_dir += 'debugmode'\n",
    "! rm -rf /log/*debugmode*\n",
    "               \n",
    "# train model\n",
    "trainer = L.Trainer(callbacks=callbacks,\n",
    "                    logger=logger,\n",
    "                    overfit_batches= 5 if debug else 0,\n",
    "                    log_every_n_steps= 2 if debug else 50,\n",
    "                    **trainer_args) # deterministic=True\n",
    "trainer.fit(\n",
    "    model=lightning_model,\n",
    "    train_dataloaders=train_loader,\n",
    "    val_dataloaders=val_loader)\n",
    "\n",
    "\n",
    "# test model\n",
    "test_scores = trainer.test(lightning_model, verbose=False,\n",
    "                           dataloaders=test_loader,\n",
    "                          )[0]\n",
    "\n",
    "print(\"Test data performance with the best model:\\n\\\n",
    "-------------------------------------------------------\\n\\\n",
    "Dataset      = {} ({})\\n\\\n",
    "Balanced Acc = {:.2f}% \\t D2 = {:.2f}%\".format(\n",
    "    dataset_path, unique_name, \n",
    "     test_scores['test_BAC']*100,  test_scores['test_D2']*100))"
   ]
  },
  {
   "cell_type": "markdown",
   "id": "b2440bed-168d-4eaa-bab0-a02d1935bcc0",
   "metadata": {},
   "source": [
    "## Process DeepRepVizLogs"
   ]
  },
  {
   "cell_type": "code",
   "execution_count": 16,
   "id": "49208e9a-8952-4639-a1e8-bd75a858cd7a",
   "metadata": {},
   "outputs": [],
   "source": [
    "df_confs = pd.read_csv(raw_csv_path)\n",
    "ID_col = 'subjectID'\n",
    "label = 'lbl_lesion'"
   ]
  },
  {
   "cell_type": "code",
   "execution_count": 17,
   "id": "1816abcb-1372-4f1c-9f13-2e4821606713",
   "metadata": {},
   "outputs": [
    {
     "name": "stdout",
     "output_type": "stream",
     "text": [
      "[log] Potential Confounders to be assessed:\n",
      "[log] \t cov_site                   predtype: classif_binary    uniques = {'siteA': 5006, 'siteB': 4994}\n",
      "[log] \t lbl_lesion                 predtype: classif_binary    uniques = {True: 5021, False: 4979}\n",
      "[log] \t brain-int_border           predtype: classif           uniques = {'2-darkslateblue': 2588, '3-darkblue': 2545, '1-slateblue': 2438, '0-mediumslateblue': 2429}\n",
      "[log] \t brain-int_fill             predtype: regression        \n",
      "[log] \t brain-vol_radmajor         predtype: regression        \n",
      "[log] \t brain-vol_radminor         predtype: regression        \n",
      "[log] \t brain_thick                predtype: regression        \n",
      "[log] \t shape-botl_curv            predtype: regression        \n",
      "[log] \t shape-botl_int             predtype: classif           uniques = {'3-palegoldenrod': 1688, '5-darkgreen': 1686, '0-indianred': 1680, '1-salmon': 1658, '2-lightsalmon': 1658, '4-lightgreen': 1630}\n",
      "[log] \t shape-botl_vol-rad         predtype: regression        \n",
      "[log] \t shape-botr_curv            predtype: regression        \n",
      "[log] \t shape-botr_int             predtype: classif           uniques = {'3-palegoldenrod': 1709, '5-darkgreen': 1683, '4-lightgreen': 1675, '1-salmon': 1669, '0-indianred': 1638, '2-lightsalmon': 1626}\n",
      "[log] \t shape-botr_vol-rad         predtype: regression        \n",
      "[log] \t shape-midl_curv            predtype: regression        \n",
      "[log] \t shape-midl_int             predtype: classif           uniques = {'4-lightgreen': 1731, '2-lightsalmon': 1685, '5-darkgreen': 1674, '3-palegoldenrod': 1667, '0-indianred': 1646, '1-salmon': 1597}\n",
      "[log] \t shape-midl_vol-rad         predtype: regression        \n",
      "[log] \t shape-midr_curv            predtype: regression        \n",
      "[log] \t shape-midr_int             predtype: classif           uniques = {'4-lightgreen': 1760, '5-darkgreen': 1663, '1-salmon': 1659, '2-lightsalmon': 1643, '0-indianred': 1642, '3-palegoldenrod': 1633}\n",
      "[log] \t shape-midr_vol-rad         predtype: regression        \n",
      "[log] \t shape-top_curv             predtype: regression        \n",
      "[log] \t shape-top_int              predtype: classif           uniques = {'1-salmon': 1715, '3-palegoldenrod': 1693, '2-lightsalmon': 1673, '0-indianred': 1665, '5-darkgreen': 1658, '4-lightgreen': 1596}\n",
      "[log] \t shape-top_vol-rad          predtype: regression        \n",
      "[log] \t vent_thick                 predtype: regression        \n",
      "[log] \t brain-vol                  predtype: regression        \n",
      "[log] \t shape-top_vol              predtype: regression        \n",
      "[log] \t shape-midr_vol             predtype: regression        \n",
      "[log] \t shape-midl_vol             predtype: regression        \n",
      "[log] \t shape-botr_vol             predtype: regression        \n",
      "[log] \t shape-botl_vol             predtype: regression        \n"
     ]
    }
   ],
   "source": [
    "from DeepRepVizBackend import DeepRepVizBackend\n",
    "\n",
    "drv_backend = DeepRepVizBackend(\n",
    "                  conf_table=df_confs,\n",
    "                  ID_col=ID_col, label_col=label,\n",
    "                  debug=True)"
   ]
  },
  {
   "cell_type": "code",
   "execution_count": 74,
   "id": "3dd1093b-5299-47eb-abce-5c27daccf632",
   "metadata": {},
   "outputs": [
    {
     "data": {
      "text/plain": [
       "['log/toybrains-highsignal_SimpleCNN_cls1-fea3/version_0/deeprepvizlog/',\n",
       " 'log/toybrains-highsignal_SimpleCNN_cls1-fea64/version_0/deeprepvizlog/',\n",
       " 'log/toybrains-lowsignal_SimpleCNN_cls1-fea3/version_0/deeprepvizlog/',\n",
       " 'log/toybrains-lowsignal_SimpleCNN_cls1-fea64/version_0/deeprepvizlog/',\n",
       " 'log/toybrains-midsignal_SimpleCNN_cls1-fea3/version_0/deeprepvizlog/',\n",
       " 'log/toybrains-midsignal_SimpleCNN_cls1-fea64/version_0/deeprepvizlog/']"
      ]
     },
     "execution_count": 74,
     "metadata": {},
     "output_type": "execute_result"
    }
   ],
   "source": [
    "logdirs = sorted([logdir for logdir in glob(\"log/toybrains*/*/deeprepvizlog/\")])\n",
    "logdirs"
   ]
  },
  {
   "cell_type": "code",
   "execution_count": 19,
   "id": "27a36a1e-5612-4f67-8a0b-7574ff5db6ac",
   "metadata": {},
   "outputs": [],
   "source": [
    "for logdir in logdirs:\n",
    "    drv_backend.load_log(logdir)"
   ]
  },
  {
   "cell_type": "code",
   "execution_count": 20,
   "id": "a8a01e55-5dff-432e-9210-6590cb102e9e",
   "metadata": {},
   "outputs": [
    {
     "data": {
      "text/plain": [
       "dict_keys(['log/toybrains-highsignal_SimpleCNN_cls1-fea3/version_0/deeprepvizlog/', 'log/toybrains-midsignal_SimpleCNN_cls1-fea64/version_0/deeprepvizlog/', 'log/toybrains-lowsignal_SimpleCNN_cls1-fea3/version_0/deeprepvizlog/', 'log/toybrains-lowsignal_SimpleCNN_cls1-fea64/version_0/deeprepvizlog/', 'log/toybrains-highsignal_SimpleCNN_cls1-fea64/version_0/deeprepvizlog/', 'log/toybrains-midsignal_SimpleCNN_cls1-fea3/version_0/deeprepvizlog/'])"
      ]
     },
     "execution_count": 20,
     "metadata": {},
     "output_type": "execute_result"
    }
   ],
   "source": [
    "drv_backend.deeprepvizlogs.keys()"
   ]
  },
  {
   "cell_type": "markdown",
   "id": "feffe987-45be-42fd-9b9f-6a1ea26a98d6",
   "metadata": {},
   "source": [
    "### Compute dcor metric"
   ]
  },
  {
   "cell_type": "code",
   "execution_count": 87,
   "metadata": {},
   "outputs": [
    {
     "name": "stdout",
     "output_type": "stream",
     "text": [
      "generating DCOR values for n=5 covariates using model representation at ckpt_idx=42 from log/toybrains-highsignal_SimpleCNN_cls1-fea3/version_0/deeprepvizlog/\n"
     ]
    },
    {
     "name": "stderr",
     "output_type": "stream",
     "text": [
      "\n",
      "\u001b[A"
     ]
    },
    {
     "name": "stderr",
     "output_type": "stream",
     "text": [
      "\n",
      "\u001b[A\n",
      "\u001b[A\n",
      "\u001b[A\n",
      "\u001b[A\n",
      "100%|██████████| 5/5 [00:06<00:00,  1.22s/it]\n"
     ]
    },
    {
     "name": "stdout",
     "output_type": "stream",
     "text": [
      "generating MI values for n=5 covariates using model representation at ckpt_idx=42 from log/toybrains-highsignal_SimpleCNN_cls1-fea3/version_0/deeprepvizlog/\n"
     ]
    },
    {
     "name": "stderr",
     "output_type": "stream",
     "text": [
      "\n",
      "\u001b[A\n",
      "\u001b[A\n",
      "\u001b[A\n",
      "\u001b[A\n",
      "\u001b[A\n",
      "100%|██████████| 5/5 [00:00<00:00,  6.77it/s]\n"
     ]
    },
    {
     "name": "stdout",
     "output_type": "stream",
     "text": [
      "generating CON values for n=5 covariates using model representation at ckpt_idx=42 from log/toybrains-highsignal_SimpleCNN_cls1-fea3/version_0/deeprepvizlog/\n"
     ]
    },
    {
     "name": "stderr",
     "output_type": "stream",
     "text": [
      "\n",
      "\u001b[A\n",
      "100%|██████████| 5/5 [00:00<00:00, 27.72it/s]\n"
     ]
    },
    {
     "name": "stdout",
     "output_type": "stream",
     "text": [
      "generating COSTETA values for n=5 covariates using model representation at ckpt_idx=42 from log/toybrains-highsignal_SimpleCNN_cls1-fea3/version_0/deeprepvizlog/\n"
     ]
    },
    {
     "name": "stderr",
     "output_type": "stream",
     "text": [
      "\n",
      "100%|██████████| 5/5 [00:00<00:00, 154.03it/s]\n"
     ]
    },
    {
     "name": "stdout",
     "output_type": "stream",
     "text": [
      "generating R2 values for n=5 covariates using model representation at ckpt_idx=42 from log/toybrains-highsignal_SimpleCNN_cls1-fea3/version_0/deeprepvizlog/\n"
     ]
    },
    {
     "name": "stderr",
     "output_type": "stream",
     "text": [
      "\n",
      "100%|██████████| 5/5 [00:00<00:00, 154.34it/s]\n"
     ]
    },
    {
     "data": {
      "text/plain": [
       "{'dcor': {'lbl_lesion': 3.374206728752124e-05,\n",
       "  'cov_site': 2.9045805355000344e-05,\n",
       "  'brain-int_fill': 0.00010673240659588407,\n",
       "  'shape-midr_curv': 0.00010919500162191595,\n",
       "  'shape-midr_vol-rad': 0.0001932848583904272},\n",
       " 'mi': {'lbl_lesion': 0.0,\n",
       "  'cov_site': 0.0010323330305495777,\n",
       "  'brain-int_fill': 0.0014935313334068685,\n",
       "  'shape-midr_curv': 0.0004975893658866563,\n",
       "  'shape-midr_vol-rad': 0.000555297865703667},\n",
       " 'con': {'lbl_lesion': 0.0002905061339592593,\n",
       "  'cov_site': 0.00014840937690417807,\n",
       "  'brain-int_fill': 8.42736019029131e-05,\n",
       "  'shape-midr_curv': 0.0004389194528243129,\n",
       "  'shape-midr_vol-rad': 0.0003311167725395708},\n",
       " 'costeta': {'lbl_lesion': -0.7442940021646762,\n",
       "  'cov_site': -0.8501390766772442,\n",
       "  'brain-int_fill': 0.9379920840680627,\n",
       "  'shape-midr_curv': 0.9369275248894299,\n",
       "  'shape-midr_vol-rad': 0.9373767365015341},\n",
       " 'r2': {'lbl_lesion': 0.0003903109968834391,\n",
       "  'cov_site': 0.00017457070375383036,\n",
       "  'brain-int_fill': 8.984468348327557e-05,\n",
       "  'shape-midr_curv': 0.00046846681431000903,\n",
       "  'shape-midr_vol-rad': 0.0003532376681070204}}"
      ]
     },
     "metadata": {},
     "output_type": "display_data"
    },
    {
     "name": "stdout",
     "output_type": "stream",
     "text": [
      "generating DCOR values for n=5 covariates using model representation at ckpt_idx=30 from log/toybrains-highsignal_SimpleCNN_cls1-fea64/version_0/deeprepvizlog/\n"
     ]
    },
    {
     "name": "stderr",
     "output_type": "stream",
     "text": [
      "\n",
      "\u001b[A\n",
      "\u001b[A\n",
      "\u001b[A\n",
      "\u001b[A\n",
      "\u001b[A\n",
      "100%|██████████| 5/5 [00:35<00:00,  7.17s/it]\n"
     ]
    },
    {
     "name": "stdout",
     "output_type": "stream",
     "text": [
      "generating MI values for n=5 covariates using model representation at ckpt_idx=30 from log/toybrains-highsignal_SimpleCNN_cls1-fea64/version_0/deeprepvizlog/\n"
     ]
    },
    {
     "name": "stderr",
     "output_type": "stream",
     "text": [
      "\n",
      "\u001b[A\n",
      "\u001b[A\n",
      "\u001b[A\n",
      "\u001b[A\n",
      "\u001b[A\n",
      "100%|██████████| 5/5 [00:14<00:00,  2.89s/it]\n"
     ]
    },
    {
     "name": "stdout",
     "output_type": "stream",
     "text": [
      "generating CON values for n=5 covariates using model representation at ckpt_idx=30 from log/toybrains-highsignal_SimpleCNN_cls1-fea64/version_0/deeprepvizlog/\n"
     ]
    },
    {
     "name": "stderr",
     "output_type": "stream",
     "text": [
      "\n",
      "\u001b[A/ritter/roshan/installation/miniforge3/envs/drv2/lib/python3.10/site-packages/sklearn/linear_model/_logistic.py:460: ConvergenceWarning: lbfgs failed to converge (status=1):\n",
      "STOP: TOTAL NO. of ITERATIONS REACHED LIMIT.\n",
      "\n",
      "Increase the number of iterations (max_iter) or scale the data as shown in:\n",
      "    https://scikit-learn.org/stable/modules/preprocessing.html\n",
      "Please also refer to the documentation for alternative solver options:\n",
      "    https://scikit-learn.org/stable/modules/linear_model.html#logistic-regression\n",
      "  n_iter_i = _check_optimize_result(\n",
      "\n",
      "\u001b[A/ritter/roshan/installation/miniforge3/envs/drv2/lib/python3.10/site-packages/sklearn/linear_model/_logistic.py:460: ConvergenceWarning: lbfgs failed to converge (status=1):\n",
      "STOP: TOTAL NO. of ITERATIONS REACHED LIMIT.\n",
      "\n",
      "Increase the number of iterations (max_iter) or scale the data as shown in:\n",
      "    https://scikit-learn.org/stable/modules/preprocessing.html\n",
      "Please also refer to the documentation for alternative solver options:\n",
      "    https://scikit-learn.org/stable/modules/linear_model.html#logistic-regression\n",
      "  n_iter_i = _check_optimize_result(\n",
      "\n",
      "100%|██████████| 5/5 [00:01<00:00,  2.79it/s]\n"
     ]
    },
    {
     "name": "stdout",
     "output_type": "stream",
     "text": [
      "generating COSTETA values for n=5 covariates using model representation at ckpt_idx=30 from log/toybrains-highsignal_SimpleCNN_cls1-fea64/version_0/deeprepvizlog/\n"
     ]
    },
    {
     "name": "stderr",
     "output_type": "stream",
     "text": [
      "\n",
      "\u001b[A/ritter/roshan/installation/miniforge3/envs/drv2/lib/python3.10/site-packages/sklearn/linear_model/_logistic.py:460: ConvergenceWarning: lbfgs failed to converge (status=1):\n",
      "STOP: TOTAL NO. of ITERATIONS REACHED LIMIT.\n",
      "\n",
      "Increase the number of iterations (max_iter) or scale the data as shown in:\n",
      "    https://scikit-learn.org/stable/modules/preprocessing.html\n",
      "Please also refer to the documentation for alternative solver options:\n",
      "    https://scikit-learn.org/stable/modules/linear_model.html#logistic-regression\n",
      "  n_iter_i = _check_optimize_result(\n",
      "\n",
      "\u001b[A/ritter/roshan/installation/miniforge3/envs/drv2/lib/python3.10/site-packages/sklearn/linear_model/_logistic.py:460: ConvergenceWarning: lbfgs failed to converge (status=1):\n",
      "STOP: TOTAL NO. of ITERATIONS REACHED LIMIT.\n",
      "\n",
      "Increase the number of iterations (max_iter) or scale the data as shown in:\n",
      "    https://scikit-learn.org/stable/modules/preprocessing.html\n",
      "Please also refer to the documentation for alternative solver options:\n",
      "    https://scikit-learn.org/stable/modules/linear_model.html#logistic-regression\n",
      "  n_iter_i = _check_optimize_result(\n",
      "\n",
      "100%|██████████| 5/5 [00:01<00:00,  2.83it/s]\n"
     ]
    },
    {
     "name": "stdout",
     "output_type": "stream",
     "text": [
      "generating R2 values for n=5 covariates using model representation at ckpt_idx=30 from log/toybrains-highsignal_SimpleCNN_cls1-fea64/version_0/deeprepvizlog/\n"
     ]
    },
    {
     "name": "stderr",
     "output_type": "stream",
     "text": [
      "\n",
      "\u001b[A/ritter/roshan/installation/miniforge3/envs/drv2/lib/python3.10/site-packages/sklearn/linear_model/_logistic.py:460: ConvergenceWarning: lbfgs failed to converge (status=1):\n",
      "STOP: TOTAL NO. of ITERATIONS REACHED LIMIT.\n",
      "\n",
      "Increase the number of iterations (max_iter) or scale the data as shown in:\n",
      "    https://scikit-learn.org/stable/modules/preprocessing.html\n",
      "Please also refer to the documentation for alternative solver options:\n",
      "    https://scikit-learn.org/stable/modules/linear_model.html#logistic-regression\n",
      "  n_iter_i = _check_optimize_result(\n",
      "\n",
      "\u001b[A/ritter/roshan/installation/miniforge3/envs/drv2/lib/python3.10/site-packages/sklearn/linear_model/_logistic.py:460: ConvergenceWarning: lbfgs failed to converge (status=1):\n",
      "STOP: TOTAL NO. of ITERATIONS REACHED LIMIT.\n",
      "\n",
      "Increase the number of iterations (max_iter) or scale the data as shown in:\n",
      "    https://scikit-learn.org/stable/modules/preprocessing.html\n",
      "Please also refer to the documentation for alternative solver options:\n",
      "    https://scikit-learn.org/stable/modules/linear_model.html#logistic-regression\n",
      "  n_iter_i = _check_optimize_result(\n",
      "\n",
      "\u001b[A\n",
      "100%|██████████| 5/5 [00:01<00:00,  3.10it/s]\n"
     ]
    },
    {
     "data": {
      "text/plain": [
       "{'dcor': {'lbl_lesion': 5.354861106034613e-05,\n",
       "  'cov_site': 5.629249767182292e-05,\n",
       "  'brain-int_fill': 0.00016897929034736202,\n",
       "  'shape-midr_curv': 0.0001598937013637309,\n",
       "  'shape-midr_vol-rad': 0.00018757299126308716},\n",
       " 'mi': {'lbl_lesion': 0.001382409120848263,\n",
       "  'cov_site': 0.001793378892370131,\n",
       "  'brain-int_fill': 0.0030446623071794104,\n",
       "  'shape-midr_curv': 0.0031146779161613375,\n",
       "  'shape-midr_vol-rad': 0.0020395102838303286},\n",
       " 'con': {'lbl_lesion': 1.8171148543957028e-05,\n",
       "  'cov_site': 0.00015408169217346113,\n",
       "  'brain-int_fill': 0.0012385454620317737,\n",
       "  'shape-midr_curv': 0.001396962644290791,\n",
       "  'shape-midr_vol-rad': 0.001245683964385773},\n",
       " 'costeta': {'lbl_lesion': -0.0025570192043758763,\n",
       "  'cov_site': 0.020745253446910108,\n",
       "  'brain-int_fill': -0.17099408362859808,\n",
       "  'shape-midr_curv': -0.20129736045773475,\n",
       "  'shape-midr_vol-rad': -0.16512546213559692},\n",
       " 'r2': {'lbl_lesion': 0.007106379378324727,\n",
       "  'cov_site': 0.007427322715905925,\n",
       "  'brain-int_fill': 0.007243206523577239,\n",
       "  'shape-midr_curv': 0.006939796135996046,\n",
       "  'shape-midr_vol-rad': 0.007543863606951473}}"
      ]
     },
     "metadata": {},
     "output_type": "display_data"
    },
    {
     "name": "stdout",
     "output_type": "stream",
     "text": [
      "generating DCOR values for n=5 covariates using model representation at ckpt_idx=25 from log/toybrains-lowsignal_SimpleCNN_cls1-fea3/version_0/deeprepvizlog/\n"
     ]
    },
    {
     "name": "stderr",
     "output_type": "stream",
     "text": [
      "\n",
      "\u001b[A\n",
      "\u001b[A\n",
      "\u001b[A\n",
      "\u001b[A\n",
      "\u001b[A\n",
      "100%|██████████| 5/5 [00:06<00:00,  1.22s/it]\n"
     ]
    },
    {
     "name": "stdout",
     "output_type": "stream",
     "text": [
      "generating MI values for n=5 covariates using model representation at ckpt_idx=25 from log/toybrains-lowsignal_SimpleCNN_cls1-fea3/version_0/deeprepvizlog/\n"
     ]
    },
    {
     "name": "stderr",
     "output_type": "stream",
     "text": [
      "\n",
      "\u001b[A\n",
      "\u001b[A\n",
      "\u001b[A\n",
      "\u001b[A\n",
      "\u001b[A\n",
      "100%|██████████| 5/5 [00:00<00:00,  6.82it/s]\n"
     ]
    },
    {
     "name": "stdout",
     "output_type": "stream",
     "text": [
      "generating CON values for n=5 covariates using model representation at ckpt_idx=25 from log/toybrains-lowsignal_SimpleCNN_cls1-fea3/version_0/deeprepvizlog/\n"
     ]
    },
    {
     "name": "stderr",
     "output_type": "stream",
     "text": [
      "\n",
      "100%|██████████| 5/5 [00:00<00:00, 140.97it/s]\n"
     ]
    },
    {
     "name": "stdout",
     "output_type": "stream",
     "text": [
      "generating COSTETA values for n=5 covariates using model representation at ckpt_idx=25 from log/toybrains-lowsignal_SimpleCNN_cls1-fea3/version_0/deeprepvizlog/\n"
     ]
    },
    {
     "name": "stderr",
     "output_type": "stream",
     "text": [
      "\n",
      "100%|██████████| 5/5 [00:00<00:00, 152.54it/s]\n"
     ]
    },
    {
     "name": "stdout",
     "output_type": "stream",
     "text": [
      "generating R2 values for n=5 covariates using model representation at ckpt_idx=25 from log/toybrains-lowsignal_SimpleCNN_cls1-fea3/version_0/deeprepvizlog/\n"
     ]
    },
    {
     "name": "stderr",
     "output_type": "stream",
     "text": [
      "\n",
      "100%|██████████| 5/5 [00:00<00:00, 150.49it/s]\n"
     ]
    },
    {
     "data": {
      "text/plain": [
       "{'dcor': {'lbl_lesion': 1.8973761397064517e-05,\n",
       "  'cov_site': 0.00011704339707979996,\n",
       "  'brain-int_fill': 4.402838018139313e-05,\n",
       "  'shape-midr_curv': 8.079830370009911e-05,\n",
       "  'shape-midr_vol-rad': 7.42859710954121e-05},\n",
       " 'mi': {'lbl_lesion': 0.000808297737560526,\n",
       "  'cov_site': 0.0005366475466845877,\n",
       "  'brain-int_fill': 0.0,\n",
       "  'shape-midr_curv': 0.00305461028842835,\n",
       "  'shape-midr_vol-rad': 0.001925278471101836},\n",
       " 'con': {'lbl_lesion': 3.3789344988215846e-06,\n",
       "  'cov_site': 5.2201780274686575e-05,\n",
       "  'brain-int_fill': 2.575358970809633e-05,\n",
       "  'shape-midr_curv': 3.1390011963523694e-05,\n",
       "  'shape-midr_vol-rad': 1.8809156348018258e-05},\n",
       " 'costeta': {'lbl_lesion': -0.9486347120218485,\n",
       "  'cov_site': -0.32855294666569773,\n",
       "  'brain-int_fill': -0.9696089702450127,\n",
       "  'shape-midr_curv': -0.9697506798829602,\n",
       "  'shape-midr_vol-rad': -0.9696544915613664},\n",
       " 'r2': {'lbl_lesion': 3.561892112950388e-06,\n",
       "  'cov_site': 0.0001588839205505645,\n",
       "  'brain-int_fill': 2.6560799764041576e-05,\n",
       "  'shape-midr_curv': 3.236915695414844e-05,\n",
       "  'shape-midr_vol-rad': 1.939779221538096e-05}}"
      ]
     },
     "metadata": {},
     "output_type": "display_data"
    },
    {
     "name": "stdout",
     "output_type": "stream",
     "text": [
      "generating DCOR values for n=5 covariates using model representation at ckpt_idx=4 from log/toybrains-lowsignal_SimpleCNN_cls1-fea64/version_0/deeprepvizlog/\n"
     ]
    },
    {
     "name": "stderr",
     "output_type": "stream",
     "text": [
      "\n",
      "\u001b[A\n",
      "\u001b[A\n",
      "\u001b[A\n",
      "\u001b[A\n",
      "\u001b[A\n",
      "100%|██████████| 5/5 [00:34<00:00,  6.90s/it]\n"
     ]
    },
    {
     "name": "stdout",
     "output_type": "stream",
     "text": [
      "generating MI values for n=5 covariates using model representation at ckpt_idx=4 from log/toybrains-lowsignal_SimpleCNN_cls1-fea64/version_0/deeprepvizlog/\n"
     ]
    },
    {
     "name": "stderr",
     "output_type": "stream",
     "text": [
      "\n",
      "\u001b[A\n",
      "\u001b[A\n",
      "\u001b[A\n",
      "\u001b[A\n",
      "\u001b[A\n",
      "100%|██████████| 5/5 [00:14<00:00,  2.85s/it]\n"
     ]
    },
    {
     "name": "stdout",
     "output_type": "stream",
     "text": [
      "generating CON values for n=5 covariates using model representation at ckpt_idx=4 from log/toybrains-lowsignal_SimpleCNN_cls1-fea64/version_0/deeprepvizlog/\n"
     ]
    },
    {
     "name": "stderr",
     "output_type": "stream",
     "text": [
      "\n",
      "100%|██████████| 5/5 [00:00<00:00, 75.62it/s]\n"
     ]
    },
    {
     "name": "stdout",
     "output_type": "stream",
     "text": [
      "generating COSTETA values for n=5 covariates using model representation at ckpt_idx=4 from log/toybrains-lowsignal_SimpleCNN_cls1-fea64/version_0/deeprepvizlog/\n"
     ]
    },
    {
     "name": "stderr",
     "output_type": "stream",
     "text": [
      "\n",
      "100%|██████████| 5/5 [00:00<00:00, 91.00it/s]\n"
     ]
    },
    {
     "name": "stdout",
     "output_type": "stream",
     "text": [
      "generating R2 values for n=5 covariates using model representation at ckpt_idx=4 from log/toybrains-lowsignal_SimpleCNN_cls1-fea64/version_0/deeprepvizlog/\n"
     ]
    },
    {
     "name": "stderr",
     "output_type": "stream",
     "text": [
      "\n",
      "100%|██████████| 5/5 [00:00<00:00, 97.39it/s]\n"
     ]
    },
    {
     "data": {
      "text/plain": [
       "{'dcor': {'lbl_lesion': 0.0,\n",
       "  'cov_site': 0.0,\n",
       "  'brain-int_fill': 0.0,\n",
       "  'shape-midr_curv': 0.0,\n",
       "  'shape-midr_vol-rad': 0.0},\n",
       " 'mi': {'lbl_lesion': 0.0018282845281574894,\n",
       "  'cov_site': 0.0025694489742677865,\n",
       "  'brain-int_fill': 0.003388147951882775,\n",
       "  'shape-midr_curv': 0.002599344655131945,\n",
       "  'shape-midr_vol-rad': 0.004783773722224355},\n",
       " 'con': {'lbl_lesion': 0.0,\n",
       "  'cov_site': 2.4198182498684373e-40,\n",
       "  'brain-int_fill': 0.0,\n",
       "  'shape-midr_curv': 0.0,\n",
       "  'shape-midr_vol-rad': 0.0},\n",
       " 'costeta': {'lbl_lesion': 0.030099423254046964,\n",
       "  'cov_site': -0.030099423254037597,\n",
       "  'brain-int_fill': -0.23086125638104216,\n",
       "  'shape-midr_curv': 0.19534753882619013,\n",
       "  'shape-midr_vol-rad': 0.09757100816928796},\n",
       " 'r2': {'lbl_lesion': 0.0,\n",
       "  'cov_site': 8.039417331838204e-39,\n",
       "  'brain-int_fill': -2.937975428180445e+22,\n",
       "  'shape-midr_curv': -1.3261486166742728e+23,\n",
       "  'shape-midr_vol-rad': -1.8675505946180541e+24}}"
      ]
     },
     "metadata": {},
     "output_type": "display_data"
    },
    {
     "name": "stdout",
     "output_type": "stream",
     "text": [
      "generating DCOR values for n=5 covariates using model representation at ckpt_idx=16 from log/toybrains-midsignal_SimpleCNN_cls1-fea3/version_0/deeprepvizlog/\n"
     ]
    },
    {
     "name": "stderr",
     "output_type": "stream",
     "text": [
      "\n",
      "\u001b[A\n",
      "\u001b[A\n",
      "\u001b[A\n",
      "\u001b[A\n",
      "\u001b[A\n",
      "100%|██████████| 5/5 [00:06<00:00,  1.23s/it]\n"
     ]
    },
    {
     "name": "stdout",
     "output_type": "stream",
     "text": [
      "generating MI values for n=5 covariates using model representation at ckpt_idx=16 from log/toybrains-midsignal_SimpleCNN_cls1-fea3/version_0/deeprepvizlog/\n"
     ]
    },
    {
     "name": "stderr",
     "output_type": "stream",
     "text": [
      "\n",
      "\u001b[A\n",
      "\u001b[A\n",
      "\u001b[A\n",
      "\u001b[A\n",
      "\u001b[A\n",
      "100%|██████████| 5/5 [00:00<00:00,  6.69it/s]\n"
     ]
    },
    {
     "name": "stdout",
     "output_type": "stream",
     "text": [
      "generating CON values for n=5 covariates using model representation at ckpt_idx=16 from log/toybrains-midsignal_SimpleCNN_cls1-fea3/version_0/deeprepvizlog/\n"
     ]
    },
    {
     "name": "stderr",
     "output_type": "stream",
     "text": [
      "\n",
      "100%|██████████| 5/5 [00:00<00:00, 91.97it/s]\n"
     ]
    },
    {
     "name": "stdout",
     "output_type": "stream",
     "text": [
      "generating COSTETA values for n=5 covariates using model representation at ckpt_idx=16 from log/toybrains-midsignal_SimpleCNN_cls1-fea3/version_0/deeprepvizlog/\n"
     ]
    },
    {
     "name": "stderr",
     "output_type": "stream",
     "text": [
      "\n",
      "100%|██████████| 5/5 [00:00<00:00, 105.06it/s]\n"
     ]
    },
    {
     "name": "stdout",
     "output_type": "stream",
     "text": [
      "generating R2 values for n=5 covariates using model representation at ckpt_idx=16 from log/toybrains-midsignal_SimpleCNN_cls1-fea3/version_0/deeprepvizlog/\n"
     ]
    },
    {
     "name": "stderr",
     "output_type": "stream",
     "text": [
      "\n",
      "100%|██████████| 5/5 [00:00<00:00, 115.62it/s]\n"
     ]
    },
    {
     "data": {
      "text/plain": [
       "{'dcor': {'lbl_lesion': 7.165376993898858e-05,\n",
       "  'cov_site': 8.041549342278128e-05,\n",
       "  'brain-int_fill': 0.00012557406111173377,\n",
       "  'shape-midr_curv': 4.3534669014363175e-05,\n",
       "  'shape-midr_vol-rad': 4.44056147054395e-05},\n",
       " 'mi': {'lbl_lesion': 0.00479003060323846,\n",
       "  'cov_site': 0.006900233487891964,\n",
       "  'brain-int_fill': 0.0023914737467407576,\n",
       "  'shape-midr_curv': 0.00372622859242829,\n",
       "  'shape-midr_vol-rad': 0.005292835258080331},\n",
       " 'con': {'lbl_lesion': 0.00028546590263763395,\n",
       "  'cov_site': 0.00020754940106008452,\n",
       "  'brain-int_fill': 0.0002518187061595649,\n",
       "  'shape-midr_curv': 0.0003244687047691443,\n",
       "  'shape-midr_vol-rad': 0.0002910717963527561},\n",
       " 'costeta': {'lbl_lesion': -0.6185663775450724,\n",
       "  'cov_site': -0.8641123514286406,\n",
       "  'brain-int_fill': -0.9761561227031746,\n",
       "  'shape-midr_curv': -0.9761219483962815,\n",
       "  'shape-midr_vol-rad': -0.9758862231588232},\n",
       " 'r2': {'lbl_lesion': 0.00046149598976034424,\n",
       "  'cov_site': 0.00024018798101536472,\n",
       "  'brain-int_fill': 0.0002579697041311668,\n",
       "  'shape-midr_curv': 0.00033240591024741306,\n",
       "  'shape-midr_vol-rad': 0.00029826406956601215}}"
      ]
     },
     "metadata": {},
     "output_type": "display_data"
    },
    {
     "name": "stdout",
     "output_type": "stream",
     "text": [
      "generating DCOR values for n=5 covariates using model representation at ckpt_idx=9 from log/toybrains-midsignal_SimpleCNN_cls1-fea64/version_0/deeprepvizlog/\n"
     ]
    },
    {
     "name": "stderr",
     "output_type": "stream",
     "text": [
      "\n",
      "\u001b[A\n",
      "\u001b[A\n",
      "\u001b[A\n",
      "\u001b[A\n",
      "\u001b[A\n",
      "100%|██████████| 5/5 [00:36<00:00,  7.20s/it]\n"
     ]
    },
    {
     "name": "stdout",
     "output_type": "stream",
     "text": [
      "generating MI values for n=5 covariates using model representation at ckpt_idx=9 from log/toybrains-midsignal_SimpleCNN_cls1-fea64/version_0/deeprepvizlog/\n"
     ]
    },
    {
     "name": "stderr",
     "output_type": "stream",
     "text": [
      "\n",
      "\u001b[A\n",
      "\u001b[A\n",
      "\u001b[A\n",
      "\u001b[A\n",
      "\u001b[A\n",
      "100%|██████████| 5/5 [00:14<00:00,  2.94s/it]\n"
     ]
    },
    {
     "name": "stdout",
     "output_type": "stream",
     "text": [
      "generating CON values for n=5 covariates using model representation at ckpt_idx=9 from log/toybrains-midsignal_SimpleCNN_cls1-fea64/version_0/deeprepvizlog/\n"
     ]
    },
    {
     "name": "stderr",
     "output_type": "stream",
     "text": [
      "\n",
      "\u001b[A/ritter/roshan/installation/miniforge3/envs/drv2/lib/python3.10/site-packages/sklearn/linear_model/_logistic.py:460: ConvergenceWarning: lbfgs failed to converge (status=1):\n",
      "STOP: TOTAL NO. of ITERATIONS REACHED LIMIT.\n",
      "\n",
      "Increase the number of iterations (max_iter) or scale the data as shown in:\n",
      "    https://scikit-learn.org/stable/modules/preprocessing.html\n",
      "Please also refer to the documentation for alternative solver options:\n",
      "    https://scikit-learn.org/stable/modules/linear_model.html#logistic-regression\n",
      "  n_iter_i = _check_optimize_result(\n",
      "\n",
      "\u001b[A/ritter/roshan/installation/miniforge3/envs/drv2/lib/python3.10/site-packages/sklearn/linear_model/_logistic.py:460: ConvergenceWarning: lbfgs failed to converge (status=1):\n",
      "STOP: TOTAL NO. of ITERATIONS REACHED LIMIT.\n",
      "\n",
      "Increase the number of iterations (max_iter) or scale the data as shown in:\n",
      "    https://scikit-learn.org/stable/modules/preprocessing.html\n",
      "Please also refer to the documentation for alternative solver options:\n",
      "    https://scikit-learn.org/stable/modules/linear_model.html#logistic-regression\n",
      "  n_iter_i = _check_optimize_result(\n",
      "\n",
      "100%|██████████| 5/5 [00:01<00:00,  2.60it/s]\n"
     ]
    },
    {
     "name": "stdout",
     "output_type": "stream",
     "text": [
      "generating COSTETA values for n=5 covariates using model representation at ckpt_idx=9 from log/toybrains-midsignal_SimpleCNN_cls1-fea64/version_0/deeprepvizlog/\n"
     ]
    },
    {
     "name": "stderr",
     "output_type": "stream",
     "text": [
      "\n",
      "\u001b[A/ritter/roshan/installation/miniforge3/envs/drv2/lib/python3.10/site-packages/sklearn/linear_model/_logistic.py:460: ConvergenceWarning: lbfgs failed to converge (status=1):\n",
      "STOP: TOTAL NO. of ITERATIONS REACHED LIMIT.\n",
      "\n",
      "Increase the number of iterations (max_iter) or scale the data as shown in:\n",
      "    https://scikit-learn.org/stable/modules/preprocessing.html\n",
      "Please also refer to the documentation for alternative solver options:\n",
      "    https://scikit-learn.org/stable/modules/linear_model.html#logistic-regression\n",
      "  n_iter_i = _check_optimize_result(\n",
      "\n",
      "\u001b[A/ritter/roshan/installation/miniforge3/envs/drv2/lib/python3.10/site-packages/sklearn/linear_model/_logistic.py:460: ConvergenceWarning: lbfgs failed to converge (status=1):\n",
      "STOP: TOTAL NO. of ITERATIONS REACHED LIMIT.\n",
      "\n",
      "Increase the number of iterations (max_iter) or scale the data as shown in:\n",
      "    https://scikit-learn.org/stable/modules/preprocessing.html\n",
      "Please also refer to the documentation for alternative solver options:\n",
      "    https://scikit-learn.org/stable/modules/linear_model.html#logistic-regression\n",
      "  n_iter_i = _check_optimize_result(\n",
      "\n",
      "100%|██████████| 5/5 [00:01<00:00,  2.94it/s]\n"
     ]
    },
    {
     "name": "stdout",
     "output_type": "stream",
     "text": [
      "generating R2 values for n=5 covariates using model representation at ckpt_idx=9 from log/toybrains-midsignal_SimpleCNN_cls1-fea64/version_0/deeprepvizlog/\n"
     ]
    },
    {
     "name": "stderr",
     "output_type": "stream",
     "text": [
      "\n",
      "\u001b[A/ritter/roshan/installation/miniforge3/envs/drv2/lib/python3.10/site-packages/sklearn/linear_model/_logistic.py:460: ConvergenceWarning: lbfgs failed to converge (status=1):\n",
      "STOP: TOTAL NO. of ITERATIONS REACHED LIMIT.\n",
      "\n",
      "Increase the number of iterations (max_iter) or scale the data as shown in:\n",
      "    https://scikit-learn.org/stable/modules/preprocessing.html\n",
      "Please also refer to the documentation for alternative solver options:\n",
      "    https://scikit-learn.org/stable/modules/linear_model.html#logistic-regression\n",
      "  n_iter_i = _check_optimize_result(\n",
      "\n",
      "\u001b[A/ritter/roshan/installation/miniforge3/envs/drv2/lib/python3.10/site-packages/sklearn/linear_model/_logistic.py:460: ConvergenceWarning: lbfgs failed to converge (status=1):\n",
      "STOP: TOTAL NO. of ITERATIONS REACHED LIMIT.\n",
      "\n",
      "Increase the number of iterations (max_iter) or scale the data as shown in:\n",
      "    https://scikit-learn.org/stable/modules/preprocessing.html\n",
      "Please also refer to the documentation for alternative solver options:\n",
      "    https://scikit-learn.org/stable/modules/linear_model.html#logistic-regression\n",
      "  n_iter_i = _check_optimize_result(\n",
      "\n",
      "100%|██████████| 5/5 [00:01<00:00,  2.87it/s]\n"
     ]
    },
    {
     "data": {
      "text/plain": [
       "{'dcor': {'lbl_lesion': 0.00020624247925102283,\n",
       "  'cov_site': 0.0001439986202771466,\n",
       "  'brain-int_fill': 0.00015449117047183205,\n",
       "  'shape-midr_curv': 0.00012238187878535844,\n",
       "  'shape-midr_vol-rad': 0.00011263344433092706},\n",
       " 'mi': {'lbl_lesion': 0.002249541103395203,\n",
       "  'cov_site': 0.0022386661894504903,\n",
       "  'brain-int_fill': 0.002898673671136387,\n",
       "  'shape-midr_curv': 0.002929745358605504,\n",
       "  'shape-midr_vol-rad': 0.002166078932230392},\n",
       " 'con': {'lbl_lesion': 0.0004047976371516623,\n",
       "  'cov_site': 0.000358816734806519,\n",
       "  'brain-int_fill': 0.00046867511161169975,\n",
       "  'shape-midr_curv': 9.995908433459546e-05,\n",
       "  'shape-midr_vol-rad': 8.769813131379834e-05},\n",
       " 'costeta': {'lbl_lesion': -0.058515702032559104,\n",
       "  'cov_site': -0.07347140374330877,\n",
       "  'brain-int_fill': 0.05774588238258232,\n",
       "  'shape-midr_curv': 0.014133150570931077,\n",
       "  'shape-midr_vol-rad': 0.012090632293710485},\n",
       " 'r2': {'lbl_lesion': 0.006917760927253786,\n",
       "  'cov_site': 0.004883760436375184,\n",
       "  'brain-int_fill': 0.00811616503678303,\n",
       "  'shape-midr_curv': 0.007072668180595931,\n",
       "  'shape-midr_vol-rad': 0.00725339495763333}}"
      ]
     },
     "metadata": {},
     "output_type": "display_data"
    }
   ],
   "source": [
    "drv_backend.debug = True\n",
    "for i, logdir in enumerate(logdirs):\n",
    "    results = drv_backend.compute_metrics(log_key=logdir,\n",
    "                                          metrics=['dcor', 'mi', 'con', 'costeta', 'r2'],\n",
    "                                          covariates=['lbl_lesion','cov_site', 'brain-int_fill','shape-midr_curv', 'shape-midr_vol-rad' ], \n",
    "                                          ckpt_idx='best')\n",
    "    display(results)\n",
    "    # break"
   ]
  },
  {
   "cell_type": "markdown",
   "id": "287eb8b4-e01c-4311-9e0b-4099cc1cdafc",
   "metadata": {},
   "source": [
    "#### generate v1 table"
   ]
  },
  {
   "cell_type": "code",
   "execution_count": 37,
   "id": "ec90d09d-1870-4e2d-9391-826f08f5a00a",
   "metadata": {},
   "outputs": [
    {
     "name": "stderr",
     "output_type": "stream",
     "text": [
      "100%|███████████████████████████████████████████████████████████████████████████████████████████████████████████████| 43/43 [00:02<00:00, 16.93it/s]\n",
      "100%|███████████████████████████████████████████████████████████████████████████████████████████████████████████████| 14/14 [00:01<00:00,  9.24it/s]\n",
      "100%|███████████████████████████████████████████████████████████████████████████████████████████████████████████████| 26/26 [00:01<00:00, 17.86it/s]\n",
      "100%|███████████████████████████████████████████████████████████████████████████████████████████████████████████████| 14/14 [00:01<00:00,  8.40it/s]\n",
      "100%|███████████████████████████████████████████████████████████████████████████████████████████████████████████████| 31/31 [00:03<00:00,  9.55it/s]\n",
      "100%|███████████████████████████████████████████████████████████████████████████████████████████████████████████████| 17/17 [00:00<00:00, 18.01it/s]\n"
     ]
    }
   ],
   "source": [
    "for logdir in logdirs:\n",
    "    df = drv_backend.convert_log_to_v1_table(log_key=logdir, \n",
    "                                             unique_name=logdir.split('/')[-4])"
   ]
  },
  {
   "cell_type": "code",
   "execution_count": 93,
   "metadata": {},
   "outputs": [
    {
     "name": "stdout",
     "output_type": "stream",
     "text": [
      "==================================================================================================== \n",
      " HIGHSIGNAL SIMPLECNN CLS1-FEA3 at ckpt = epoch42-step004300\n",
      "Model accuracy = {'loss': 0.0794215202331543, 'BAC': 0.9716936945915222, 'D2': 0.8837992374208813, 'lbl_lesion_dcor': 3.374206728752088e-05, 'cov_site_dcor': 2.9045805344033093e-05, 'brain-int_fill_dcor': 0.00010673240661503391, 'shape-midr_curv_dcor': 0.00010919500159261074, 'shape-midr_vol-rad_dcor': 0.00019328485837099858, 'lbl_lesion_mi': 0.0, 'cov_site_mi': 0.001038999697216214, 'brain-int_fill_mi': 0.0014935313334068685, 'shape-midr_curv_mi': 0.0004975893658866563, 'shape-midr_vol-rad_mi': 0.000555297865703667, 'lbl_lesion_con': 0.00029050613395923536, 'cov_site_con': 0.00014840937690418054, 'brain-int_fill_con': 8.42736019029131e-05, 'shape-midr_curv_con': 0.0004389194528243129, 'shape-midr_vol-rad_con': 0.0003311167725395708, 'lbl_lesion_r2': 0.00039031099688341603, 'cov_site_r2': 0.00017457070375383332, 'brain-int_fill_r2': 8.984468348327557e-05, 'shape-midr_curv_r2': 0.00046846681431000903, 'shape-midr_vol-rad_r2': 0.0003532376681070204, 'lbl_lesion_costeta': -0.7442940021646587, 'cov_site_costeta': -0.8501390766772439, 'brain-int_fill_costeta': 0.9379920840680627, 'shape-midr_curv_costeta': 0.9369275248894299, 'shape-midr_vol-rad_costeta': 0.9373767365015341}\n",
      "---------------------------------------------------------------------------------------------------- \n",
      "Metric = dcor \n",
      " ----------------------------------------------------------------------------------------------------\n",
      "lbl_lesion = 0.0000\n",
      "cov_site = 0.0000\n",
      "brain-int_fill = 0.0001\n",
      "shape-midr_curv = 0.0001\n",
      "shape-midr_vol-rad = 0.0002\n",
      "---------------------------------------------------------------------------------------------------- \n",
      "Metric = mi \n",
      " ----------------------------------------------------------------------------------------------------\n",
      "lbl_lesion = 0.0000\n",
      "cov_site = 0.0010\n",
      "brain-int_fill = 0.0015\n",
      "shape-midr_curv = 0.0005\n",
      "shape-midr_vol-rad = 0.0006\n",
      "---------------------------------------------------------------------------------------------------- \n",
      "Metric = con \n",
      " ----------------------------------------------------------------------------------------------------\n",
      "lbl_lesion = 0.0003\n",
      "cov_site = 0.0001\n",
      "brain-int_fill = 0.0001\n",
      "shape-midr_curv = 0.0004\n",
      "shape-midr_vol-rad = 0.0003\n",
      "---------------------------------------------------------------------------------------------------- \n",
      "Metric = r2 \n",
      " ----------------------------------------------------------------------------------------------------\n",
      "lbl_lesion = 0.0004\n",
      "cov_site = 0.0002\n",
      "brain-int_fill = 0.0001\n",
      "shape-midr_curv = 0.0005\n",
      "shape-midr_vol-rad = 0.0004\n",
      "---------------------------------------------------------------------------------------------------- \n",
      "Metric = costeta \n",
      " ----------------------------------------------------------------------------------------------------\n",
      "lbl_lesion = -0.7443\n",
      "cov_site = -0.8501\n",
      "brain-int_fill = 0.9380\n",
      "shape-midr_curv = 0.9369\n",
      "shape-midr_vol-rad = 0.9374\n",
      "==================================================================================================== \n",
      " HIGHSIGNAL SIMPLECNN CLS1-FEA64 at ckpt = epoch30-step003100\n",
      "Model accuracy = {'loss': 0.09992793947458267, 'BAC': 0.9649620056152344, 'D2': 0.8537660005957399, 'lbl_lesion_dcor': 5.354861106252441e-05, 'cov_site_dcor': 5.629249768488015e-05, 'brain-int_fill_dcor': 0.00016897929034275983, 'shape-midr_curv_dcor': 0.000159893701369088, 'shape-midr_vol-rad_dcor': 0.00018757299124801054, 'lbl_lesion_mi': 0.001384973644380505, 'cov_site_mi': 0.0017938766715007229, 'brain-int_fill_mi': 0.0030437264580993606, 'shape-midr_curv_mi': 0.0031205930360324735, 'shape-midr_vol-rad_mi': 0.0020365569313048754, 'lbl_lesion_con': 4.373788323066036e-05, 'cov_site_con': 0.000202564401651313, 'brain-int_fill_con': 0.0012385454620317082, 'shape-midr_curv_con': 0.001396962644290811, 'shape-midr_vol-rad_con': 0.0012456839643858074, 'lbl_lesion_r2': 0.008681601644572256, 'cov_site_r2': 0.00639349836509719, 'brain-int_fill_r2': 0.007243206523577128, 'shape-midr_curv_r2': 0.006939796135995935, 'shape-midr_vol-rad_r2': 0.007543863606951695, 'lbl_lesion_costeta': -0.005037997021898064, 'cov_site_costeta': 0.031682873770193534, 'brain-int_fill_costeta': -0.17099408362859167, 'shape-midr_curv_costeta': -0.20129736045774088, 'shape-midr_vol-rad_costeta': -0.1651254621355966}\n",
      "---------------------------------------------------------------------------------------------------- \n",
      "Metric = dcor \n",
      " ----------------------------------------------------------------------------------------------------\n",
      "lbl_lesion = 0.0001\n",
      "cov_site = 0.0001\n",
      "brain-int_fill = 0.0002\n",
      "shape-midr_curv = 0.0002\n",
      "shape-midr_vol-rad = 0.0002\n",
      "---------------------------------------------------------------------------------------------------- \n",
      "Metric = mi \n",
      " ----------------------------------------------------------------------------------------------------\n",
      "lbl_lesion = 0.0014\n",
      "cov_site = 0.0018\n",
      "brain-int_fill = 0.0030\n",
      "shape-midr_curv = 0.0031\n",
      "shape-midr_vol-rad = 0.0020\n",
      "---------------------------------------------------------------------------------------------------- \n",
      "Metric = con \n",
      " ----------------------------------------------------------------------------------------------------\n",
      "lbl_lesion = 0.0000\n",
      "cov_site = 0.0002\n",
      "brain-int_fill = 0.0012\n",
      "shape-midr_curv = 0.0014\n",
      "shape-midr_vol-rad = 0.0012\n",
      "---------------------------------------------------------------------------------------------------- \n",
      "Metric = r2 \n",
      " ----------------------------------------------------------------------------------------------------\n",
      "lbl_lesion = 0.0087\n",
      "cov_site = 0.0064\n",
      "brain-int_fill = 0.0072\n",
      "shape-midr_curv = 0.0069\n",
      "shape-midr_vol-rad = 0.0075\n",
      "---------------------------------------------------------------------------------------------------- \n",
      "Metric = costeta \n",
      " ----------------------------------------------------------------------------------------------------\n",
      "lbl_lesion = -0.0050\n",
      "cov_site = 0.0317\n",
      "brain-int_fill = -0.1710\n",
      "shape-midr_curv = -0.2013\n",
      "shape-midr_vol-rad = -0.1651\n",
      "==================================================================================================== \n",
      " LOWSIGNAL SIMPLECNN CLS1-FEA3 at ckpt = epoch25-step002600\n",
      "Model accuracy = {'loss': 0.358616441488266, 'BAC': 0.876518189907074, 'D2': 0.476822092578354, 'lbl_lesion_dcor': 1.8973761394002056e-05, 'cov_site_dcor': 0.00011704339706933605, 'brain-int_fill_dcor': 4.402838017184763e-05, 'shape-midr_curv_dcor': 8.079830372026553e-05, 'shape-midr_vol-rad_dcor': 7.428597109006227e-05, 'lbl_lesion_mi': 0.0008069088486715911, 'cov_site_mi': 0.0005408142133513186, 'brain-int_fill_mi': 0.0, 'shape-midr_curv_mi': 0.0030486836915812887, 'shape-midr_vol-rad_mi': 0.00192584725417048, 'lbl_lesion_con': 3.378934498821539e-06, 'cov_site_con': 5.2201780274686514e-05, 'brain-int_fill_con': 2.575358970809633e-05, 'shape-midr_curv_con': 3.1390011963523694e-05, 'shape-midr_vol-rad_con': 1.8809156348018258e-05, 'lbl_lesion_r2': 3.561892112950347e-06, 'cov_site_r2': 0.00015888392055056453, 'brain-int_fill_r2': 2.6560799764041576e-05, 'shape-midr_curv_r2': 3.236915695414844e-05, 'shape-midr_vol-rad_r2': 1.939779221538096e-05, 'lbl_lesion_costeta': -0.9486347120218465, 'cov_site_costeta': -0.3285529466656973, 'brain-int_fill_costeta': -0.9696089702450127, 'shape-midr_curv_costeta': -0.9697506798829602, 'shape-midr_vol-rad_costeta': -0.9696544915613664}\n",
      "---------------------------------------------------------------------------------------------------- \n",
      "Metric = dcor \n",
      " ----------------------------------------------------------------------------------------------------\n",
      "lbl_lesion = 0.0000\n",
      "cov_site = 0.0001\n",
      "brain-int_fill = 0.0000\n",
      "shape-midr_curv = 0.0001\n",
      "shape-midr_vol-rad = 0.0001\n",
      "---------------------------------------------------------------------------------------------------- \n",
      "Metric = mi \n",
      " ----------------------------------------------------------------------------------------------------\n",
      "lbl_lesion = 0.0008\n",
      "cov_site = 0.0005\n",
      "brain-int_fill = 0.0000\n",
      "shape-midr_curv = 0.0030\n",
      "shape-midr_vol-rad = 0.0019\n",
      "---------------------------------------------------------------------------------------------------- \n",
      "Metric = con \n",
      " ----------------------------------------------------------------------------------------------------\n",
      "lbl_lesion = 0.0000\n",
      "cov_site = 0.0001\n",
      "brain-int_fill = 0.0000\n",
      "shape-midr_curv = 0.0000\n",
      "shape-midr_vol-rad = 0.0000\n",
      "---------------------------------------------------------------------------------------------------- \n",
      "Metric = r2 \n",
      " ----------------------------------------------------------------------------------------------------\n",
      "lbl_lesion = 0.0000\n",
      "cov_site = 0.0002\n",
      "brain-int_fill = 0.0000\n",
      "shape-midr_curv = 0.0000\n",
      "shape-midr_vol-rad = 0.0000\n",
      "---------------------------------------------------------------------------------------------------- \n",
      "Metric = costeta \n",
      " ----------------------------------------------------------------------------------------------------\n",
      "lbl_lesion = -0.9486\n",
      "cov_site = -0.3286\n",
      "brain-int_fill = -0.9696\n",
      "shape-midr_curv = -0.9698\n",
      "shape-midr_vol-rad = -0.9697\n",
      "==================================================================================================== \n",
      " LOWSIGNAL SIMPLECNN CLS1-FEA64 at ckpt = epoch04-step000500\n",
      "Model accuracy = {'loss': 0.6931540966033936, 'BAC': 0.5, 'D2': -0.011238699676485787, 'lbl_lesion_dcor': 0.0, 'cov_site_dcor': 0.0, 'brain-int_fill_dcor': 0.0, 'shape-midr_curv_dcor': 0.0, 'shape-midr_vol-rad_dcor': 0.0, 'lbl_lesion_mi': 0.0016966013550111826, 'cov_site_mi': 0.0023044717110412213, 'brain-int_fill_mi': 0.0024978598398034263, 'shape-midr_curv_mi': 0.0035233058051841737, 'shape-midr_vol-rad_mi': 0.0023954304525273667, 'lbl_lesion_con': 1.7207596443520067e-39, 'cov_site_con': 1.0754747777193877e-40, 'brain-int_fill_con': 0.0, 'shape-midr_curv_con': 0.0, 'shape-midr_vol-rad_con': 0.0, 'lbl_lesion_r2': 5.71691899152939e-38, 'cov_site_r2': 3.5730743697058686e-39, 'brain-int_fill_r2': -6.61044471337403e+22, 'shape-midr_curv_r2': -1.6784068430015317e+23, 'shape-midr_vol-rad_r2': -1.3395046888117061, 'lbl_lesion_costeta': 0.03009942325405715, 'cov_site_costeta': -0.0300994232540399, 'brain-int_fill_costeta': 0.00013688035550898925, 'shape-midr_curv_costeta': -0.004680032632336559, 'shape-midr_vol-rad_costeta': -0.005921380317644068}\n",
      "---------------------------------------------------------------------------------------------------- \n",
      "Metric = dcor \n",
      " ----------------------------------------------------------------------------------------------------\n",
      "lbl_lesion = 0.0000\n",
      "cov_site = 0.0000\n",
      "brain-int_fill = 0.0000\n",
      "shape-midr_curv = 0.0000\n",
      "shape-midr_vol-rad = 0.0000\n",
      "---------------------------------------------------------------------------------------------------- \n",
      "Metric = mi \n",
      " ----------------------------------------------------------------------------------------------------\n",
      "lbl_lesion = 0.0017\n",
      "cov_site = 0.0023\n",
      "brain-int_fill = 0.0025\n",
      "shape-midr_curv = 0.0035\n",
      "shape-midr_vol-rad = 0.0024\n",
      "---------------------------------------------------------------------------------------------------- \n",
      "Metric = con \n",
      " ----------------------------------------------------------------------------------------------------\n",
      "lbl_lesion = 0.0000\n",
      "cov_site = 0.0000\n",
      "brain-int_fill = 0.0000\n",
      "shape-midr_curv = 0.0000\n",
      "shape-midr_vol-rad = 0.0000\n",
      "---------------------------------------------------------------------------------------------------- \n",
      "Metric = r2 \n",
      " ----------------------------------------------------------------------------------------------------\n",
      "lbl_lesion = 0.0000\n",
      "cov_site = 0.0000\n",
      "brain-int_fill = -66104447133740299190272.0000\n",
      "shape-midr_curv = -167840684300153170952192.0000\n",
      "shape-midr_vol-rad = -1.3395\n",
      "---------------------------------------------------------------------------------------------------- \n",
      "Metric = costeta \n",
      " ----------------------------------------------------------------------------------------------------\n",
      "lbl_lesion = 0.0301\n",
      "cov_site = -0.0301\n",
      "brain-int_fill = 0.0001\n",
      "shape-midr_curv = -0.0047\n",
      "shape-midr_vol-rad = -0.0059\n",
      "==================================================================================================== \n",
      " MIDSIGNAL SIMPLECNN CLS1-FEA3 at ckpt = epoch16-step001700\n",
      "Model accuracy = {'loss': 0.3692043423652649, 'BAC': 0.8719447255134583, 'D2': 0.4605576840869753, 'lbl_lesion_dcor': 7.165376994322896e-05, 'cov_site_dcor': 8.041549342207794e-05, 'brain-int_fill_dcor': 0.00012557406111277441, 'shape-midr_curv_dcor': 4.353466899222325e-05, 'shape-midr_vol-rad_dcor': 4.440561470979152e-05, 'lbl_lesion_mi': 0.004790255470963345, 'cov_site_mi': 0.006877177932336369, 'brain-int_fill_mi': 0.0023942663789453533, 'shape-midr_curv_mi': 0.003750056303129116, 'shape-midr_vol-rad_mi': 0.005298986051731329, 'lbl_lesion_con': 0.0002854659026376282, 'cov_site_con': 0.00020754940106008828, 'brain-int_fill_con': 0.0002518187061595649, 'shape-midr_curv_con': 0.0003244687047691443, 'shape-midr_vol-rad_con': 0.0002910717963527561, 'lbl_lesion_r2': 0.0004614959897603144, 'cov_site_r2': 0.0002401879810153683, 'brain-int_fill_r2': 0.0002579697041311668, 'shape-midr_curv_r2': 0.00033240591024741306, 'shape-midr_vol-rad_r2': 0.00029826406956601215, 'lbl_lesion_costeta': -0.6185663775450999, 'cov_site_costeta': -0.8641123514286435, 'brain-int_fill_costeta': -0.9761561227031746, 'shape-midr_curv_costeta': -0.9761219483962815, 'shape-midr_vol-rad_costeta': -0.9758862231588232}\n",
      "---------------------------------------------------------------------------------------------------- \n",
      "Metric = dcor \n",
      " ----------------------------------------------------------------------------------------------------\n",
      "lbl_lesion = 0.0001\n",
      "cov_site = 0.0001\n",
      "brain-int_fill = 0.0001\n",
      "shape-midr_curv = 0.0000\n",
      "shape-midr_vol-rad = 0.0000\n",
      "---------------------------------------------------------------------------------------------------- \n",
      "Metric = mi \n",
      " ----------------------------------------------------------------------------------------------------\n",
      "lbl_lesion = 0.0048\n",
      "cov_site = 0.0069\n",
      "brain-int_fill = 0.0024\n",
      "shape-midr_curv = 0.0038\n",
      "shape-midr_vol-rad = 0.0053\n",
      "---------------------------------------------------------------------------------------------------- \n",
      "Metric = con \n",
      " ----------------------------------------------------------------------------------------------------\n",
      "lbl_lesion = 0.0003\n",
      "cov_site = 0.0002\n",
      "brain-int_fill = 0.0003\n",
      "shape-midr_curv = 0.0003\n",
      "shape-midr_vol-rad = 0.0003\n",
      "---------------------------------------------------------------------------------------------------- \n",
      "Metric = r2 \n",
      " ----------------------------------------------------------------------------------------------------\n",
      "lbl_lesion = 0.0005\n",
      "cov_site = 0.0002\n",
      "brain-int_fill = 0.0003\n",
      "shape-midr_curv = 0.0003\n",
      "shape-midr_vol-rad = 0.0003\n",
      "---------------------------------------------------------------------------------------------------- \n",
      "Metric = costeta \n",
      " ----------------------------------------------------------------------------------------------------\n",
      "lbl_lesion = -0.6186\n",
      "cov_site = -0.8641\n",
      "brain-int_fill = -0.9762\n",
      "shape-midr_curv = -0.9761\n",
      "shape-midr_vol-rad = -0.9759\n",
      "==================================================================================================== \n",
      " MIDSIGNAL SIMPLECNN CLS1-FEA64 at ckpt = epoch09-step001000\n",
      "Model accuracy = {'loss': 0.3818146884441376, 'BAC': 0.8722501397132874, 'D2': 0.4421610041224746, 'lbl_lesion_dcor': 0.00020624247928873574, 'cov_site_dcor': 0.00014399862031103306, 'brain-int_fill_dcor': 0.00015449117048185328, 'shape-midr_curv_dcor': 0.00012238187881084372, 'shape-midr_vol-rad_dcor': 0.00011263344435744785, 'lbl_lesion_mi': 0.002253643173200405, 'cov_site_mi': 0.0022393677910045873, 'brain-int_fill_mi': 0.0028931752217720846, 'shape-midr_curv_mi': 0.0029844819917195786, 'shape-midr_vol-rad_mi': 0.0021521192677227824, 'lbl_lesion_con': 0.00035249837740783645, 'cov_site_con': 0.00040404966178833157, 'brain-int_fill_con': 0.00046867511161165996, 'shape-midr_curv_con': 9.995908433460566e-05, 'shape-midr_vol-rad_con': 8.769813131381773e-05, 'lbl_lesion_r2': 0.005757955602108158, 'cov_site_r2': 0.00624830430473631, 'brain-int_fill_r2': 0.00811616503678303, 'shape-midr_curv_r2': 0.007072668180596153, 'shape-midr_vol-rad_r2': 0.007253394957634218, 'lbl_lesion_costeta': -0.06121936356695358, 'cov_site_costeta': -0.06466549036064966, 'brain-int_fill_costeta': 0.05774588238257742, 'shape-midr_curv_costeta': 0.014133150570932076, 'shape-midr_vol-rad_costeta': 0.012090632293711679}\n",
      "---------------------------------------------------------------------------------------------------- \n",
      "Metric = dcor \n",
      " ----------------------------------------------------------------------------------------------------\n",
      "lbl_lesion = 0.0002\n",
      "cov_site = 0.0001\n",
      "brain-int_fill = 0.0002\n",
      "shape-midr_curv = 0.0001\n",
      "shape-midr_vol-rad = 0.0001\n",
      "---------------------------------------------------------------------------------------------------- \n",
      "Metric = mi \n",
      " ----------------------------------------------------------------------------------------------------\n",
      "lbl_lesion = 0.0023\n",
      "cov_site = 0.0022\n",
      "brain-int_fill = 0.0029\n",
      "shape-midr_curv = 0.0030\n",
      "shape-midr_vol-rad = 0.0022\n",
      "---------------------------------------------------------------------------------------------------- \n",
      "Metric = con \n",
      " ----------------------------------------------------------------------------------------------------\n",
      "lbl_lesion = 0.0004\n",
      "cov_site = 0.0004\n",
      "brain-int_fill = 0.0005\n",
      "shape-midr_curv = 0.0001\n",
      "shape-midr_vol-rad = 0.0001\n",
      "---------------------------------------------------------------------------------------------------- \n",
      "Metric = r2 \n",
      " ----------------------------------------------------------------------------------------------------\n",
      "lbl_lesion = 0.0058\n",
      "cov_site = 0.0062\n",
      "brain-int_fill = 0.0081\n",
      "shape-midr_curv = 0.0071\n",
      "shape-midr_vol-rad = 0.0073\n",
      "---------------------------------------------------------------------------------------------------- \n",
      "Metric = costeta \n",
      " ----------------------------------------------------------------------------------------------------\n",
      "lbl_lesion = -0.0612\n",
      "cov_site = -0.0647\n",
      "brain-int_fill = 0.0577\n",
      "shape-midr_curv = 0.0141\n",
      "shape-midr_vol-rad = 0.0121\n"
     ]
    }
   ],
   "source": [
    "results = {}\n",
    "for log_key in logdirs:\n",
    "    log = drv_backend.deeprepvizlogs[log_key]\n",
    "    ckpt_idx = log['best_ckpt_idx']\n",
    "    ckptname, log_ckpt = log['checkpoints'][ckpt_idx]\n",
    "    log = {'IDs': log['IDs'], 'labels': log['labels']}\n",
    "    log.update(log_ckpt)\n",
    "    method_name = log_key.replace('log/toybrains-','').replace('/version_0/deeprepvizlog/','').replace('_',' ').upper()\n",
    "    print('='*100,'\\n', method_name, \"at ckpt =\", ckptname)\n",
    "    # print(log.keys())\n",
    "    print(\"Model accuracy =\", log['metrics'])\n",
    "    result = {(\"Model\",k):v for k,v in log['metrics'].items()}\n",
    "    for metric_name, metric_scores in log['act_metrics'].items():\n",
    "        print('-'*100,\"\\nMetric =\", metric_name, '\\n', '-'*100,)\n",
    "        for key in ['lbl_lesion','cov_site', 'brain-int_fill','shape-midr_curv', 'shape-midr_vol-rad' ]:\n",
    "            result.update({(key,metric_name): metric_scores[key]})\n",
    "            print(\"{} = {:.4f}\".format(key, metric_scores[key]))\n",
    "\n",
    "    results.update({method_name: result})\n"
   ]
  },
  {
   "cell_type": "code",
   "execution_count": 94,
   "metadata": {},
   "outputs": [
    {
     "data": {
      "text/html": [
       "<div>\n",
       "<style scoped>\n",
       "    .dataframe tbody tr th:only-of-type {\n",
       "        vertical-align: middle;\n",
       "    }\n",
       "\n",
       "    .dataframe tbody tr th {\n",
       "        vertical-align: top;\n",
       "    }\n",
       "\n",
       "    .dataframe thead tr th {\n",
       "        text-align: left;\n",
       "    }\n",
       "</style>\n",
       "<table border=\"1\" class=\"dataframe\">\n",
       "  <thead>\n",
       "    <tr>\n",
       "      <th></th>\n",
       "      <th colspan=\"10\" halign=\"left\">Model</th>\n",
       "      <th>...</th>\n",
       "      <th>lbl_lesion</th>\n",
       "      <th>cov_site</th>\n",
       "      <th>brain-int_fill</th>\n",
       "      <th>shape-midr_curv</th>\n",
       "      <th>shape-midr_vol-rad</th>\n",
       "      <th>lbl_lesion</th>\n",
       "      <th>cov_site</th>\n",
       "      <th>brain-int_fill</th>\n",
       "      <th>shape-midr_curv</th>\n",
       "      <th>shape-midr_vol-rad</th>\n",
       "    </tr>\n",
       "    <tr>\n",
       "      <th></th>\n",
       "      <th>loss</th>\n",
       "      <th>BAC</th>\n",
       "      <th>D2</th>\n",
       "      <th>lbl_lesion_dcor</th>\n",
       "      <th>cov_site_dcor</th>\n",
       "      <th>brain-int_fill_dcor</th>\n",
       "      <th>shape-midr_curv_dcor</th>\n",
       "      <th>shape-midr_vol-rad_dcor</th>\n",
       "      <th>lbl_lesion_mi</th>\n",
       "      <th>cov_site_mi</th>\n",
       "      <th>...</th>\n",
       "      <th>r2</th>\n",
       "      <th>r2</th>\n",
       "      <th>r2</th>\n",
       "      <th>r2</th>\n",
       "      <th>r2</th>\n",
       "      <th>costeta</th>\n",
       "      <th>costeta</th>\n",
       "      <th>costeta</th>\n",
       "      <th>costeta</th>\n",
       "      <th>costeta</th>\n",
       "    </tr>\n",
       "  </thead>\n",
       "  <tbody>\n",
       "    <tr>\n",
       "      <th>HIGHSIGNAL SIMPLECNN CLS1-FEA3</th>\n",
       "      <td>0.079422</td>\n",
       "      <td>0.971694</td>\n",
       "      <td>0.883799</td>\n",
       "      <td>0.000034</td>\n",
       "      <td>0.000029</td>\n",
       "      <td>0.000107</td>\n",
       "      <td>0.000109</td>\n",
       "      <td>0.000193</td>\n",
       "      <td>0.000000</td>\n",
       "      <td>0.001039</td>\n",
       "      <td>...</td>\n",
       "      <td>3.903110e-04</td>\n",
       "      <td>1.745707e-04</td>\n",
       "      <td>8.984468e-05</td>\n",
       "      <td>4.684668e-04</td>\n",
       "      <td>0.000353</td>\n",
       "      <td>-0.744294</td>\n",
       "      <td>-0.850139</td>\n",
       "      <td>0.937992</td>\n",
       "      <td>0.936928</td>\n",
       "      <td>0.937377</td>\n",
       "    </tr>\n",
       "    <tr>\n",
       "      <th>HIGHSIGNAL SIMPLECNN CLS1-FEA64</th>\n",
       "      <td>0.099928</td>\n",
       "      <td>0.964962</td>\n",
       "      <td>0.853766</td>\n",
       "      <td>0.000054</td>\n",
       "      <td>0.000056</td>\n",
       "      <td>0.000169</td>\n",
       "      <td>0.000160</td>\n",
       "      <td>0.000188</td>\n",
       "      <td>0.001385</td>\n",
       "      <td>0.001794</td>\n",
       "      <td>...</td>\n",
       "      <td>8.681602e-03</td>\n",
       "      <td>6.393498e-03</td>\n",
       "      <td>7.243207e-03</td>\n",
       "      <td>6.939796e-03</td>\n",
       "      <td>0.007544</td>\n",
       "      <td>-0.005038</td>\n",
       "      <td>0.031683</td>\n",
       "      <td>-0.170994</td>\n",
       "      <td>-0.201297</td>\n",
       "      <td>-0.165125</td>\n",
       "    </tr>\n",
       "    <tr>\n",
       "      <th>LOWSIGNAL SIMPLECNN CLS1-FEA3</th>\n",
       "      <td>0.358616</td>\n",
       "      <td>0.876518</td>\n",
       "      <td>0.476822</td>\n",
       "      <td>0.000019</td>\n",
       "      <td>0.000117</td>\n",
       "      <td>0.000044</td>\n",
       "      <td>0.000081</td>\n",
       "      <td>0.000074</td>\n",
       "      <td>0.000807</td>\n",
       "      <td>0.000541</td>\n",
       "      <td>...</td>\n",
       "      <td>3.561892e-06</td>\n",
       "      <td>1.588839e-04</td>\n",
       "      <td>2.656080e-05</td>\n",
       "      <td>3.236916e-05</td>\n",
       "      <td>0.000019</td>\n",
       "      <td>-0.948635</td>\n",
       "      <td>-0.328553</td>\n",
       "      <td>-0.969609</td>\n",
       "      <td>-0.969751</td>\n",
       "      <td>-0.969654</td>\n",
       "    </tr>\n",
       "    <tr>\n",
       "      <th>LOWSIGNAL SIMPLECNN CLS1-FEA64</th>\n",
       "      <td>0.693154</td>\n",
       "      <td>0.500000</td>\n",
       "      <td>-0.011239</td>\n",
       "      <td>0.000000</td>\n",
       "      <td>0.000000</td>\n",
       "      <td>0.000000</td>\n",
       "      <td>0.000000</td>\n",
       "      <td>0.000000</td>\n",
       "      <td>0.001697</td>\n",
       "      <td>0.002304</td>\n",
       "      <td>...</td>\n",
       "      <td>5.716919e-38</td>\n",
       "      <td>3.573074e-39</td>\n",
       "      <td>-6.610445e+22</td>\n",
       "      <td>-1.678407e+23</td>\n",
       "      <td>-1.339505</td>\n",
       "      <td>0.030099</td>\n",
       "      <td>-0.030099</td>\n",
       "      <td>0.000137</td>\n",
       "      <td>-0.004680</td>\n",
       "      <td>-0.005921</td>\n",
       "    </tr>\n",
       "    <tr>\n",
       "      <th>MIDSIGNAL SIMPLECNN CLS1-FEA3</th>\n",
       "      <td>0.369204</td>\n",
       "      <td>0.871945</td>\n",
       "      <td>0.460558</td>\n",
       "      <td>0.000072</td>\n",
       "      <td>0.000080</td>\n",
       "      <td>0.000126</td>\n",
       "      <td>0.000044</td>\n",
       "      <td>0.000044</td>\n",
       "      <td>0.004790</td>\n",
       "      <td>0.006877</td>\n",
       "      <td>...</td>\n",
       "      <td>4.614960e-04</td>\n",
       "      <td>2.401880e-04</td>\n",
       "      <td>2.579697e-04</td>\n",
       "      <td>3.324059e-04</td>\n",
       "      <td>0.000298</td>\n",
       "      <td>-0.618566</td>\n",
       "      <td>-0.864112</td>\n",
       "      <td>-0.976156</td>\n",
       "      <td>-0.976122</td>\n",
       "      <td>-0.975886</td>\n",
       "    </tr>\n",
       "    <tr>\n",
       "      <th>MIDSIGNAL SIMPLECNN CLS1-FEA64</th>\n",
       "      <td>0.381815</td>\n",
       "      <td>0.872250</td>\n",
       "      <td>0.442161</td>\n",
       "      <td>0.000206</td>\n",
       "      <td>0.000144</td>\n",
       "      <td>0.000154</td>\n",
       "      <td>0.000122</td>\n",
       "      <td>0.000113</td>\n",
       "      <td>0.002254</td>\n",
       "      <td>0.002239</td>\n",
       "      <td>...</td>\n",
       "      <td>5.757956e-03</td>\n",
       "      <td>6.248304e-03</td>\n",
       "      <td>8.116165e-03</td>\n",
       "      <td>7.072668e-03</td>\n",
       "      <td>0.007253</td>\n",
       "      <td>-0.061219</td>\n",
       "      <td>-0.064665</td>\n",
       "      <td>0.057746</td>\n",
       "      <td>0.014133</td>\n",
       "      <td>0.012091</td>\n",
       "    </tr>\n",
       "  </tbody>\n",
       "</table>\n",
       "<p>6 rows × 53 columns</p>\n",
       "</div>"
      ],
      "text/plain": [
       "                                    Model                                      \\\n",
       "                                     loss       BAC        D2 lbl_lesion_dcor   \n",
       "HIGHSIGNAL SIMPLECNN CLS1-FEA3   0.079422  0.971694  0.883799        0.000034   \n",
       "HIGHSIGNAL SIMPLECNN CLS1-FEA64  0.099928  0.964962  0.853766        0.000054   \n",
       "LOWSIGNAL SIMPLECNN CLS1-FEA3    0.358616  0.876518  0.476822        0.000019   \n",
       "LOWSIGNAL SIMPLECNN CLS1-FEA64   0.693154  0.500000 -0.011239        0.000000   \n",
       "MIDSIGNAL SIMPLECNN CLS1-FEA3    0.369204  0.871945  0.460558        0.000072   \n",
       "MIDSIGNAL SIMPLECNN CLS1-FEA64   0.381815  0.872250  0.442161        0.000206   \n",
       "\n",
       "                                                                   \\\n",
       "                                cov_site_dcor brain-int_fill_dcor   \n",
       "HIGHSIGNAL SIMPLECNN CLS1-FEA3       0.000029            0.000107   \n",
       "HIGHSIGNAL SIMPLECNN CLS1-FEA64      0.000056            0.000169   \n",
       "LOWSIGNAL SIMPLECNN CLS1-FEA3        0.000117            0.000044   \n",
       "LOWSIGNAL SIMPLECNN CLS1-FEA64       0.000000            0.000000   \n",
       "MIDSIGNAL SIMPLECNN CLS1-FEA3        0.000080            0.000126   \n",
       "MIDSIGNAL SIMPLECNN CLS1-FEA64       0.000144            0.000154   \n",
       "\n",
       "                                                                              \\\n",
       "                                shape-midr_curv_dcor shape-midr_vol-rad_dcor   \n",
       "HIGHSIGNAL SIMPLECNN CLS1-FEA3              0.000109                0.000193   \n",
       "HIGHSIGNAL SIMPLECNN CLS1-FEA64             0.000160                0.000188   \n",
       "LOWSIGNAL SIMPLECNN CLS1-FEA3               0.000081                0.000074   \n",
       "LOWSIGNAL SIMPLECNN CLS1-FEA64              0.000000                0.000000   \n",
       "MIDSIGNAL SIMPLECNN CLS1-FEA3               0.000044                0.000044   \n",
       "MIDSIGNAL SIMPLECNN CLS1-FEA64              0.000122                0.000113   \n",
       "\n",
       "                                                           ...    lbl_lesion  \\\n",
       "                                lbl_lesion_mi cov_site_mi  ...            r2   \n",
       "HIGHSIGNAL SIMPLECNN CLS1-FEA3       0.000000    0.001039  ...  3.903110e-04   \n",
       "HIGHSIGNAL SIMPLECNN CLS1-FEA64      0.001385    0.001794  ...  8.681602e-03   \n",
       "LOWSIGNAL SIMPLECNN CLS1-FEA3        0.000807    0.000541  ...  3.561892e-06   \n",
       "LOWSIGNAL SIMPLECNN CLS1-FEA64       0.001697    0.002304  ...  5.716919e-38   \n",
       "MIDSIGNAL SIMPLECNN CLS1-FEA3        0.004790    0.006877  ...  4.614960e-04   \n",
       "MIDSIGNAL SIMPLECNN CLS1-FEA64       0.002254    0.002239  ...  5.757956e-03   \n",
       "\n",
       "                                     cov_site brain-int_fill shape-midr_curv  \\\n",
       "                                           r2             r2              r2   \n",
       "HIGHSIGNAL SIMPLECNN CLS1-FEA3   1.745707e-04   8.984468e-05    4.684668e-04   \n",
       "HIGHSIGNAL SIMPLECNN CLS1-FEA64  6.393498e-03   7.243207e-03    6.939796e-03   \n",
       "LOWSIGNAL SIMPLECNN CLS1-FEA3    1.588839e-04   2.656080e-05    3.236916e-05   \n",
       "LOWSIGNAL SIMPLECNN CLS1-FEA64   3.573074e-39  -6.610445e+22   -1.678407e+23   \n",
       "MIDSIGNAL SIMPLECNN CLS1-FEA3    2.401880e-04   2.579697e-04    3.324059e-04   \n",
       "MIDSIGNAL SIMPLECNN CLS1-FEA64   6.248304e-03   8.116165e-03    7.072668e-03   \n",
       "\n",
       "                                shape-midr_vol-rad lbl_lesion  cov_site  \\\n",
       "                                                r2    costeta   costeta   \n",
       "HIGHSIGNAL SIMPLECNN CLS1-FEA3            0.000353  -0.744294 -0.850139   \n",
       "HIGHSIGNAL SIMPLECNN CLS1-FEA64           0.007544  -0.005038  0.031683   \n",
       "LOWSIGNAL SIMPLECNN CLS1-FEA3             0.000019  -0.948635 -0.328553   \n",
       "LOWSIGNAL SIMPLECNN CLS1-FEA64           -1.339505   0.030099 -0.030099   \n",
       "MIDSIGNAL SIMPLECNN CLS1-FEA3             0.000298  -0.618566 -0.864112   \n",
       "MIDSIGNAL SIMPLECNN CLS1-FEA64            0.007253  -0.061219 -0.064665   \n",
       "\n",
       "                                brain-int_fill shape-midr_curv  \\\n",
       "                                       costeta         costeta   \n",
       "HIGHSIGNAL SIMPLECNN CLS1-FEA3        0.937992        0.936928   \n",
       "HIGHSIGNAL SIMPLECNN CLS1-FEA64      -0.170994       -0.201297   \n",
       "LOWSIGNAL SIMPLECNN CLS1-FEA3        -0.969609       -0.969751   \n",
       "LOWSIGNAL SIMPLECNN CLS1-FEA64        0.000137       -0.004680   \n",
       "MIDSIGNAL SIMPLECNN CLS1-FEA3        -0.976156       -0.976122   \n",
       "MIDSIGNAL SIMPLECNN CLS1-FEA64        0.057746        0.014133   \n",
       "\n",
       "                                shape-midr_vol-rad  \n",
       "                                           costeta  \n",
       "HIGHSIGNAL SIMPLECNN CLS1-FEA3            0.937377  \n",
       "HIGHSIGNAL SIMPLECNN CLS1-FEA64          -0.165125  \n",
       "LOWSIGNAL SIMPLECNN CLS1-FEA3            -0.969654  \n",
       "LOWSIGNAL SIMPLECNN CLS1-FEA64           -0.005921  \n",
       "MIDSIGNAL SIMPLECNN CLS1-FEA3            -0.975886  \n",
       "MIDSIGNAL SIMPLECNN CLS1-FEA64            0.012091  \n",
       "\n",
       "[6 rows x 53 columns]"
      ]
     },
     "execution_count": 94,
     "metadata": {},
     "output_type": "execute_result"
    }
   ],
   "source": [
    "df_results = pd.DataFrame.from_dict(results, orient='index')\n",
    "df_results"
   ]
  },
  {
   "cell_type": "code",
   "execution_count": null,
   "id": "a4e3ca4f-4c05-4a20-8670-00f6fb42ec5d",
   "metadata": {
    "scrolled": true,
    "tags": []
   },
   "outputs": [],
   "source": [
    "df = drv_backend.convert_log_to_v1_table(\n",
    "    unique_name=f\"{model_class.__name__}\", \n",
    "    log_key='log/toybrains-highsignal/version_0/deeprepvizlog/'\n",
    ")"
   ]
  },
  {
   "cell_type": "code",
   "execution_count": null,
   "id": "d5ac1d2a-0375-4818-a437-8e9ca52f4395",
   "metadata": {
    "tags": []
   },
   "outputs": [],
   "source": [
    "# dim_reduct_method = TSNE(n_components=3, learning_rate='auto',\n",
    "#                          init='random', perplexity=3) "
   ]
  },
  {
   "cell_type": "code",
   "execution_count": null,
   "id": "5ec5432e-a66f-4626-94d0-eda66f9d08d8",
   "metadata": {
    "tags": []
   },
   "outputs": [],
   "source": [
    "# %reload_ext tensorboard\n",
    "# %tensorboard --logdir=./log/lightning_logs/"
   ]
  },
  {
   "cell_type": "code",
   "execution_count": null,
   "id": "914e3099-fdf3-4223-bf2e-f9d6c53c41ad",
   "metadata": {
    "tags": []
   },
   "outputs": [],
   "source": [
    "# !kill -9 1237900"
   ]
  },
  {
   "cell_type": "markdown",
   "id": "4328367f-7bd7-428d-8a31-2f1dcc9750b3",
   "metadata": {},
   "source": [
    "#### Calculate other backend metrics"
   ]
  }
 ],
 "metadata": {
  "kernelspec": {
   "display_name": "Python 3 (ipykernel)",
   "language": "python",
   "name": "python3"
  },
  "language_info": {
   "codemirror_mode": {
    "name": "ipython",
    "version": 3
   },
   "file_extension": ".py",
   "mimetype": "text/x-python",
   "name": "python",
   "nbconvert_exporter": "python",
   "pygments_lexer": "ipython3",
   "version": "3.10.13"
  }
 },
 "nbformat": 4,
 "nbformat_minor": 5
}
