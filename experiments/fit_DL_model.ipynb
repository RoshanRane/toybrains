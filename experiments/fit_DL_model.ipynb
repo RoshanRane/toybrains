{
 "cells": [
  {
   "cell_type": "markdown",
   "id": "48e7013d-a866-4869-9c66-1ab46709994e",
   "metadata": {},
   "source": [
    "## load libraries"
   ]
  },
  {
   "cell_type": "code",
   "execution_count": 1,
   "id": "346fc89f-5220-4606-be5d-d4f71c968e2a",
   "metadata": {
    "tags": []
   },
   "outputs": [],
   "source": [
    "%matplotlib inline\n",
    "%load_ext autoreload\n",
    "%autoreload 2"
   ]
  },
  {
   "cell_type": "code",
   "execution_count": 2,
   "id": "2aa3843f-51d3-4ecc-bfeb-497e3ddfd7f2",
   "metadata": {
    "tags": []
   },
   "outputs": [],
   "source": [
    "# standard python packages\n",
    "import os, sys, shutil\n",
    "from glob import glob\n",
    "import numpy as np\n",
    "import pandas as pd\n",
    "import matplotlib.pyplot as plt \n",
    "import random"
   ]
  },
  {
   "cell_type": "code",
   "execution_count": 3,
   "id": "6d6f4ed1-bed9-4c6b-8b26-e49bdd129a0d",
   "metadata": {
    "tags": []
   },
   "outputs": [
    {
     "name": "stderr",
     "output_type": "stream",
     "text": [
      "/ritter/roshan/installation/miniforge3/envs/drv2/lib/python3.10/site-packages/tqdm/auto.py:21: TqdmWarning: IProgress not found. Please update jupyter and ipywidgets. See https://ipywidgets.readthedocs.io/en/stable/user_install.html\n",
      "  from .autonotebook import tqdm as notebook_tqdm\n"
     ]
    }
   ],
   "source": [
    "sys.path.insert(0, \"../\")\n",
    "from utils.DLutils import *\n",
    "from utils.vizutils import plot_col_dists\n",
    "from create_toybrains import ToyBrainsData\n",
    "from experiments.fit_DL_model import *"
   ]
  },
  {
   "cell_type": "code",
   "execution_count": 4,
   "id": "2bc13833-e4b9-4c1a-b9a0-2c4927fe1988",
   "metadata": {
    "tags": []
   },
   "outputs": [],
   "source": [
    "DEEPREPVIZ_REPO = \"../../Deep-confound-control-v2/\"\n",
    "sys.path.append(DEEPREPVIZ_REPO)\n",
    "from DeepRepViz import *"
   ]
  },
  {
   "cell_type": "code",
   "execution_count": 5,
   "id": "e608e99b-b432-47c0-8560-a4d0095b674d",
   "metadata": {
    "tags": []
   },
   "outputs": [],
   "source": [
    "from lightning.pytorch.loggers import TensorBoardLogger, CSVLogger, WandbLogger"
   ]
  },
  {
   "cell_type": "code",
   "execution_count": 6,
   "id": "b0e8bfc7-8f59-476a-8c14-1fea33666bb5",
   "metadata": {
    "tags": []
   },
   "outputs": [],
   "source": [
    "import logging\n",
    "# disable some unneccesary lightning warnings\n",
    "logging.getLogger(\"lightning.pytorch.utilities.rank_zero\").setLevel(logging.WARNING)\n",
    "logging.getLogger(\"lightning.pytorch.accelerators.cuda\").setLevel(logging.WARNING)"
   ]
  },
  {
   "cell_type": "code",
   "execution_count": null,
   "id": "8e9a4db4-75c4-4c44-9145-bee03dd39b7f",
   "metadata": {
    "tags": []
   },
   "outputs": [],
   "source": [
    "DATASETS = [\"../dataset/toybrains_n10000_highsignal\",\n",
    "            \"../dataset/toybrains_n10000_midsignal\",\n",
    "            \"../dataset/toybrains_n10000_lowsignal\"]"
   ]
  },
  {
   "cell_type": "markdown",
   "id": "b23ea166-f53d-4e1c-9e05-56078f4b407c",
   "metadata": {
    "jp-MarkdownHeadingCollapsed": true
   },
   "source": [
    "## Generate toybrain datasets \n",
    "```bash\n",
    "$ nohup python3 create_toybrains.py -c configs.lbl1cov1 -n 10000 --suffix n_highsignal &> nohup1.out &\n",
    "$ nohup python3 create_toybrains.py -c configs.lbl1cov1_midsignal -n 10000 --suffix n_midsignal &>  nohup2.out &\n",
    "$ nohup python3 create_toybrains.py -c configs.lbl1cov1_lowsignal -n 10000 --suffix n_lowsignal &> nohup3.out &\n",
    "```"
   ]
  },
  {
   "cell_type": "markdown",
   "id": "8074f39e-5935-485b-8f8a-ea6dc337bd45",
   "metadata": {},
   "source": [
    "### Generative attr. dist."
   ]
  },
  {
   "cell_type": "code",
   "execution_count": 9,
   "id": "e952826d-09ce-4c19-b069-5227f8fa151f",
   "metadata": {
    "tags": []
   },
   "outputs": [],
   "source": [
    "# for data_dir in DATASETS:\n",
    "#     data_name = data_dir.split('/')[-1]\n",
    "#     df = pd.read_csv(f'{data_dir}/{data_name}.csv')\n",
    "#     cov_cols = df.filter(regex='^(cov_|lbl_)').columns\n",
    "#     attr_cols = df.filter(regex='^(?!(cov_|lbl_)).+').columns\n",
    "#     plot_col_dists(df, \n",
    "#                    attr_cols=attr_cols, cov_cols=cov_cols, \n",
    "#                    title=f\"{data_name}: Dist. of generative data attributes vs the labels\")\n",
    "#     plt.show()"
   ]
  },
  {
   "cell_type": "markdown",
   "id": "9edf239b-554c-44be-83c9-9f1e039183a8",
   "metadata": {},
   "source": [
    "### Baseline attr. accuracies"
   ]
  },
  {
   "cell_type": "code",
   "execution_count": 10,
   "id": "e024823f-c2d3-43be-aa2c-ffcb0e2f6467",
   "metadata": {
    "tags": []
   },
   "outputs": [
    {
     "name": "stdout",
     "output_type": "stream",
     "text": [
      "running a total of 70 different settings of [input] x [output] x [CV] and saving result in ../dataset/toybrains_n10000_highsignal\n"
     ]
    },
    {
     "name": "stderr",
     "output_type": "stream",
     "text": [
      "100%|████████████████████████████████████████████████████████████████████████████████████████████████████████████████████████████| 70/70 [00:06<00:00, 10.15it/s]\n"
     ]
    },
    {
     "name": "stdout",
     "output_type": "stream",
     "text": [
      "TOTAL RUNTIME: 0:00:08\n",
      "running a total of 70 different settings of [input] x [output] x [CV] and saving result in ../dataset/toybrains_n10000_midsignal\n"
     ]
    },
    {
     "name": "stderr",
     "output_type": "stream",
     "text": [
      "100%|████████████████████████████████████████████████████████████████████████████████████████████████████████████████████████████| 70/70 [00:04<00:00, 16.24it/s]\n"
     ]
    },
    {
     "name": "stdout",
     "output_type": "stream",
     "text": [
      "TOTAL RUNTIME: 0:00:05\n",
      "running a total of 70 different settings of [input] x [output] x [CV] and saving result in ../dataset/toybrains_n10000_lowsignal\n"
     ]
    },
    {
     "name": "stderr",
     "output_type": "stream",
     "text": [
      "100%|████████████████████████████████████████████████████████████████████████████████████████████████████████████████████████████| 70/70 [00:04<00:00, 16.59it/s]\n"
     ]
    },
    {
     "name": "stdout",
     "output_type": "stream",
     "text": [
      "TOTAL RUNTIME: 0:00:06\n"
     ]
    }
   ],
   "source": [
    "results = []\n",
    "for data_dir in DATASETS:\n",
    "    toy = ToyBrainsData(\"configs.lbl1cov1\")\n",
    "    # load the already generated dataset\n",
    "    toy.load_generated_dataset(data_dir)\n",
    "    result = toy.fit_baseline_models(CV=10) \n",
    "    results.append(result)"
   ]
  },
  {
   "cell_type": "code",
   "execution_count": 11,
   "id": "05d017b5-f64d-4f7f-bf88-071afe02f40d",
   "metadata": {
    "scrolled": true,
    "tags": []
   },
   "outputs": [
    {
     "data": {
      "image/png": "[encoded data removed]",
      "text/plain": [
       "<Figure size 1204.75x400 with 6 Axes>"
      ]
     },
     "metadata": {},
     "output_type": "display_data"
    }
   ],
   "source": [
    "toy.viz_baseline_results(results)"
   ]
  },
  {
   "cell_type": "markdown",
   "id": "dfffbcfb-1fd8-4a86-a2c7-b5eb7e019c6c",
   "metadata": {},
   "source": [
    "#### collect the results in a df"
   ]
  },
  {
   "cell_type": "code",
   "execution_count": 36,
   "id": "61bdd172-0ef5-4fa6-b020-5e8cce86cee3",
   "metadata": {},
   "outputs": [],
   "source": [
    "df_baseline = pd.concat(results)"
   ]
  },
  {
   "cell_type": "code",
   "execution_count": 37,
   "id": "32cf4e8b-3f13-4008-8899-4adcaa6a14ab",
   "metadata": {},
   "outputs": [],
   "source": [
    "grp_by_cols = ['dataset', 'inp']\n",
    "signal_col = 'test_metric'\n",
    "df_baseline_temp = df_baseline.loc[df_baseline.out.apply(lambda x: 'lbl_' in x).values, grp_by_cols+[signal_col]]"
   ]
  },
  {
   "cell_type": "code",
   "execution_count": 38,
   "id": "5b88f8a6-12f2-43ef-858e-052e4512db98",
   "metadata": {},
   "outputs": [],
   "source": [
    "df_baseline_temp = df_baseline_temp.groupby(grp_by_cols).mean().reset_index()\n",
    "df_baseline_temp.inp = df_baseline_temp.inp.map({'attr_all':r'$BL_{total}$', \n",
    "                                                 'attr_shape-midr_curv, shape-midr_vol-rad':r'$BL_{signal}$',\n",
    "                                                 'attr_brain-int_fill':r'$BL_{conf}$'})"
   ]
  },
  {
   "cell_type": "code",
   "execution_count": 39,
   "id": "60885627-e4a3-4b3e-a75d-d1744649d231",
   "metadata": {},
   "outputs": [
    {
     "data": {
      "text/html": [
       "<style type=\"text/css\">\n",
       "#T_79438_row0_col0 {\n",
       "  width: 10em;\n",
       "  background: linear-gradient(90deg, #d65f5f 88.9%, transparent 88.9%);\n",
       "}\n",
       "#T_79438_row0_col1 {\n",
       "  width: 10em;\n",
       "  background: linear-gradient(90deg, #d65f5f 43.6%, transparent 43.6%);\n",
       "}\n",
       "#T_79438_row0_col2 {\n",
       "  width: 10em;\n",
       "  background: linear-gradient(90deg, #d65f5f 84.1%, transparent 84.1%);\n",
       "}\n",
       "#T_79438_row1_col0 {\n",
       "  width: 10em;\n",
       "  background: linear-gradient(90deg, #d65f5f 48.7%, transparent 48.7%);\n",
       "}\n",
       "#T_79438_row1_col1 {\n",
       "  width: 10em;\n",
       "  background: linear-gradient(90deg, #d65f5f 45.3%, transparent 45.3%);\n",
       "}\n",
       "#T_79438_row1_col2 {\n",
       "  width: 10em;\n",
       "  background: linear-gradient(90deg, #d65f5f 8.7%, transparent 8.7%);\n",
       "}\n",
       "#T_79438_row2_col0 {\n",
       "  width: 10em;\n",
       "  background: linear-gradient(90deg, #d65f5f 57.0%, transparent 57.0%);\n",
       "}\n",
       "#T_79438_row2_col1 {\n",
       "  width: 10em;\n",
       "  background: linear-gradient(90deg, #d65f5f 43.1%, transparent 43.1%);\n",
       "}\n",
       "#T_79438_row2_col2 {\n",
       "  width: 10em;\n",
       "  background: linear-gradient(90deg, #d65f5f 27.2%, transparent 27.2%);\n",
       "}\n",
       "</style>\n",
       "<table id=\"T_79438\">\n",
       "  <thead>\n",
       "    <tr>\n",
       "      <th class=\"blank level0\" >&nbsp;</th>\n",
       "      <th id=\"T_79438_level0_col0\" class=\"col_heading level0 col0\" >$BL_{total}$</th>\n",
       "      <th id=\"T_79438_level0_col1\" class=\"col_heading level0 col1\" >$BL_{conf}$</th>\n",
       "      <th id=\"T_79438_level0_col2\" class=\"col_heading level0 col2\" >$BL_{signal}$</th>\n",
       "    </tr>\n",
       "    <tr>\n",
       "      <th class=\"index_name level0\" >Dataset</th>\n",
       "      <th class=\"blank col0\" >&nbsp;</th>\n",
       "      <th class=\"blank col1\" >&nbsp;</th>\n",
       "      <th class=\"blank col2\" >&nbsp;</th>\n",
       "    </tr>\n",
       "  </thead>\n",
       "  <tbody>\n",
       "    <tr>\n",
       "      <th id=\"T_79438_level0_row0\" class=\"row_heading level0 row0\" >highsignal</th>\n",
       "      <td id=\"T_79438_row0_col0\" class=\"data row0 col0\" >0.888686</td>\n",
       "      <td id=\"T_79438_row0_col1\" class=\"data row0 col1\" >0.436292</td>\n",
       "      <td id=\"T_79438_row0_col2\" class=\"data row0 col2\" >0.841490</td>\n",
       "    </tr>\n",
       "    <tr>\n",
       "      <th id=\"T_79438_level0_row1\" class=\"row_heading level0 row1\" >lowsignal</th>\n",
       "      <td id=\"T_79438_row1_col0\" class=\"data row1 col0\" >0.486721</td>\n",
       "      <td id=\"T_79438_row1_col1\" class=\"data row1 col1\" >0.452580</td>\n",
       "      <td id=\"T_79438_row1_col2\" class=\"data row1 col2\" >0.086718</td>\n",
       "    </tr>\n",
       "    <tr>\n",
       "      <th id=\"T_79438_level0_row2\" class=\"row_heading level0 row2\" >midsignal</th>\n",
       "      <td id=\"T_79438_row2_col0\" class=\"data row2 col0\" >0.570342</td>\n",
       "      <td id=\"T_79438_row2_col1\" class=\"data row2 col1\" >0.430726</td>\n",
       "      <td id=\"T_79438_row2_col2\" class=\"data row2 col2\" >0.271618</td>\n",
       "    </tr>\n",
       "  </tbody>\n",
       "</table>\n"
      ],
      "text/plain": [
       "<pandas.io.formats.style.Styler at 0x7fcec99931c0>"
      ]
     },
     "execution_count": 39,
     "metadata": {},
     "output_type": "execute_result"
    }
   ],
   "source": [
    "df_final = {}\n",
    "cols = []\n",
    "for dataset, dfi in df_baseline_temp.groupby(\"dataset\"):\n",
    "    dfi = dfi[['inp','test_metric']].T\n",
    "    dfi.columns = dfi.loc['inp'].values\n",
    "    dfi = dfi.drop(index='inp')\n",
    "    if not len(cols): \n",
    "        cols = dfi.columns\n",
    "    vals = [dfi[c].values[0] for c in cols]\n",
    "    df_final.update({dataset: vals})\n",
    "    \n",
    "df_final = pd.DataFrame.from_dict(df_final, orient='index', columns=cols)\n",
    "df_final.index.name = 'Dataset'\n",
    "df_final.index = df_final.index.str.replace('../dataset/toybrains_n10000_', '')\n",
    "df_final.style.bar(vmin=0, vmax=1)"
   ]
  },
  {
   "cell_type": "markdown",
   "id": "a16a340d-5bf9-4e78-b616-116f2e91443c",
   "metadata": {
    "tags": []
   },
   "source": [
    "## Fit DL models"
   ]
  },
  {
   "cell_type": "code",
   "execution_count": 8,
   "id": "d131d425-fb90-439a-b2d1-e7aa05847ffb",
   "metadata": {},
   "outputs": [],
   "source": [
    "debug = True\n",
    "label = \"lbl_lesion\"\n",
    "random_seed=42 if debug else None\n",
    "batch_size=64"
   ]
  },
  {
   "cell_type": "markdown",
   "id": "45eed1a4-08f8-4dd9-a896-7c81f3c2a174",
   "metadata": {
    "tags": []
   },
   "source": [
    "#### select the GPU"
   ]
  },
  {
   "cell_type": "code",
   "execution_count": 9,
   "id": "3ffef70c-7bef-483c-8ffb-d488bf59a5de",
   "metadata": {
    "tags": []
   },
   "outputs": [
    {
     "name": "stdout",
     "output_type": "stream",
     "text": [
      "\u001b[1m\u001b[37mcuda01                       \u001b[m  Wed Nov  8 16:53:21 2023  \u001b[1m\u001b[30m545.23.06\u001b[m\n",
      "\u001b[36m[0]\u001b[m \u001b[34mNVIDIA GeForce GTX 1080 Ti\u001b[m |\u001b[31m 26'C\u001b[m, \u001b[32m  0 %\u001b[m | \u001b[36m\u001b[1m\u001b[33m   98\u001b[m / \u001b[33m11264\u001b[m MB | \u001b[1m\u001b[30mgdm\u001b[m(\u001b[33m4M\u001b[m)\n",
      "\u001b[36m[1]\u001b[m \u001b[34mNVIDIA GeForce GTX 1080 Ti\u001b[m |\u001b[31m 28'C\u001b[m, \u001b[32m  0 %\u001b[m | \u001b[36m\u001b[1m\u001b[33m   98\u001b[m / \u001b[33m11264\u001b[m MB | \u001b[1m\u001b[30mgdm\u001b[m(\u001b[33m4M\u001b[m)\n",
      "\u001b[36m[2]\u001b[m \u001b[34mNVIDIA GeForce GTX 1080 Ti\u001b[m |\u001b[31m 28'C\u001b[m, \u001b[32m  0 %\u001b[m | \u001b[36m\u001b[1m\u001b[33m   98\u001b[m / \u001b[33m11264\u001b[m MB | \u001b[1m\u001b[30mgdm\u001b[m(\u001b[33m4M\u001b[m)\n",
      "\u001b[36m[3]\u001b[m \u001b[34mNVIDIA GeForce GTX 1080 Ti\u001b[m |\u001b[31m 28'C\u001b[m, \u001b[32m  0 %\u001b[m | \u001b[36m\u001b[1m\u001b[33m   98\u001b[m / \u001b[33m11264\u001b[m MB | \u001b[1m\u001b[30mgdm\u001b[m(\u001b[33m4M\u001b[m)\n",
      "\u001b[36m[4]\u001b[m \u001b[34mNVIDIA GeForce GTX 1080 Ti\u001b[m |\u001b[31m 26'C\u001b[m, \u001b[32m  0 %\u001b[m | \u001b[36m\u001b[1m\u001b[33m   98\u001b[m / \u001b[33m11264\u001b[m MB | \u001b[1m\u001b[30mgdm\u001b[m(\u001b[33m4M\u001b[m)\n",
      "\u001b[36m[5]\u001b[m \u001b[34mNVIDIA GeForce GTX 1080 Ti\u001b[m |\u001b[31m 26'C\u001b[m, \u001b[32m  0 %\u001b[m | \u001b[36m\u001b[1m\u001b[33m   98\u001b[m / \u001b[33m11264\u001b[m MB | \u001b[1m\u001b[30mgdm\u001b[m(\u001b[33m4M\u001b[m)\n",
      "\u001b[36m[6]\u001b[m \u001b[34mNVIDIA GeForce GTX 1080 Ti\u001b[m |\u001b[31m 28'C\u001b[m, \u001b[32m  0 %\u001b[m | \u001b[36m\u001b[1m\u001b[33m   98\u001b[m / \u001b[33m11264\u001b[m MB | \u001b[1m\u001b[30mgdm\u001b[m(\u001b[33m4M\u001b[m)\n",
      "\u001b[36m[7]\u001b[m \u001b[34mNVIDIA GeForce GTX 1080 Ti\u001b[m |\u001b[31m 26'C\u001b[m, \u001b[32m  0 %\u001b[m | \u001b[36m\u001b[1m\u001b[33m   98\u001b[m / \u001b[33m11264\u001b[m MB | \u001b[1m\u001b[30mgdm\u001b[m(\u001b[33m4M\u001b[m)\n"
     ]
    }
   ],
   "source": [
    "# check GPUs available and memory\n",
    "! gpustat"
   ]
  },
  {
   "cell_type": "code",
   "execution_count": 10,
   "id": "2942cfef-fce1-4b8c-9fd5-7834e0ce8af5",
   "metadata": {
    "tags": []
   },
   "outputs": [],
   "source": [
    "GPUs = [1]"
   ]
  },
  {
   "cell_type": "code",
   "execution_count": 11,
   "id": "4731c25c-40ae-4994-96e0-25abfce5a09b",
   "metadata": {},
   "outputs": [],
   "source": [
    "torch.set_float32_matmul_precision('medium')\n",
    "os.environ[\"CUDA_LAUNCH_BLOCKING\"]=\"1\"\n",
    "os.environ[\"TF_ENABLE_ONEDNN_OPTS\"]=\"0\""
   ]
  },
  {
   "cell_type": "markdown",
   "id": "4e62c776-1356-4f35-ae31-0153c3f8d234",
   "metadata": {},
   "source": [
    "#### Model config"
   ]
  },
  {
   "cell_type": "code",
   "execution_count": 12,
   "id": "fbc7a2c3-1665-4555-aec5-3a6afd18e571",
   "metadata": {
    "tags": []
   },
   "outputs": [],
   "source": [
    "model_class = SimpleCNN\n",
    "model_kwargs=dict(num_classes=1, final_act_size=32)"
   ]
  },
  {
   "cell_type": "markdown",
   "id": "95014053-b502-42be-a257-3679e825ff2d",
   "metadata": {},
   "source": [
    "test model init and see model layer names for hook"
   ]
  },
  {
   "cell_type": "code",
   "execution_count": 13,
   "id": "282445e8-ff0a-4350-bba7-62683c74bf67",
   "metadata": {},
   "outputs": [],
   "source": [
    "model = model_class(**model_kwargs)"
   ]
  },
  {
   "cell_type": "code",
   "execution_count": 14,
   "id": "f94dccfc-5ea4-44d6-8045-c42f84c7218e",
   "metadata": {
    "tags": []
   },
   "outputs": [
    {
     "data": {
      "text/plain": [
       "[('0', Conv2d(3, 16, kernel_size=(3, 3), stride=(1, 1), padding=(1, 1))),\n",
       " ('0', Conv2d(16, 32, kernel_size=(3, 3), stride=(1, 1), padding=(1, 1))),\n",
       " ('0', Conv2d(32, 64, kernel_size=(3, 3), stride=(1, 1), padding=(1, 1))),\n",
       " ('1', Linear(in_features=4096, out_features=32, bias=True)),\n",
       " ('2', Linear(in_features=32, out_features=1, bias=True))]"
      ]
     },
     "execution_count": 14,
     "metadata": {},
     "output_type": "execute_result"
    }
   ],
   "source": [
    "get_all_model_layers(model)"
   ]
  },
  {
   "cell_type": "markdown",
   "id": "753ad99e-c4c1-4bbc-bbc1-48fcc219494e",
   "metadata": {
    "tags": []
   },
   "source": [
    "#### Load data"
   ]
  },
  {
   "cell_type": "code",
   "execution_count": 15,
   "id": "7753e556-1905-4b7f-88a3-440ed88b3ac6",
   "metadata": {
    "tags": []
   },
   "outputs": [],
   "source": [
    "dataset_path = DATASETS[0]\n",
    "unique_name = dataset_path.split('/')[-1].split('_')[-1]\n",
    "raw_csv_path = glob(f'{dataset_path}/*{unique_name}.csv')[0]\n",
    "df_data = pd.read_csv(raw_csv_path)"
   ]
  },
  {
   "cell_type": "code",
   "execution_count": 16,
   "id": "2378bc2d-15df-4e0e-bf3d-bceca6aada18",
   "metadata": {
    "tags": []
   },
   "outputs": [
    {
     "name": "stdout",
     "output_type": "stream",
     "text": [
      "Dataset: ../dataset/toybrains_n10000_highsignal (highsignal)\n",
      "  Training data split = 7809 \n",
      "  Validation data split = 191 \n",
      "  Test data split = 2000\n"
     ]
    }
   ],
   "source": [
    "# split the dataset\n",
    "df_train, df_val, df_test = split_dataset(df_data, label, random_seed)\n",
    "\n",
    "print(f\"Dataset: {dataset_path} ({unique_name})\\n  Training data split = {len(df_train)} \\n \\\n",
    " Validation data split = {len(df_val)} \\n  Test data split = {len(df_test)}\")\n",
    "\n",
    "# generate data loaders\n",
    "common_settings = dict(images_dir=dataset_path+'/images',\n",
    "                       batch_size=batch_size,\n",
    "                       num_workers=16)\n",
    "\n",
    "train_loader = get_toybrain_dataloader(\n",
    "                df_train,\n",
    "                **common_settings)\n",
    "val_loader = get_toybrain_dataloader(\n",
    "                df_val, shuffle=False,\n",
    "                **common_settings)\n",
    "test_loader = get_toybrain_dataloader(\n",
    "                df_test, shuffle=False,\n",
    "                **common_settings)"
   ]
  },
  {
   "cell_type": "markdown",
   "id": "d535f968-1d5c-45a5-a813-37159a8a7ae3",
   "metadata": {},
   "source": [
    "#### DeepRepViz Init"
   ]
  },
  {
   "cell_type": "code",
   "execution_count": 26,
   "id": "7ba138e5-787c-400c-98d6-413f66d7a624",
   "metadata": {
    "tags": []
   },
   "outputs": [],
   "source": [
    "# create one full dataloader with the whole data and no shuffle enabled\n",
    "split_colname = 'datasplit'\n",
    "ID_col = 'subjectID'\n",
    "# add the split info too\n",
    "df_train[split_colname] = 'train'\n",
    "df_val[split_colname]   = 'val'\n",
    "df_test[split_colname]  = 'test'\n",
    "df_data = pd.concat([df_train, df_val, df_test])\n",
    "IDs = df_data[ID_col].values\n",
    "expected_labels = df_data[label].values\n",
    "datasplits = df_data[split_colname].values\n",
    "\n",
    "drv_loader_kwargs = dict(\n",
    "                img_dir=dataset_path+'/images',\n",
    "                img_names=df_data[ID_col].values,\n",
    "                labels=df_data[label].values,\n",
    "                transform=transforms.ToTensor())\n",
    "\n",
    "deeprepviz_kwargs = dict(\n",
    "                 dataloader_class=ToyBrainsDataloader, \n",
    "                 dataloader_kwargs=drv_loader_kwargs,\n",
    "                 expected_IDs=IDs, expected_labels=expected_labels, datasplits=datasplits,\n",
    "                 hook_layer=-1,\n",
    "                 debug=False)"
   ]
  },
  {
   "cell_type": "code",
   "execution_count": 28,
   "id": "75ceb783-2dcd-4fe6-99a0-746ea5d56dd7",
   "metadata": {},
   "outputs": [
    {
     "data": {
      "text/plain": [
       "<DeepRepViz.DeepRepViz at 0x7f5451b86890>"
      ]
     },
     "execution_count": 28,
     "metadata": {},
     "output_type": "execute_result"
    }
   ],
   "source": [
    "# test DeepRepViz config\n",
    "DeepRepViz(**deeprepviz_kwargs)"
   ]
  },
  {
   "cell_type": "markdown",
   "id": "b09fdb70-f6c8-48f0-a205-f8dee6184abe",
   "metadata": {},
   "source": [
    "#### run training "
   ]
  },
  {
   "cell_type": "code",
   "execution_count": 30,
   "id": "44ffd0ec-2e05-4d80-9e0a-ce606d1e7def",
   "metadata": {
    "tags": []
   },
   "outputs": [
    {
     "name": "stderr",
     "output_type": "stream",
     "text": [
      "\n",
      "  | Name           | Type              | Params\n",
      "-----------------------------------------------------\n",
      "0 | model          | SimpleCNN         | 154 K \n",
      "1 | _metric_spec   | BinarySpecificity | 0     \n",
      "2 | _metric_recall | BinaryRecall      | 0     \n",
      "3 | metric_D2      | D2metric          | 0     \n",
      "-----------------------------------------------------\n",
      "154 K     Trainable params\n",
      "0         Non-trainable params\n",
      "154 K     Total params\n",
      "0.620     Total estimated model params size (MB)\n"
     ]
    },
    {
     "name": "stdout",
     "output_type": "stream",
     "text": [
      "                                                                                                                                                                 \r"
     ]
    },
    {
     "name": "stderr",
     "output_type": "stream",
     "text": [
      "/ritter/roshan/installation/miniforge3/envs/drv2/lib/python3.10/site-packages/lightning/pytorch/trainer/connectors/data_connector.py:268: You requested to overfit but enabled train dataloader shuffling. We are turning off the train dataloader shuffling for you.\n"
     ]
    },
    {
     "name": "stdout",
     "output_type": "stream",
     "text": [
      "Epoch 0: 100%|████████████████████████████████████████████████████████████████████████████████████████████████████████████| 5/5 [00:00<00:00, 20.96it/s, v_num=1]\n",
      "Validation: |                                                                                                                              | 0/? [00:00<?, ?it/s]\u001b[A\n",
      "Validation:   0%|                                                                                                                          | 0/2 [00:00<?, ?it/s]\u001b[A\n",
      "Validation DataLoader 0:   0%|                                                                                                             | 0/2 [00:00<?, ?it/s]\u001b[A\n",
      "Validation DataLoader 0:  50%|██████████████████████████████████████████████████▌                                                  | 1/2 [00:00<00:00, 33.52it/s]\u001b[A\n",
      "Validation DataLoader 0: 100%|█████████████████████████████████████████████████████████████████████████████████████████████████████| 2/2 [00:00<00:00, 37.86it/s]\u001b[A\n",
      "Epoch 1: 100%|████████████| 5/5 [00:00<00:00,  5.80it/s, v_num=1, val_loss=42.00, val_BAC=0.500, val_D2=-11.3, train_loss=44.90, train_BAC=0.500, train_D2=-8.26]\u001b[A\n",
      "Validation: |                                                                                                                              | 0/? [00:00<?, ?it/s]\u001b[A\n",
      "Validation:   0%|                                                                                                                          | 0/2 [00:00<?, ?it/s]\u001b[A\n",
      "Validation DataLoader 0:   0%|                                                                                                             | 0/2 [00:00<?, ?it/s]\u001b[A\n",
      "Validation DataLoader 0:  50%|██████████████████████████████████████████████████▌                                                  | 1/2 [00:00<00:00, 38.88it/s]\u001b[A\n",
      "Validation DataLoader 0: 100%|█████████████████████████████████████████████████████████████████████████████████████████████████████| 2/2 [00:00<00:00, 45.74it/s]\u001b[A\n",
      "Epoch 2: 100%|████████████| 5/5 [00:01<00:00,  4.93it/s, v_num=1, val_loss=144.0, val_BAC=0.500, val_D2=-11.3, train_loss=3.420, train_BAC=0.557, train_D2=-3.61]\u001b[A\n",
      "Validation: |                                                                                                                              | 0/? [00:00<?, ?it/s]\u001b[A\n",
      "Validation:   0%|                                                                                                                          | 0/2 [00:00<?, ?it/s]\u001b[A\n",
      "Validation DataLoader 0:   0%|                                                                                                             | 0/2 [00:00<?, ?it/s]\u001b[A\n",
      "Validation DataLoader 0:  50%|██████████████████████████████████████████████████▌                                                  | 1/2 [00:00<00:00, 32.66it/s]\u001b[A\n",
      "Validation DataLoader 0: 100%|█████████████████████████████████████████████████████████████████████████████████████████████████████| 2/2 [00:00<00:00, 37.82it/s]\u001b[A\n",
      "Epoch 3: 100%|████████████| 5/5 [00:00<00:00,  5.71it/s, v_num=1, val_loss=125.0, val_BAC=0.500, val_D2=-11.3, train_loss=1.660, train_BAC=0.673, train_D2=-1.43]\u001b[A\n",
      "Validation: |                                                                                                                              | 0/? [00:00<?, ?it/s]\u001b[A\n",
      "Validation:   0%|                                                                                                                          | 0/2 [00:00<?, ?it/s]\u001b[A\n",
      "Validation DataLoader 0:   0%|                                                                                                             | 0/2 [00:00<?, ?it/s]\u001b[A\n",
      "Validation DataLoader 0:  50%|██████████████████████████████████████████████████▌                                                  | 1/2 [00:00<00:00, 38.17it/s]\u001b[A\n",
      "Validation DataLoader 0: 100%|█████████████████████████████████████████████████████████████████████████████████████████████████████| 2/2 [00:00<00:00, 44.54it/s]\u001b[A\n",
      "Epoch 4: 100%|████████████| 5/5 [00:00<00:00,  5.49it/s, v_num=1, val_loss=32.20, val_BAC=0.500, val_D2=-11.3, train_loss=1.490, train_BAC=0.727, train_D2=-1.05]\u001b[A\n",
      "Validation: |                                                                                                                              | 0/? [00:00<?, ?it/s]\u001b[A\n",
      "Validation:   0%|                                                                                                                          | 0/2 [00:00<?, ?it/s]\u001b[A\n",
      "Validation DataLoader 0:   0%|                                                                                                             | 0/2 [00:00<?, ?it/s]\u001b[A\n",
      "Validation DataLoader 0:  50%|██████████████████████████████████████████████████▌                                                  | 1/2 [00:00<00:00, 38.02it/s]\u001b[A\n",
      "Validation DataLoader 0: 100%|█████████████████████████████████████████████████████████████████████████████████████████████████████| 2/2 [00:00<00:00, 43.29it/s]\u001b[A\n",
      "Epoch 4: 100%|████████████| 5/5 [00:31<00:00,  0.16it/s, v_num=1, val_loss=21.90, val_BAC=0.500, val_D2=-11.3, train_loss=1.160, train_BAC=0.796, train_D2=-.670]\u001b[A\n",
      "Testing DataLoader 0: 100%|██████████████████████████████████████████████████████████████████████████████████████████████████████| 31/31 [00:00<00:00, 52.93it/s]\n",
      "Test data performance with the best model:\n",
      "-------------------------------------------------------\n",
      "Dataset      = ../dataset/toybrains_n10000_highsignal (highsignal)\n",
      "Balanced Acc = 50.00% \t D2 = -1058.42%\n"
     ]
    }
   ],
   "source": [
    "# setup training args\n",
    "logger_args = dict(save_dir='log', \n",
    "                   name=f'toybrains-{unique_name}')\n",
    "trainer_args = {\"max_epochs\":5 if debug else 50, \n",
    "                \"accelerator\":'gpu',\n",
    "                \"devices\":[1]}\n",
    "early_stop_patience  = 6\n",
    "\n",
    "# reinit model\n",
    "model = model_class(**model_kwargs)\n",
    "\n",
    "# reinit deeprepviz\n",
    "drv = DeepRepViz(**deeprepviz_kwargs)\n",
    "\n",
    "callbacks=[drv]\n",
    "if early_stop_patience:\n",
    "    callbacks.append(EarlyStopping(monitor=\"val_loss\", mode=\"min\", \n",
    "                                   patience=early_stop_patience))\n",
    "    \n",
    "lightning_model = LightningModel(model, learning_rate=0.05, \n",
    "                                 num_classes=model_kwargs['num_classes'])\n",
    "# configure trainer settings\n",
    "logger = TensorBoardLogger( **logger_args)\n",
    "\n",
    "# delete previous logs\n",
    "# try:\n",
    "#     # shutil.rmtree('deeprepvizlog/')\n",
    "#     shutil.rmtree('log/')\n",
    "#     # shutil.rmtree('checkpoints/')\n",
    "#     # if os.path.isdir(logger.log_dir): \n",
    "#     #     shutil.rmtree(logger.log_dir+'/')\n",
    "#     # else:\n",
    "# except:\n",
    "#     pass\n",
    "\n",
    "# train model\n",
    "trainer = L.Trainer(callbacks=callbacks,\n",
    "                    logger=logger,\n",
    "                    overfit_batches= 5 if debug else 0,\n",
    "                    log_every_n_steps= 2 if debug else 50,\n",
    "                    **trainer_args) # deterministic=True\n",
    "trainer.fit(\n",
    "    model=lightning_model,\n",
    "    train_dataloaders=train_loader,\n",
    "    val_dataloaders=val_loader)\n",
    "\n",
    "\n",
    "# test model\n",
    "test_scores = trainer.test(lightning_model, verbose=False,\n",
    "                           dataloaders=test_loader,\n",
    "                          )[0]\n",
    "\n",
    "print(\"Test data performance with the best model:\\n\\\n",
    "-------------------------------------------------------\\n\\\n",
    "Dataset      = {} ({})\\n\\\n",
    "Balanced Acc = {:.2f}% \\t D2 = {:.2f}%\".format(\n",
    "    dataset_path, unique_name, \n",
    "     test_scores['test_BAC']*100,  test_scores['test_D2']*100))"
   ]
  },
  {
   "cell_type": "markdown",
   "id": "b2440bed-168d-4eaa-bab0-a02d1935bcc0",
   "metadata": {},
   "source": [
    "## Process DeepRepVizLogs"
   ]
  },
  {
   "cell_type": "code",
   "execution_count": 119,
   "id": "1816abcb-1372-4f1c-9f13-2e4821606713",
   "metadata": {},
   "outputs": [],
   "source": [
    "from DeepRepVizBackend import DeepRepVizBackend\n",
    "drv_backend = DeepRepVizBackend(\n",
    "                  conf_table=df_data,\n",
    "                  ID_col=ID_col, label_col=label, split_col=split_colname)\n"
   ]
  },
  {
   "cell_type": "markdown",
   "id": "287eb8b4-e01c-4311-9e0b-4099cc1cdafc",
   "metadata": {},
   "source": [
    "#### generate v1 table"
   ]
  },
  {
   "cell_type": "code",
   "execution_count": 26,
   "id": "ec90d09d-1870-4e2d-9391-826f08f5a00a",
   "metadata": {},
   "outputs": [
    {
     "name": "stderr",
     "output_type": "stream",
     "text": [
      "  0%|          | 0/5 [00:00<?, ?it/s]"
     ]
    },
    {
     "name": "stderr",
     "output_type": "stream",
     "text": [
      "100%|██████████| 5/5 [00:00<00:00,  7.91it/s]\n"
     ]
    }
   ],
   "source": [
    "df = drv.convert_log_to_v1_table(\n",
    "    unique_name=f\"{model_class.__name__}\", #-TSNE3\n",
    "    # dim_reduct_method=dim_reduct_method,\n",
    "    # ckpts_dir=\"log/toybrains-n10000/version_0/deeprepvizlog\",\n",
    ")"
   ]
  },
  {
   "cell_type": "markdown",
   "id": "13c21ded-ec6c-4755-a214-9ca052f1a0e4",
   "metadata": {},
   "source": [
    "### load the features and metrics at the best checkpoint"
   ]
  },
  {
   "cell_type": "code",
   "execution_count": 121,
   "id": "a55414e9-f022-4270-abb8-883ccbc65118",
   "metadata": {},
   "outputs": [],
   "source": [
    "drv_backend.load_log(logsdir='log/toybrains-highsignal_SimpleCNN_cls1-fea64/version_0/deeprepvizlog/')\n",
    "# drv_backend.deeprepvizlogs"
   ]
  },
  {
   "cell_type": "code",
   "execution_count": 24,
   "id": "a4e3ca4f-4c05-4a20-8670-00f6fb42ec5d",
   "metadata": {
    "scrolled": true,
    "tags": []
   },
   "outputs": [],
   "source": []
  },
  {
   "cell_type": "code",
   "execution_count": 25,
   "id": "d5ac1d2a-0375-4818-a437-8e9ca52f4395",
   "metadata": {
    "tags": []
   },
   "outputs": [],
   "source": [
    "# dim_reduct_method = TSNE(n_components=3, learning_rate='auto',\n",
    "#                          init='random', perplexity=3) "
   ]
  },
  {
   "cell_type": "code",
   "execution_count": 27,
   "id": "5ec5432e-a66f-4626-94d0-eda66f9d08d8",
   "metadata": {
    "tags": []
   },
   "outputs": [],
   "source": [
    "# %reload_ext tensorboard\n",
    "# %tensorboard --logdir=./log/lightning_logs/"
   ]
  },
  {
   "cell_type": "code",
   "execution_count": 28,
   "id": "914e3099-fdf3-4223-bf2e-f9d6c53c41ad",
   "metadata": {
    "tags": []
   },
   "outputs": [],
   "source": [
    "# !kill -9 1237900"
   ]
  }
 ],
 "metadata": {
  "kernelspec": {
   "display_name": "Python 3 (ipykernel)",
   "language": "python",
   "name": "python3"
  },
  "language_info": {
   "codemirror_mode": {
    "name": "ipython",
    "version": 3
   },
   "file_extension": ".py",
   "mimetype": "text/x-python",
   "name": "python",
   "nbconvert_exporter": "python",
   "pygments_lexer": "ipython3",
   "version": "3.10.13"
  }
 },
 "nbformat": 4,
 "nbformat_minor": 5
}
