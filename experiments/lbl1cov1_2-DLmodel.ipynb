{
 "cells": [
  {
   "cell_type": "markdown",
   "id": "48e7013d-a866-4869-9c66-1ab46709994e",
   "metadata": {},
   "source": [
    "## load libraries"
   ]
  },
  {
   "cell_type": "code",
   "execution_count": 1,
   "id": "346fc89f-5220-4606-be5d-d4f71c968e2a",
   "metadata": {
    "tags": []
   },
   "outputs": [],
   "source": [
    "%matplotlib inline\n",
    "%load_ext autoreload\n",
    "%autoreload 2"
   ]
  },
  {
   "cell_type": "code",
   "execution_count": 2,
   "id": "2aa3843f-51d3-4ecc-bfeb-497e3ddfd7f2",
   "metadata": {
    "tags": []
   },
   "outputs": [],
   "source": [
    "# standard python packages\n",
    "import os, sys, shutil\n",
    "from glob import glob\n",
    "import numpy as np\n",
    "import pandas as pd\n",
    "import matplotlib.pyplot as plt \n",
    "import random"
   ]
  },
  {
   "cell_type": "code",
   "execution_count": 3,
   "id": "6d6f4ed1-bed9-4c6b-8b26-e49bdd129a0d",
   "metadata": {
    "tags": []
   },
   "outputs": [
    {
     "name": "stderr",
     "output_type": "stream",
     "text": [
      "/ritter/roshan/installation/miniforge3/envs/drv2/lib/python3.10/site-packages/tqdm/auto.py:21: TqdmWarning: IProgress not found. Please update jupyter and ipywidgets. See https://ipywidgets.readthedocs.io/en/stable/user_install.html\n",
      "  from .autonotebook import tqdm as notebook_tqdm\n",
      "OMP: Info #277: omp_set_nested routine deprecated, please use omp_set_max_active_levels instead.\n"
     ]
    }
   ],
   "source": [
    "sys.path.insert(0, \"../\")\n",
    "from utils.DLutils import *\n",
    "from utils.vizutils import *\n",
    "from create_toybrains import ToyBrainsData\n",
    "from experiments.fit_DL_model import *"
   ]
  },
  {
   "cell_type": "code",
   "execution_count": 4,
   "id": "2bc13833-e4b9-4c1a-b9a0-2c4927fe1988",
   "metadata": {
    "tags": []
   },
   "outputs": [],
   "source": [
    "DEEPREPVIZ_REPO = \"../../Deep-confound-control-v2/\"\n",
    "sys.path.append(DEEPREPVIZ_REPO)\n",
    "from DeepRepViz import *"
   ]
  },
  {
   "cell_type": "code",
   "execution_count": 5,
   "id": "e608e99b-b432-47c0-8560-a4d0095b674d",
   "metadata": {
    "tags": []
   },
   "outputs": [],
   "source": [
    "from lightning.pytorch.loggers import TensorBoardLogger, CSVLogger, WandbLogger"
   ]
  },
  {
   "cell_type": "code",
   "execution_count": 6,
   "id": "b0e8bfc7-8f59-476a-8c14-1fea33666bb5",
   "metadata": {
    "tags": []
   },
   "outputs": [],
   "source": [
    "import logging\n",
    "# disable some unneccesary lightning warnings\n",
    "logging.getLogger(\"lightning.pytorch.utilities.rank_zero\").setLevel(logging.WARNING)\n",
    "logging.getLogger(\"lightning.pytorch.accelerators.cuda\").setLevel(logging.WARNING)"
   ]
  },
  {
   "cell_type": "code",
   "execution_count": 7,
   "id": "8e9a4db4-75c4-4c44-9145-bee03dd39b7f",
   "metadata": {
    "tags": []
   },
   "outputs": [
    {
     "name": "stdout",
     "output_type": "stream",
     "text": [
      "Fitting DL model on the following toybrains datasets:\n"
     ]
    },
    {
     "data": {
      "text/plain": [
       "['/ritter/roshan/workspace/toybrains/dataset/toybrains_n10000_lblmidr_covsite_t0',\n",
       " '/ritter/roshan/workspace/toybrains/dataset/toybrains_n10000_lblmidr_covsite_t1',\n",
       " '/ritter/roshan/workspace/toybrains/dataset/toybrains_n10000_lblmidr_covsite_t2',\n",
       " '/ritter/roshan/workspace/toybrains/dataset/toybrains_n10000_lblmidr_covsite_t3',\n",
       " '/ritter/roshan/workspace/toybrains/dataset/toybrains_n10000_lblmidr_covsite_t4']"
      ]
     },
     "execution_count": 7,
     "metadata": {},
     "output_type": "execute_result"
    }
   ],
   "source": [
    "base_config_file = \"configs/lblmidr_covsite/lblmidr_covsite_t0.py\"\n",
    "\n",
    "DATASETS = sorted([os.path.abspath(path) for path in glob(\"../dataset/toybrains_n10000_lblmidr_covsite_t*\")])\n",
    "print(\"Fitting DL model on the following toybrains datasets:\")\n",
    "DATASETS"
   ]
  },
  {
   "cell_type": "markdown",
   "id": "a16a340d-5bf9-4e78-b616-116f2e91443c",
   "metadata": {
    "tags": []
   },
   "source": [
    "## Fit DL models"
   ]
  },
  {
   "cell_type": "code",
   "execution_count": 8,
   "id": "4c05b23b-dd86-49d6-bceb-d10dcc00ff30",
   "metadata": {},
   "outputs": [],
   "source": [
    "# select one dataset\n",
    "dataset_path = DATASETS[-1]\n",
    "unique_name = dataset_path.split('/')[-1].split('_')[-1]\n",
    "raw_csv_path = glob(f'{dataset_path}/*{unique_name}.csv')[0]"
   ]
  },
  {
   "cell_type": "code",
   "execution_count": 9,
   "id": "d131d425-fb90-439a-b2d1-e7aa05847ffb",
   "metadata": {},
   "outputs": [],
   "source": [
    "debug = True\n",
    "label = \"lbl_lesion\"\n",
    "random_seed=42 if debug else None\n",
    "batch_size=64"
   ]
  },
  {
   "cell_type": "markdown",
   "id": "45eed1a4-08f8-4dd9-a896-7c81f3c2a174",
   "metadata": {
    "jp-MarkdownHeadingCollapsed": true,
    "tags": []
   },
   "source": [
    "#### select the GPU"
   ]
  },
  {
   "cell_type": "code",
   "execution_count": 10,
   "id": "3ffef70c-7bef-483c-8ffb-d488bf59a5de",
   "metadata": {
    "tags": []
   },
   "outputs": [
    {
     "name": "stdout",
     "output_type": "stream",
     "text": [
      "\u001b[1m\u001b[37mcuda01                       \u001b[m  Fri Jan  5 17:48:42 2024  \u001b[1m\u001b[30m545.23.06\u001b[m\n",
      "\u001b[36m[0]\u001b[m \u001b[34mNVIDIA GeForce GTX 1080 Ti\u001b[m |\u001b[31m 25'C\u001b[m, \u001b[32m  0 %\u001b[m | \u001b[36m\u001b[1m\u001b[33m  100\u001b[m / \u001b[33m11264\u001b[m MB | \u001b[1m\u001b[30mgdm\u001b[m(\u001b[33m4M\u001b[m)\n",
      "\u001b[36m[1]\u001b[m \u001b[34mNVIDIA GeForce GTX 1080 Ti\u001b[m |\u001b[31m 27'C\u001b[m, \u001b[32m  0 %\u001b[m | \u001b[36m\u001b[1m\u001b[33m  100\u001b[m / \u001b[33m11264\u001b[m MB | \u001b[1m\u001b[30mgdm\u001b[m(\u001b[33m4M\u001b[m)\n",
      "\u001b[36m[2]\u001b[m \u001b[34mNVIDIA GeForce GTX 1080 Ti\u001b[m |\u001b[31m 27'C\u001b[m, \u001b[32m  0 %\u001b[m | \u001b[36m\u001b[1m\u001b[33m  100\u001b[m / \u001b[33m11264\u001b[m MB | \u001b[1m\u001b[30mgdm\u001b[m(\u001b[33m4M\u001b[m)\n",
      "\u001b[36m[3]\u001b[m \u001b[34mNVIDIA GeForce GTX 1080 Ti\u001b[m |\u001b[31m 28'C\u001b[m, \u001b[32m  0 %\u001b[m | \u001b[36m\u001b[1m\u001b[33m 1372\u001b[m / \u001b[33m11264\u001b[m MB | \u001b[1m\u001b[30mmanuel\u001b[m(\u001b[33m350M\u001b[m) \u001b[1m\u001b[30mmanuel\u001b[m(\u001b[33m350M\u001b[m) \u001b[1m\u001b[30mmanuel\u001b[m(\u001b[33m350M\u001b[m) \u001b[1m\u001b[30mmanuel\u001b[m(\u001b[33m220M\u001b[m) \u001b[1m\u001b[30mgdm\u001b[m(\u001b[33m4M\u001b[m)\n",
      "\u001b[36m[4]\u001b[m \u001b[34mNVIDIA GeForce GTX 1080 Ti\u001b[m |\u001b[31m 26'C\u001b[m, \u001b[32m  0 %\u001b[m | \u001b[36m\u001b[1m\u001b[33m  100\u001b[m / \u001b[33m11264\u001b[m MB | \u001b[1m\u001b[30mgdm\u001b[m(\u001b[33m4M\u001b[m)\n",
      "\u001b[36m[5]\u001b[m \u001b[34mNVIDIA GeForce GTX 1080 Ti\u001b[m |\u001b[31m 26'C\u001b[m, \u001b[32m  0 %\u001b[m | \u001b[36m\u001b[1m\u001b[33m  100\u001b[m / \u001b[33m11264\u001b[m MB | \u001b[1m\u001b[30mgdm\u001b[m(\u001b[33m4M\u001b[m)\n",
      "\u001b[36m[6]\u001b[m \u001b[34mNVIDIA GeForce GTX 1080 Ti\u001b[m |\u001b[31m 28'C\u001b[m, \u001b[32m  0 %\u001b[m | \u001b[36m\u001b[1m\u001b[33m  100\u001b[m / \u001b[33m11264\u001b[m MB | \u001b[1m\u001b[30mgdm\u001b[m(\u001b[33m4M\u001b[m)\n",
      "\u001b[36m[7]\u001b[m \u001b[34mNVIDIA GeForce GTX 1080 Ti\u001b[m |\u001b[31m 26'C\u001b[m, \u001b[32m  0 %\u001b[m | \u001b[36m\u001b[1m\u001b[33m  100\u001b[m / \u001b[33m11264\u001b[m MB | \u001b[1m\u001b[30mgdm\u001b[m(\u001b[33m4M\u001b[m)\n"
     ]
    }
   ],
   "source": [
    "# check GPUs available and memory\n",
    "! gpustat"
   ]
  },
  {
   "cell_type": "code",
   "execution_count": 11,
   "id": "2942cfef-fce1-4b8c-9fd5-7834e0ce8af5",
   "metadata": {
    "tags": []
   },
   "outputs": [],
   "source": [
    "GPUs = [1]"
   ]
  },
  {
   "cell_type": "code",
   "execution_count": 12,
   "id": "4731c25c-40ae-4994-96e0-25abfce5a09b",
   "metadata": {},
   "outputs": [],
   "source": [
    "torch.set_float32_matmul_precision('medium')\n",
    "os.environ[\"CUDA_LAUNCH_BLOCKING\"]=\"1\"\n",
    "os.environ[\"TF_ENABLE_ONEDNN_OPTS\"]=\"0\""
   ]
  },
  {
   "cell_type": "markdown",
   "id": "4e62c776-1356-4f35-ae31-0153c3f8d234",
   "metadata": {
    "jp-MarkdownHeadingCollapsed": true
   },
   "source": [
    "#### Model config"
   ]
  },
  {
   "cell_type": "code",
   "execution_count": 13,
   "id": "fbc7a2c3-1665-4555-aec5-3a6afd18e571",
   "metadata": {
    "tags": []
   },
   "outputs": [],
   "source": [
    "model_class = SimpleCNN\n",
    "model_kwargs=dict(num_classes=1, final_act_size=3)\n"
   ]
  },
  {
   "cell_type": "markdown",
   "id": "95014053-b502-42be-a257-3679e825ff2d",
   "metadata": {},
   "source": [
    "test model init and see model layer names for hook"
   ]
  },
  {
   "cell_type": "code",
   "execution_count": 14,
   "id": "282445e8-ff0a-4350-bba7-62683c74bf67",
   "metadata": {},
   "outputs": [
    {
     "name": "stdout",
     "output_type": "stream",
     "text": [
      "pytorch_total_params = 36103)\n"
     ]
    }
   ],
   "source": [
    "model = model_class(**model_kwargs)\n",
    "print(f\"pytorch_total_params = {sum(p.numel() for p in model.parameters() if p.requires_grad)})\")"
   ]
  },
  {
   "cell_type": "code",
   "execution_count": 15,
   "id": "f94dccfc-5ea4-44d6-8045-c42f84c7218e",
   "metadata": {
    "tags": []
   },
   "outputs": [
    {
     "data": {
      "text/plain": [
       "[('0', Conv2d(3, 16, kernel_size=(3, 3), stride=(1, 1), padding=(1, 1))),\n",
       " ('0', Conv2d(16, 32, kernel_size=(3, 3), stride=(1, 1), padding=(1, 1))),\n",
       " ('0', Conv2d(32, 64, kernel_size=(3, 3), stride=(1, 1), padding=(1, 1))),\n",
       " ('1', Linear(in_features=4096, out_features=3, bias=True)),\n",
       " ('2', Linear(in_features=3, out_features=1, bias=True))]"
      ]
     },
     "execution_count": 15,
     "metadata": {},
     "output_type": "execute_result"
    }
   ],
   "source": [
    "get_all_model_layers(model)"
   ]
  },
  {
   "cell_type": "markdown",
   "id": "753ad99e-c4c1-4bbc-bbc1-48fcc219494e",
   "metadata": {
    "tags": []
   },
   "source": [
    "#### Load data"
   ]
  },
  {
   "cell_type": "code",
   "execution_count": 16,
   "id": "7753e556-1905-4b7f-88a3-440ed88b3ac6",
   "metadata": {
    "tags": []
   },
   "outputs": [],
   "source": [
    "df_data = pd.read_csv(raw_csv_path)"
   ]
  },
  {
   "cell_type": "code",
   "execution_count": 17,
   "id": "2378bc2d-15df-4e0e-bf3d-bceca6aada18",
   "metadata": {
    "tags": []
   },
   "outputs": [
    {
     "name": "stdout",
     "output_type": "stream",
     "text": [
      "Dataset: /ritter/roshan/workspace/toybrains/dataset/toybrains_n10000_lblmidr_covsite_t4 (t4)\n",
      "  Training data split = 7809 \n",
      "  Validation data split = 191 \n",
      "  Test data split = 2000\n"
     ]
    }
   ],
   "source": [
    "# split the dataset\n",
    "df_train, df_val, df_test = split_dataset(df_data, label, random_seed)\n",
    "\n",
    "print(f\"Dataset: {dataset_path} ({unique_name})\\n  Training data split = {len(df_train)} \\n \\\n",
    " Validation data split = {len(df_val)} \\n  Test data split = {len(df_test)}\")\n",
    "\n",
    "# generate data loaders\n",
    "common_settings = dict(images_dir=dataset_path+'/images',\n",
    "                       batch_size=batch_size,\n",
    "                       num_workers=16)\n",
    "\n",
    "train_loader = get_toybrain_dataloader(\n",
    "                df_train,\n",
    "                **common_settings)\n",
    "val_loader = get_toybrain_dataloader(\n",
    "                df_val, shuffle=False,\n",
    "                **common_settings)\n",
    "test_loader = get_toybrain_dataloader(\n",
    "                df_test, shuffle=False,\n",
    "                **common_settings)"
   ]
  },
  {
   "cell_type": "markdown",
   "id": "d535f968-1d5c-45a5-a813-37159a8a7ae3",
   "metadata": {
    "jp-MarkdownHeadingCollapsed": true
   },
   "source": [
    "#### DeepRepViz Init"
   ]
  },
  {
   "cell_type": "code",
   "execution_count": 18,
   "id": "7ba138e5-787c-400c-98d6-413f66d7a624",
   "metadata": {
    "tags": []
   },
   "outputs": [],
   "source": [
    "# create one full dataloader with the whole data and no shuffle enabled\n",
    "split_colname = 'datasplit'\n",
    "ID_col = 'subjectID'\n",
    "# add the split info too\n",
    "df_train[split_colname] = 'train'\n",
    "df_val[split_colname]   = 'val'\n",
    "df_test[split_colname]  = 'test'\n",
    "df_data = pd.concat([df_train, df_val, df_test])\n",
    "IDs = df_data[ID_col].values\n",
    "expected_labels = df_data[label].values\n",
    "datasplits = df_data[split_colname].values\n",
    "\n",
    "drv_loader_kwargs = dict(\n",
    "                img_dir=dataset_path+'/images',\n",
    "                img_names=df_data[ID_col].values,\n",
    "                labels=df_data[label].values,\n",
    "                transform=transforms.ToTensor())\n",
    "\n",
    "deeprepviz_kwargs = dict(\n",
    "                 dataloader_class=ToyBrainsDataloader, \n",
    "                 dataloader_kwargs=drv_loader_kwargs,\n",
    "                 expected_IDs=IDs, expected_labels=expected_labels, datasplits=datasplits,\n",
    "                 hook_layer=-1,\n",
    "                 debug=False)"
   ]
  },
  {
   "cell_type": "code",
   "execution_count": 19,
   "id": "75ceb783-2dcd-4fe6-99a0-746ea5d56dd7",
   "metadata": {},
   "outputs": [
    {
     "data": {
      "text/plain": [
       "<DeepRepViz.DeepRepViz at 0x7f61016fa950>"
      ]
     },
     "execution_count": 19,
     "metadata": {},
     "output_type": "execute_result"
    }
   ],
   "source": [
    "# test DeepRepViz config\n",
    "DeepRepViz(**deeprepviz_kwargs)"
   ]
  },
  {
   "cell_type": "markdown",
   "id": "b09fdb70-f6c8-48f0-a205-f8dee6184abe",
   "metadata": {},
   "source": [
    "#### run training "
   ]
  },
  {
   "cell_type": "code",
   "execution_count": 21,
   "id": "44ffd0ec-2e05-4d80-9e0a-ce606d1e7def",
   "metadata": {
    "tags": []
   },
   "outputs": [
    {
     "name": "stderr",
     "output_type": "stream",
     "text": [
      "Missing logger folder: log/testrun/toybrains-t4\n",
      "\n",
      "  | Name           | Type              | Params\n",
      "-----------------------------------------------------\n",
      "0 | model          | SimpleCNN         | 36.1 K\n",
      "1 | _metric_spec   | BinarySpecificity | 0     \n",
      "2 | _metric_recall | BinaryRecall      | 0     \n",
      "3 | metric_D2      | D2metric          | 0     \n",
      "-----------------------------------------------------\n",
      "36.1 K    Trainable params\n",
      "0         Non-trainable params\n",
      "36.1 K    Total params\n",
      "0.144     Total estimated model params size (MB)\n"
     ]
    },
    {
     "name": "stdout",
     "output_type": "stream",
     "text": [
      "                                                                           \r"
     ]
    },
    {
     "name": "stderr",
     "output_type": "stream",
     "text": [
      "You requested to overfit but enabled train dataloader shuffling. We are turning off the train dataloader shuffling for you.\n"
     ]
    },
    {
     "name": "stdout",
     "output_type": "stream",
     "text": [
      "Epoch 4: 100%|██████████| 5/5 [00:20<00:00,  0.24it/s, v_num=0, val_loss=3.420, val_BAC=0.500, val_D2=-3.95, train_loss=0.367, train_BAC=0.873, train_D2=0.460]\n",
      "Testing DataLoader 0: 100%|██████████| 31/31 [00:00<00:00, 59.17it/s]\n",
      "Test data performance with the best model:\n",
      "-------------------------------------------------------\n",
      "Dataset      = /ritter/roshan/workspace/toybrains/dataset/toybrains_n10000_lblmidr_covsite_t4 (t4)\n",
      "Balanced Acc = 50.00% \t D2 = -401.46%\n"
     ]
    }
   ],
   "source": [
    "\n",
    "# setup training args\n",
    "logger_args = dict(save_dir='log/debugmode/', \n",
    "                   name=f'toybrains-{unique_name}')\n",
    "trainer_args = {\"max_epochs\":5 if debug else 50, \n",
    "                \"accelerator\":'gpu',\n",
    "                \"devices\":[1]}\n",
    "early_stop_patience  = 6\n",
    "\n",
    "# reinit model\n",
    "model = model_class(**model_kwargs)\n",
    "\n",
    "# reinit deeprepviz\n",
    "drv = DeepRepViz(**deeprepviz_kwargs)\n",
    "\n",
    "callbacks=[drv]\n",
    "if early_stop_patience:\n",
    "    callbacks.append(EarlyStopping(monitor=\"val_loss\", mode=\"min\", \n",
    "                                   patience=early_stop_patience))\n",
    "    \n",
    "lightning_model = LightningModel(model, learning_rate=0.05, \n",
    "                                 num_classes=model_kwargs['num_classes'])\n",
    "# configure trainer settings\n",
    "logger = TensorBoardLogger( **logger_args)\n",
    "! rm -rf /log/*debugmode*\n",
    "               \n",
    "# train model\n",
    "trainer = L.Trainer(callbacks=callbacks,\n",
    "                    logger=logger,\n",
    "                    overfit_batches= 5 if debug else 0,\n",
    "                    log_every_n_steps= 2 if debug else 50,\n",
    "                    **trainer_args) # deterministic=True\n",
    "trainer.fit(\n",
    "    model=lightning_model,\n",
    "    train_dataloaders=train_loader,\n",
    "    val_dataloaders=val_loader)\n",
    "\n",
    "\n",
    "# test model\n",
    "test_scores = trainer.test(lightning_model, verbose=False,\n",
    "                           dataloaders=test_loader,\n",
    "                          )[0]\n",
    "\n",
    "print(\"Test data performance with the best model:\\n\\\n",
    "-------------------------------------------------------\\n\\\n",
    "Dataset      = {} ({})\\n\\\n",
    "Balanced Acc = {:.2f}% \\t D2 = {:.2f}%\".format(\n",
    "    dataset_path, unique_name, \n",
    "     test_scores['test_BAC']*100,  test_scores['test_D2']*100))"
   ]
  },
  {
   "cell_type": "markdown",
   "id": "70b44f85",
   "metadata": {},
   "source": [
    "```bash\n",
    "nohup python3 fit_DL_model.py --data_dir dataset/toybrains_n10000_lblmidr_covsite_t0 --gpus 0 --final_act_size 3 -n \"_cls1-fea3\" &> nohup_0-3.out &\n",
    "nohup python3 fit_DL_model.py --data_dir dataset/toybrains_n10000_lblmidr_covsite_t1 --gpus 1 --final_act_size 3 -n \"_cls1-fea3\" &> nohup_1-3.out &\n",
    "nohup python3 fit_DL_model.py --data_dir dataset/toybrains_n10000_lblmidr_covsite_t2 --gpus 2 --final_act_size 3 -n \"_cls1-fea3\" &> nohup_2-3.out &\n",
    "nohup python3 fit_DL_model.py --data_dir dataset/toybrains_n10000_lblmidr_covsite_t3 --gpus 3 --final_act_size 3 -n \"_cls1-fea3\" &> nohup_3-3.out &\n",
    "nohup python3 fit_DL_model.py --data_dir dataset/toybrains_n10000_lblmidr_covsite_t4 --gpus 4 --final_act_size 3 -n \"_cls1-fea3\" &> nohup_4-3.out &\n",
    "\n",
    "\n",
    "nohup python3 fit_DL_model.py --data_dir dataset/toybrains_n10000_lblmidr_covsite_t0 --gpus 5 --final_act_size 64 -n \"_cls1-fea64\" &> nohup_0-64.out &\n",
    "nohup python3 fit_DL_model.py --data_dir dataset/toybrains_n10000_lblmidr_covsite_t1 --gpus 6 --final_act_size 64 -n \"_cls1-fea64\" &> nohup_1-64.out &\n",
    "nohup python3 fit_DL_model.py --data_dir dataset/toybrains_n10000_lblmidr_covsite_t2 --gpus 7 --final_act_size 64 -n \"_cls1-fea64\" &> nohup_2-64.out &\n",
    "nohup python3 fit_DL_model.py --data_dir dataset/toybrains_n10000_lblmidr_covsite_t3 --gpus 0 --final_act_size 64 -n \"_cls1-fea64\" &> nohup_3-64.out &\n",
    "nohup python3 fit_DL_model.py --data_dir dataset/toybrains_n10000_lblmidr_covsite_t4 --gpus 1 --final_act_size 64 -n \"_cls1-fea64\" &> nohup_4-64.out &\n",
    "\n",
    "```"
   ]
  }
 ],
 "metadata": {
  "kernelspec": {
   "display_name": "Python 3 (ipykernel)",
   "language": "python",
   "name": "python3"
  },
  "language_info": {
   "codemirror_mode": {
    "name": "ipython",
    "version": 3
   },
   "file_extension": ".py",
   "mimetype": "text/x-python",
   "name": "python",
   "nbconvert_exporter": "python",
   "pygments_lexer": "ipython3",
   "version": "3.10.13"
  }
 },
 "nbformat": 4,
 "nbformat_minor": 5
}
