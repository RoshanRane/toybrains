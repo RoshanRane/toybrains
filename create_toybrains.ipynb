{
 "cells": [
  {
   "cell_type": "code",
   "execution_count": 1,
   "id": "e8a6a89f-0485-4782-a8bc-b9882263edbb",
   "metadata": {
    "tags": []
   },
   "outputs": [],
   "source": [
    "%matplotlib inline\n",
    "%load_ext autoreload\n",
    "%autoreload 2"
   ]
  },
  {
   "cell_type": "code",
   "execution_count": 2,
   "id": "4176e0ea-f784-4d07-991a-1dcafdb3fd6e",
   "metadata": {
    "tags": []
   },
   "outputs": [],
   "source": [
    "# standard python packages\n",
    "import os, sys\n",
    "from glob import glob\n",
    "import numpy as np\n",
    "import pandas as pd\n",
    "import matplotlib.pyplot as plt \n",
    "import seaborn as sns\n",
    "import matplotlib.image as mpimg\n",
    "\n",
    "import seaborn as sns\n",
    "from sklearn import datasets, linear_model\n",
    "from tqdm.notebook import tqdm\n",
    "import random\n",
    "import math\n",
    "import json"
   ]
  },
  {
   "cell_type": "markdown",
   "id": "26e5c37d-6725-404a-9873-61cd9d0f04e4",
   "metadata": {
    "tags": []
   },
   "source": [
    "## Generate data"
   ]
  },
  {
   "cell_type": "code",
   "execution_count": 77,
   "id": "0a80887a-9a80-4036-b83b-0803a9751bf7",
   "metadata": {
    "tags": []
   },
   "outputs": [
    {
     "name": "stdout",
     "output_type": "stream",
     "text": []
    },
    {
     "name": "stdout",
     "output_type": "stream",
     "text": []
    },
    {
     "name": "stdout",
     "output_type": "stream",
     "text": []
    },
    {
     "name": "stdout",
     "output_type": "stream",
     "text": []
    },
    {
     "name": "stdout",
     "output_type": "stream",
     "text": []
    },
    {
     "name": "stdout",
     "output_type": "stream",
     "text": []
    },
    {
     "name": "stdout",
     "output_type": "stream",
     "text": []
    },
    {
     "name": "stdout",
     "output_type": "stream",
     "text": []
    },
    {
     "name": "stdout",
     "output_type": "stream",
     "text": []
    },
    {
     "name": "stdout",
     "output_type": "stream",
     "text": []
    },
    {
     "name": "stdout",
     "output_type": "stream",
     "text": []
    },
    {
     "name": "stdout",
     "output_type": "stream",
     "text": []
    },
    {
     "name": "stdout",
     "output_type": "stream",
     "text": []
    },
    {
     "name": "stdout",
     "output_type": "stream",
     "text": []
    },
    {
     "name": "stdout",
     "output_type": "stream",
     "text": []
    },
    {
     "name": "stdout",
     "output_type": "stream",
     "text": []
    },
    {
     "name": "stdout",
     "output_type": "stream",
     "text": []
    },
    {
     "name": "stdout",
     "output_type": "stream",
     "text": []
    },
    {
     "name": "stdout",
     "output_type": "stream",
     "text": []
    },
    {
     "name": "stdout",
     "output_type": "stream",
     "text": []
    },
    {
     "name": "stdout",
     "output_type": "stream",
     "text": []
    },
    {
     "name": "stdout",
     "output_type": "stream",
     "text": []
    },
    {
     "name": "stdout",
     "output_type": "stream",
     "text": []
    },
    {
     "name": "stdout",
     "output_type": "stream",
     "text": []
    },
    {
     "name": "stdout",
     "output_type": "stream",
     "text": []
    },
    {
     "name": "stdout",
     "output_type": "stream",
     "text": []
    },
    {
     "name": "stdout",
     "output_type": "stream",
     "text": []
    },
    {
     "name": "stdout",
     "output_type": "stream",
     "text": []
    },
    {
     "name": "stdout",
     "output_type": "stream",
     "text": []
    },
    {
     "name": "stdout",
     "output_type": "stream",
     "text": []
    },
    {
     "name": "stdout",
     "output_type": "stream",
     "text": []
    },
    {
     "name": "stdout",
     "output_type": "stream",
     "text": []
    },
    {
     "name": "stdout",
     "output_type": "stream",
     "text": []
    },
    {
     "name": "stdout",
     "output_type": "stream",
     "text": []
    },
    {
     "name": "stdout",
     "output_type": "stream",
     "text": []
    },
    {
     "name": "stdout",
     "output_type": "stream",
     "text": []
    },
    {
     "name": "stdout",
     "output_type": "stream",
     "text": []
    },
    {
     "name": "stdout",
     "output_type": "stream",
     "text": []
    },
    {
     "name": "stdout",
     "output_type": "stream",
     "text": []
    },
    {
     "name": "stdout",
     "output_type": "stream",
     "text": []
    },
    {
     "name": "stdout",
     "output_type": "stream",
     "text": []
    },
    {
     "name": "stdout",
     "output_type": "stream",
     "text": []
    },
    {
     "name": "stdout",
     "output_type": "stream",
     "text": []
    },
    {
     "name": "stdout",
     "output_type": "stream",
     "text": []
    },
    {
     "name": "stdout",
     "output_type": "stream",
     "text": []
    },
    {
     "name": "stdout",
     "output_type": "stream",
     "text": []
    },
    {
     "name": "stdout",
     "output_type": "stream",
     "text": []
    },
    {
     "name": "stdout",
     "output_type": "stream",
     "text": []
    },
    {
     "name": "stdout",
     "output_type": "stream",
     "text": []
    },
    {
     "name": "stdout",
     "output_type": "stream",
     "text": []
    },
    {
     "name": "stdout",
     "output_type": "stream",
     "text": []
    },
    {
     "name": "stdout",
     "output_type": "stream",
     "text": []
    },
    {
     "name": "stdout",
     "output_type": "stream",
     "text": []
    },
    {
     "name": "stdout",
     "output_type": "stream",
     "text": []
    },
    {
     "name": "stdout",
     "output_type": "stream",
     "text": []
    },
    {
     "name": "stdout",
     "output_type": "stream",
     "text": []
    },
    {
     "name": "stdout",
     "output_type": "stream",
     "text": []
    },
    {
     "name": "stdout",
     "output_type": "stream",
     "text": []
    },
    {
     "name": "stdout",
     "output_type": "stream",
     "text": []
    },
    {
     "name": "stdout",
     "output_type": "stream",
     "text": []
    },
    {
     "name": "stdout",
     "output_type": "stream",
     "text": []
    },
    {
     "name": "stdout",
     "output_type": "stream",
     "text": []
    },
    {
     "name": "stdout",
     "output_type": "stream",
     "text": []
    },
    {
     "name": "stdout",
     "output_type": "stream",
     "text": []
    },
    {
     "name": "stdout",
     "output_type": "stream",
     "text": []
    },
    {
     "name": "stdout",
     "output_type": "stream",
     "text": []
    },
    {
     "name": "stdout",
     "output_type": "stream",
     "text": []
    },
    {
     "name": "stdout",
     "output_type": "stream",
     "text": []
    },
    {
     "name": "stdout",
     "output_type": "stream",
     "text": []
    },
    {
     "name": "stdout",
     "output_type": "stream",
     "text": []
    },
    {
     "name": "stdout",
     "output_type": "stream",
     "text": []
    },
    {
     "name": "stdout",
     "output_type": "stream",
     "text": []
    },
    {
     "name": "stdout",
     "output_type": "stream",
     "text": []
    },
    {
     "name": "stdout",
     "output_type": "stream",
     "text": []
    },
    {
     "name": "stdout",
     "output_type": "stream",
     "text": []
    },
    {
     "name": "stdout",
     "output_type": "stream",
     "text": []
    },
    {
     "name": "stdout",
     "output_type": "stream",
     "text": []
    },
    {
     "name": "stdout",
     "output_type": "stream",
     "text": []
    },
    {
     "name": "stdout",
     "output_type": "stream",
     "text": []
    },
    {
     "name": "stdout",
     "output_type": "stream",
     "text": []
    },
    {
     "name": "stdout",
     "output_type": "stream",
     "text": []
    },
    {
     "name": "stdout",
     "output_type": "stream",
     "text": []
    },
    {
     "name": "stdout",
     "output_type": "stream",
     "text": []
    },
    {
     "name": "stdout",
     "output_type": "stream",
     "text": []
    },
    {
     "name": "stdout",
     "output_type": "stream",
     "text": []
    },
    {
     "name": "stdout",
     "output_type": "stream",
     "text": []
    },
    {
     "name": "stdout",
     "output_type": "stream",
     "text": []
    },
    {
     "name": "stdout",
     "output_type": "stream",
     "text": []
    },
    {
     "name": "stdout",
     "output_type": "stream",
     "text": []
    },
    {
     "name": "stdout",
     "output_type": "stream",
     "text": []
    },
    {
     "name": "stdout",
     "output_type": "stream",
     "text": []
    },
    {
     "name": "stdout",
     "output_type": "stream",
     "text": []
    },
    {
     "name": "stdout",
     "output_type": "stream",
     "text": []
    },
    {
     "name": "stdout",
     "output_type": "stream",
     "text": []
    },
    {
     "name": "stdout",
     "output_type": "stream",
     "text": []
    },
    {
     "name": "stdout",
     "output_type": "stream",
     "text": []
    },
    {
     "name": "stdout",
     "output_type": "stream",
     "text": []
    },
    {
     "name": "stdout",
     "output_type": "stream",
     "text": []
    },
    {
     "name": "stdout",
     "output_type": "stream",
     "text": []
    },
    {
     "name": "stdout",
     "output_type": "stream",
     "text": []
    },
    {
     "name": "stdout",
     "output_type": "stream",
     "text": []
    },
    {
     "name": "stdout",
     "output_type": "stream",
     "text": []
    },
    {
     "name": "stdout",
     "output_type": "stream",
     "text": []
    },
    {
     "name": "stdout",
     "output_type": "stream",
     "text": []
    },
    {
     "name": "stdout",
     "output_type": "stream",
     "text": []
    },
    {
     "name": "stdout",
     "output_type": "stream",
     "text": []
    },
    {
     "name": "stdout",
     "output_type": "stream",
     "text": []
    },
    {
     "name": "stdout",
     "output_type": "stream",
     "text": []
    },
    {
     "name": "stdout",
     "output_type": "stream",
     "text": []
    },
    {
     "name": "stdout",
     "output_type": "stream",
     "text": []
    },
    {
     "name": "stdout",
     "output_type": "stream",
     "text": []
    },
    {
     "name": "stdout",
     "output_type": "stream",
     "text": []
    },
    {
     "name": "stdout",
     "output_type": "stream",
     "text": []
    },
    {
     "name": "stdout",
     "output_type": "stream",
     "text": []
    },
    {
     "name": "stdout",
     "output_type": "stream",
     "text": []
    },
    {
     "name": "stdout",
     "output_type": "stream",
     "text": []
    },
    {
     "name": "stdout",
     "output_type": "stream",
     "text": []
    },
    {
     "name": "stdout",
     "output_type": "stream",
     "text": []
    },
    {
     "name": "stdout",
     "output_type": "stream",
     "text": []
    },
    {
     "name": "stdout",
     "output_type": "stream",
     "text": []
    },
    {
     "name": "stdout",
     "output_type": "stream",
     "text": []
    },
    {
     "name": "stdout",
     "output_type": "stream",
     "text": []
    },
    {
     "name": "stdout",
     "output_type": "stream",
     "text": []
    },
    {
     "name": "stdout",
     "output_type": "stream",
     "text": []
    },
    {
     "name": "stdout",
     "output_type": "stream",
     "text": []
    },
    {
     "name": "stdout",
     "output_type": "stream",
     "text": []
    },
    {
     "name": "stdout",
     "output_type": "stream",
     "text": []
    },
    {
     "name": "stdout",
     "output_type": "stream",
     "text": []
    },
    {
     "name": "stdout",
     "output_type": "stream",
     "text": []
    },
    {
     "name": "stdout",
     "output_type": "stream",
     "text": []
    },
    {
     "name": "stdout",
     "output_type": "stream",
     "text": []
    },
    {
     "name": "stdout",
     "output_type": "stream",
     "text": []
    },
    {
     "name": "stdout",
     "output_type": "stream",
     "text": []
    },
    {
     "name": "stdout",
     "output_type": "stream",
     "text": []
    },
    {
     "name": "stdout",
     "output_type": "stream",
     "text": []
    },
    {
     "name": "stdout",
     "output_type": "stream",
     "text": []
    },
    {
     "name": "stdout",
     "output_type": "stream",
     "text": []
    },
    {
     "name": "stdout",
     "output_type": "stream",
     "text": []
    },
    {
     "name": "stdout",
     "output_type": "stream",
     "text": []
    },
    {
     "name": "stdout",
     "output_type": "stream",
     "text": []
    },
    {
     "name": "stdout",
     "output_type": "stream",
     "text": []
    },
    {
     "name": "stdout",
     "output_type": "stream",
     "text": []
    },
    {
     "name": "stdout",
     "output_type": "stream",
     "text": []
    },
    {
     "name": "stdout",
     "output_type": "stream",
     "text": []
    },
    {
     "name": "stdout",
     "output_type": "stream",
     "text": []
    },
    {
     "name": "stdout",
     "output_type": "stream",
     "text": []
    },
    {
     "name": "stdout",
     "output_type": "stream",
     "text": []
    },
    {
     "name": "stdout",
     "output_type": "stream",
     "text": []
    },
    {
     "name": "stdout",
     "output_type": "stream",
     "text": []
    },
    {
     "name": "stdout",
     "output_type": "stream",
     "text": []
    },
    {
     "name": "stdout",
     "output_type": "stream",
     "text": []
    },
    {
     "name": "stdout",
     "output_type": "stream",
     "text": []
    },
    {
     "name": "stdout",
     "output_type": "stream",
     "text": []
    },
    {
     "name": "stdout",
     "output_type": "stream",
     "text": []
    },
    {
     "name": "stdout",
     "output_type": "stream",
     "text": []
    },
    {
     "name": "stdout",
     "output_type": "stream",
     "text": []
    },
    {
     "name": "stdout",
     "output_type": "stream",
     "text": []
    },
    {
     "name": "stdout",
     "output_type": "stream",
     "text": []
    },
    {
     "name": "stdout",
     "output_type": "stream",
     "text": []
    },
    {
     "name": "stdout",
     "output_type": "stream",
     "text": []
    },
    {
     "name": "stdout",
     "output_type": "stream",
     "text": []
    },
    {
     "name": "stdout",
     "output_type": "stream",
     "text": []
    },
    {
     "name": "stdout",
     "output_type": "stream",
     "text": []
    },
    {
     "name": "stdout",
     "output_type": "stream",
     "text": []
    },
    {
     "name": "stdout",
     "output_type": "stream",
     "text": []
    },
    {
     "name": "stdout",
     "output_type": "stream",
     "text": []
    },
    {
     "name": "stdout",
     "output_type": "stream",
     "text": []
    },
    {
     "name": "stdout",
     "output_type": "stream",
     "text": []
    },
    {
     "name": "stdout",
     "output_type": "stream",
     "text": []
    },
    {
     "name": "stdout",
     "output_type": "stream",
     "text": []
    },
    {
     "name": "stdout",
     "output_type": "stream",
     "text": []
    },
    {
     "name": "stdout",
     "output_type": "stream",
     "text": []
    },
    {
     "name": "stdout",
     "output_type": "stream",
     "text": []
    },
    {
     "name": "stdout",
     "output_type": "stream",
     "text": []
    },
    {
     "name": "stdout",
     "output_type": "stream",
     "text": [
      "Generative parameter        |        States \n",
      "------------------------------------------------------------\n",
      "brain_vol-radminor         [20 21 22 23 24]\n",
      "brain_vol-radmajor         [26 27 28 29 30]\n",
      "brain_thick                [1 2 3 4]\n",
      "brain_int                  [210 200 190 180 170]\n",
      "border_int                 ['mediumslateblue' 'slateblue' 'darkslateblue' 'darkblue']\n",
      "vent_thick                 [1 2 3 4]\n",
      "shape-top_curv             [ 3  4  5  6  7  8  9 10 11]\n",
      "shape-top_int              ['indianred' 'salmon' 'lightsalmon' 'palegoldenrod' 'lightgreen'\n",
      " 'darkgreen']\n",
      "shape-top_vol-rad          [2 3 4 5]\n",
      "shape-midr_curv            [ 3  4  5  6  7  8  9 10 11]\n",
      "shape-midr_int             ['indianred' 'salmon' 'lightsalmon' 'palegoldenrod' 'lightgreen'\n",
      " 'darkgreen']\n",
      "shape-midr_vol-rad         [2 3 4 5]\n",
      "shape-midl_curv            [ 3  4  5  6  7  8  9 10 11]\n",
      "shape-midl_int             ['indianred' 'salmon' 'lightsalmon' 'palegoldenrod' 'lightgreen'\n",
      " 'darkgreen']\n",
      "shape-midl_vol-rad         [2 3 4 5]\n",
      "shape-botr_curv            [ 3  4  5  6  7  8  9 10 11]\n",
      "shape-botr_int             ['indianred' 'salmon' 'lightsalmon' 'palegoldenrod' 'lightgreen'\n",
      " 'darkgreen']\n",
      "shape-botr_vol-rad         [2 3 4 5]\n",
      "shape-botl_curv            [ 3  4  5  6  7  8  9 10 11]\n",
      "shape-botl_int             ['indianred' 'salmon' 'lightsalmon' 'palegoldenrod' 'lightgreen'\n",
      " 'darkgreen']\n",
      "shape-botl_vol-rad         [2 3 4 5]\n",
      "Generating 100 synthetic 'toy brain' images:\n",
      "100%|█████████████████████████████████████████| 100/100 [00:45<00:00,  2.21it/s]\n"
     ]
    }
   ],
   "source": [
    "! python create_toybrains.py -d -n 100"
   ]
  },
  {
   "cell_type": "markdown",
   "id": "ce6edb20-22aa-496c-8a57-fb7c473abfd9",
   "metadata": {},
   "source": [
    "## Visualize the data"
   ]
  },
  {
   "cell_type": "code",
   "execution_count": 78,
   "id": "43370363-359a-45b6-a352-826e50905bd8",
   "metadata": {
    "tags": []
   },
   "outputs": [
    {
     "name": "stdout",
     "output_type": "stream",
     "text": [
      "<class 'pandas.core.frame.DataFrame'>\n",
      "Int64Index: 100 entries, 0 to 99\n",
      "Data columns (total 34 columns):\n",
      " #   Column                    Non-Null Count  Dtype  \n",
      "---  ------                    --------------  -----  \n",
      " 0   _gen_brain_vol-radmajor   100 non-null    float64\n",
      " 1   _gen_brain_vol-radminor   100 non-null    float64\n",
      " 2   _gen_shape-botl_vol-rad   100 non-null    float64\n",
      " 3   _gen_shape-botr_vol-rad   100 non-null    float64\n",
      " 4   _gen_shape-midl_vol-rad   100 non-null    float64\n",
      " 5   _gen_shape-midr_vol-rad   100 non-null    float64\n",
      " 6   _gen_shape-top_vol-rad    100 non-null    float64\n",
      " 7   cov_age                   100 non-null    float64\n",
      " 8   cov_sex                   100 non-null    object \n",
      " 9   cov_site                  100 non-null    object \n",
      " 10  gen_border_int            100 non-null    object \n",
      " 11  gen_brain_int             100 non-null    float64\n",
      " 12  gen_brain_thick           100 non-null    float64\n",
      " 13  gen_brain_vol             100 non-null    float64\n",
      " 14  gen_shape-botl_curv       100 non-null    float64\n",
      " 15  gen_shape-botl_int        100 non-null    object \n",
      " 16  gen_shape-botl_vol        100 non-null    float64\n",
      " 17  gen_shape-botr_curv       100 non-null    float64\n",
      " 18  gen_shape-botr_int        100 non-null    object \n",
      " 19  gen_shape-botr_vol        100 non-null    float64\n",
      " 20  gen_shape-midl_curv       100 non-null    float64\n",
      " 21  gen_shape-midl_int        100 non-null    object \n",
      " 22  gen_shape-midl_vol        100 non-null    float64\n",
      " 23  gen_shape-midr_curv       100 non-null    float64\n",
      " 24  gen_shape-midr_int        100 non-null    object \n",
      " 25  gen_shape-midr_vol        100 non-null    float64\n",
      " 26  gen_shape-top_curv        100 non-null    float64\n",
      " 27  gen_shape-top_int         100 non-null    object \n",
      " 28  gen_shape-top_vol         100 non-null    float64\n",
      " 29  gen_vent_thick            100 non-null    float64\n",
      " 30  lblbin_bvol-vthick        100 non-null    bool   \n",
      " 31  lblbin_stop-smidl         100 non-null    bool   \n",
      " 32  lblbin_stop-smidl-bvol    100 non-null    bool   \n",
      " 33  lblbin_stop-smidl-vthick  100 non-null    bool   \n",
      "dtypes: bool(4), float64(22), object(8)\n",
      "memory usage: 24.6+ KB\n"
     ]
    }
   ],
   "source": [
    "df = pd.read_csv(glob(\"toybrains/toybrains_n*.csv\")[0]).set_index('subjectID')\n",
    "# sort dataframe cols by column name\n",
    "df = df.reindex(sorted(df.columns), axis=1)\n",
    "df.info()"
   ]
  },
  {
   "cell_type": "code",
   "execution_count": 108,
   "id": "b726bbdf-5e2b-4830-892f-dfc31ae68d2d",
   "metadata": {
    "tags": []
   },
   "outputs": [],
   "source": [
    "from  matplotlib.ticker import FuncFormatter\n",
    "from matplotlib.colors import is_color_like\n",
    "from colordict import ColorDict, rgb_to_hex\n",
    "\n",
    "def plot_col_dists(df, title=''):\n",
    "    \n",
    "    # convert column to appropriate dtype and then decide the plottype\n",
    "    df_copy = df.reindex(sorted(df.columns), axis=1).copy()\n",
    "    cols = df_copy.columns \n",
    "\n",
    "    plottypes = {}\n",
    "    for col in cols:\n",
    "        if df_copy[col].nunique()==2:\n",
    "            plottypes.update({col:'pie'})\n",
    "        elif df_copy[col].dtype.name == 'object' or isinstance(df_copy.loc[0,col], str):\n",
    "            plottypes.update({col:'bar'})\n",
    "        elif 'float' in df_copy[col].dtype.name:\n",
    "            # round the floats to 2 decimal\n",
    "            df_copy[col] = df[col].round(1)\n",
    "            # use hist plot if there are more than 10 states  \n",
    "            if df_copy[col].nunique()<10:\n",
    "                plottypes.update({col:'bar'})\n",
    "            else:\n",
    "                plottypes.update({col:'hist'})\n",
    "            # if all values are int then covert col to int dtype\n",
    "            if df_copy[col].dropna().apply(float.is_integer).all():\n",
    "                df_copy[col] = df_copy[col].astype(int)\n",
    "            \n",
    "    # re-sort dataframe cols by dtypes\n",
    "    cols = df_copy.dtypes.sort_values().index \n",
    "    # decide the number of rows and columns in the plot\n",
    "    subplot_ncols = 5 if len(cols)>=5 else len(cols)\n",
    "    subplot_nrows = len(cols)//subplot_ncols\n",
    "    subplot_overflows = len(cols)%subplot_ncols\n",
    "    if subplot_overflows!=0: subplot_nrows+=1\n",
    "    # create subplots set attributes\n",
    "    f,axes = plt.subplots(subplot_nrows, subplot_ncols, \n",
    "                          figsize=(4*subplot_ncols,3*subplot_nrows))\n",
    "    if title: f.suptitle(title, fontsize=16)\n",
    "    f.supylabel(\"Count\")\n",
    "    \n",
    "    for i, ax in enumerate(axes.ravel()):\n",
    "        col = cols[i]\n",
    "        plottype = plottypes[col]\n",
    "        # print('[D]',col, plottypes[col])\n",
    "        if i >= subplot_ncols*(len(cols)//subplot_ncols) + subplot_overflows:\n",
    "            ax.axis('off')\n",
    "        elif plottype == 'bar':\n",
    "            # if the columns represent colors then use the same colors for the bar plot\n",
    "            if isinstance(df_copy.loc[0,col], str) and is_color_like(df_copy.loc[0,col]):\n",
    "                colormap = ColorDict()\n",
    "                colors = [rgb_to_hex(colormap[c]) for c in df_copy[col].unique().tolist()]\n",
    "\n",
    "                sns.countplot(data=df_copy, x=col, ax=ax, palette=colors)\n",
    "            else:\n",
    "                sns.countplot(data=df_copy, x=col, ax=ax)\n",
    "            # format the xtick labels \n",
    "            if 'int' in df_copy[col].dtype.name:\n",
    "                ax.xaxis.set_major_formatter(FuncFormatter(lambda x, _: int(x)))\n",
    "            elif isinstance(df_copy.loc[0,col], str):\n",
    "                ax.set_xticklabels(ax.get_xticklabels(), rotation=90)\n",
    "        elif plottype == 'hist':\n",
    "            sns.histplot(data=df_copy, x=col, ax=ax)\n",
    "        elif plottype == 'pie':\n",
    "            cnt = df_copy[col].value_counts().sort_index()\n",
    "            ax.pie(cnt, labels=cnt.index,\n",
    "                    colors=sns.color_palette('pastel'), autopct='%.0f%%')\n",
    "            \n",
    "        ax.set_title(col)\n",
    "        ax.set_xlabel(None)\n",
    "\n",
    "    plt.tight_layout()"
   ]
  },
  {
   "cell_type": "markdown",
   "id": "a762b555-0438-4499-ac52-4b383bd09518",
   "metadata": {},
   "source": [
    "### Distribution of covariates"
   ]
  },
  {
   "cell_type": "code",
   "execution_count": 109,
   "id": "6b3b775e-4ceb-4f1e-9840-d0375431cf77",
   "metadata": {
    "tags": []
   },
   "outputs": [
    {
     "data": {
      "image/png": "[encoded data removed]",
      "text/plain": [
       "<Figure size 1200x300 with 3 Axes>"
      ]
     },
     "metadata": {},
     "output_type": "display_data"
    }
   ],
   "source": [
    "# get all column names starting with 'gen_'\n",
    "plot_col_dists(df.filter(regex='^cov_'), title=\"Covariates / confounders :\")\n",
    "plt.show()"
   ]
  },
  {
   "cell_type": "markdown",
   "id": "ca8d4e64-c1d2-407f-9f5f-444c126b13e2",
   "metadata": {},
   "source": [
    "#### Distribution of labels"
   ]
  },
  {
   "cell_type": "code",
   "execution_count": 110,
   "id": "e511359e-69bf-4d6e-826a-e6eb38b13981",
   "metadata": {
    "tags": []
   },
   "outputs": [
    {
     "data": {
      "image/png": "[encoded data removed]",
      "text/plain": [
       "<Figure size 1600x300 with 4 Axes>"
      ]
     },
     "metadata": {},
     "output_type": "display_data"
    }
   ],
   "source": [
    "# get all column names starting with 'gen_'\n",
    "plot_col_dists(df.filter(regex='^lbl'), title=\"Labels :\")\n",
    "plt.show()"
   ]
  },
  {
   "cell_type": "markdown",
   "id": "49307f68-091b-4752-93d4-bc7f68e65699",
   "metadata": {},
   "source": [
    "### Distribution of generative params\n",
    "\n",
    "TODO: the color names should be sorted in the bar plot's X axis"
   ]
  },
  {
   "cell_type": "code",
   "execution_count": 111,
   "id": "b4ea31ec-8b84-40b1-87c7-9c9fa42b4f2b",
   "metadata": {
    "tags": []
   },
   "outputs": [
    {
     "data": {
      "image/png": "[encoded data removed]",
      "text/plain": [
       "<Figure size 2000x1200 with 20 Axes>"
      ]
     },
     "metadata": {},
     "output_type": "display_data"
    }
   ],
   "source": [
    "# get all column names starting with 'gen_'\n",
    "plot_col_dists(df.filter(regex='^gen_'), title=\"Parameters used to generate the images :\")\n",
    "plt.show()"
   ]
  },
  {
   "cell_type": "markdown",
   "id": "267ba4e3-eba1-4f4e-95fc-ee287e06c671",
   "metadata": {},
   "source": [
    "### Plot distribution across cov values and label groups\n",
    "TODO: use hue to show different label states for the same distribution"
   ]
  },
  {
   "cell_type": "code",
   "execution_count": null,
   "id": "353eba5f-7c7b-49f8-a3ad-926551ac4fb9",
   "metadata": {
    "tags": []
   },
   "outputs": [],
   "source": [
    "sns.countplot(data=df, x=\"gen_brain_vol-radmajor\", hue=\"cov_sex\")\n",
    "plt.show()\n",
    "sns.countplot(data=df, x=\"gen_brain_int\", hue=\"cov_site\")\n",
    "plt.show()\n",
    "sns.histplot(data=df, x=\"cov_age\", hue=\"gen_vent_thick\")\n",
    "plt.show()"
   ]
  },
  {
   "cell_type": "markdown",
   "id": "c8a1666c-673d-4356-858b-a46332dd5c83",
   "metadata": {},
   "source": [
    "### Images"
   ]
  },
  {
   "cell_type": "code",
   "execution_count": null,
   "id": "c1364b6d-54bd-4d58-81cd-e8b4aa935648",
   "metadata": {
    "tags": []
   },
   "outputs": [],
   "source": [
    "def show_images(img_files, n_rows=1):\n",
    "    assert isinstance(img_files[0], (str,np.ndarray, np.generic)), \"img_files \\\n",
    "should either me a string path to the image files or numpy arrays\"   \n",
    "    n_cols = 10\n",
    "    f, axes = plt.subplots(n_rows, n_cols, figsize=(n_cols,n_rows), \n",
    "                           sharex=True, sharey=True)\n",
    "    # f.suptitle(\"Toy brains dataset:\")\n",
    "    axes = axes.ravel()\n",
    "\n",
    "    for i, img in enumerate(img_files):\n",
    "        if i<len(axes):\n",
    "            if isinstance(img, str):\n",
    "                img = mpimg.imread(img)\n",
    "            ax = axes[i]\n",
    "            ax.imshow(img)\n",
    "            ax.axis('off')\n",
    "\n",
    "    plt.tight_layout()\n",
    "    plt.show()"
   ]
  },
  {
   "cell_type": "code",
   "execution_count": null,
   "id": "cff437e2-c44c-4a16-958a-b02529200c61",
   "metadata": {
    "tags": []
   },
   "outputs": [],
   "source": [
    "img_files = sorted(glob(\"shapes/images/*.jpg\"))\n",
    "\n",
    "show_images(img_files=img_files, n_rows=1)"
   ]
  },
  {
   "cell_type": "markdown",
   "id": "c189103b-f8e3-4c8c-8c1e-82d33ddb9c59",
   "metadata": {},
   "source": [
    "#### All generative variables\n",
    "1. 'brain_vol' # total volume of the brain ranging between 1633 to 2261 [(S/2-12)*(S/2-6) to (S/2-8)*(S/2-2)]\n",
    "2. 'brain_thick' # the thickness of the blue border around the brain ranging between 1 to 4\n",
    "3. 'brain_int', # the intensity or brightness of the brain region ranging between 'greyness0' to 'greyness4'\n",
    "\n",
    "#### Confounds\n",
    "2. ~`age ~ brain_vol & vent_thick` such that `up(age) -> up(vent_thick)` `up(age) -> down(brain_vol)`~\n",
    "3. ~`sex ~ brain_vol` such that `(sex=Male) -> up(brain_vol)`~\n",
    "4. ~`site ~ outline_color & brain_int`~\n",
    "4. Find citations for (2) and (3)\n",
    "5. add lesions? \n",
    "6. ~add a shape {triangle, square, pentagon, hexagon, ..} at top bottom right and left~\n",
    "7. check the color gradients make sense\n",
    "\n",
    "#### Labels\n",
    "1. purely based on 4 shapes (combinations that are linear and non-linear)\n",
    "2. partially based on confounder + partially shapes : see the idea from MDN\n",
    "3. purely based on confounder pathway\n",
    "4. Create a brain_mask and save it as a label"
   ]
  },
  {
   "cell_type": "code",
   "execution_count": null,
   "id": "f963a877-f98b-4af5-9bc0-7a7768e0dfbf",
   "metadata": {
    "tags": []
   },
   "outputs": [],
   "source": [
    "from PIL import Image, ImageDraw\n",
    "S=200\n",
    "# Create a new image with a black background\n",
    "img = Image.new(\"RGB\", (S, S), color=\"black\")\n",
    "\n",
    "# Draw two arcs at the center of the image, facing opposite to each other and touching at the center\n",
    "draw = ImageDraw.Draw(img)\n",
    "x_off, y_off= 0,0\n",
    "xy_r = (S*.2, S*.2, S*.5, S*.5)\n",
    "xy_l = (S*.5, S*.2, S*.8, S*.5)\n",
    "print(xy_r, xy_l)\n",
    "draw.arc(xy_r, start=300, end=100,   fill=\"red\",  width=8)\n",
    "draw.arc(xy_l, start=-300, end=-100, fill=\"blue\", width=8)\n",
    "\n",
    "# Show the image\n",
    "img"
   ]
  }
 ],
 "metadata": {
  "kernelspec": {
   "display_name": "Python 3.8 (XPython)",
   "language": "python",
   "name": "xpython"
  },
  "language_info": {
   "file_extension": ".py",
   "mimetype": "text/x-python",
   "name": "python",
   "version": "3.8.16"
  }
 },
 "nbformat": 4,
 "nbformat_minor": 5
}
